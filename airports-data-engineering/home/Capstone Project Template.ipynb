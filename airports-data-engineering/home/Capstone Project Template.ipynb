{
 "cells": [
  {
   "cell_type": "markdown",
   "metadata": {
    "editable": true
   },
   "source": [
    "# Project Title\n",
    "### Data Engineering Capstone Project\n",
    "\n",
    "#### Project Summary\n",
    "--describe your project at a high level--\n",
    "\n",
    "The project follows the follow steps:\n",
    "* Step 1: Scope the Project and Gather Data\n",
    "* Step 2: Explore and Assess the Data\n",
    "* Step 3: Define the Data Model\n",
    "* Step 4: Run ETL to Model the Data\n",
    "* Step 5: Complete Project Write Up"
   ]
  },
  {
   "cell_type": "code",
   "execution_count": 96,
   "metadata": {
    "editable": true
   },
   "outputs": [],
   "source": [
    "# Do all imports and installs here\n",
    "import pandas as pd\n",
    "import numpy as np\n",
    "from pyspark.sql.functions import (\n",
    "    udf,\n",
    "    to_date,\n",
    "    col,\n",
    "    date_format,\n",
    "    isnan,\n",
    "    when,\n",
    "    count,\n",
    "    create_map,\n",
    "    lit,\n",
    "    monotonically_increasing_id,\n",
    "    month,\n",
    ")\n",
    "\n",
    "from pyspark.sql.types import (\n",
    "    StructType,\n",
    "    StructField,\n",
    "    StringType,\n",
    "    IntegerType,\n",
    "    DoubleType,\n",
    "    LongType,\n",
    "    DateType,\n",
    ")\n",
    "from datetime import datetime, timedelta\n",
    "from itertools import chain\n",
    "from pyspark.sql import SparkSession\n",
    "import os\n",
    "import difflib\n",
    "import configparser\n",
    "import helper_data\n",
    "\n",
    "\n",
    "config = configparser.ConfigParser()\n",
    "config.read(\"dl.cfg\")\n",
    "\n",
    "os.environ[\"AWS_ACCESS_KEY_ID\"] = config[\"AWS\"][\"AWS_ACCESS_KEY_ID\"]\n",
    "os.environ[\"AWS_SECRET_ACCESS_KEY\"] = config[\"AWS\"][\"AWS_SECRET_ACCESS_KEY\"]\n",
    "\n",
    "pd.set_option(\"display.max_columns\", None)\n",
    "pd.set_option(\"display.max_colwidth\", -1)"
   ]
  },
  {
   "cell_type": "markdown",
   "metadata": {
    "editable": true
   },
   "source": [
    "### Step 1: Scope the Project and Gather Data\n",
    "\n",
    "#### Scope \n",
    "\n",
    "Non-immigrant data is a highly unclean data, yet has many valuable information. In addition, there are other interesting data sets such as airports, world temperatures and us-demographics that can answer many questions about non-immigrant interest in visiting the US such as or the nature of the united states population and attractions:\n",
    "- Which cities do non-immigrants prefer?\n",
    "- What's the nature of the cities they visit?\n",
    "- Are people of specific countries prefer certain states or cities based on its climate or social compositions .e.g. race?\n",
    "\n",
    "In this project, I try to clean the data as much as I can and storing the cleaned data at a data lake with a better data model to enable data analysts and data scientists to use the data with less time consuming spent in tyding and cleaning the data.\n",
    "\n",
    "#### Describe and Gather Data "
   ]
  },
  {
   "cell_type": "markdown",
   "metadata": {
    "editable": true
   },
   "source": [
    "#### Data Description"
   ]
  },
  {
   "cell_type": "markdown",
   "metadata": {
    "editable": true
   },
   "source": [
    "##### I94 Immigration Data\n",
    "\n",
    "-  This data comes from the US National Tourism and Trade Office. A data dictionary is included in the workspace. This is where the data comes from. There's a sample file so you can take a look at the data in csv format before reading it all in. You do not have to use the entire dataset, just use what you need to accomplish the goal you set at the beginning of the project.\n",
    "\n",
    "##### Important Columns Definitions:\n",
    "- i94cit: non-immigrant citizenship.\n",
    "- i94res: non-immigrant residency.\n",
    "- i94port: non-immigrant port of entry.\n",
    "- arrdate: non-immigrant arrival date.\n",
    "- i94mode: non-immigrant citizenship\n",
    "- i94addr: non-immigrant current address."
   ]
  },
  {
   "cell_type": "code",
   "execution_count": 2,
   "metadata": {
    "editable": true
   },
   "outputs": [
    {
     "data": {
      "text/html": [
       "<div>\n",
       "<style scoped>\n",
       "    .dataframe tbody tr th:only-of-type {\n",
       "        vertical-align: middle;\n",
       "    }\n",
       "\n",
       "    .dataframe tbody tr th {\n",
       "        vertical-align: top;\n",
       "    }\n",
       "\n",
       "    .dataframe thead th {\n",
       "        text-align: right;\n",
       "    }\n",
       "</style>\n",
       "<table border=\"1\" class=\"dataframe\">\n",
       "  <thead>\n",
       "    <tr style=\"text-align: right;\">\n",
       "      <th></th>\n",
       "      <th>Unnamed: 0</th>\n",
       "      <th>cicid</th>\n",
       "      <th>i94yr</th>\n",
       "      <th>i94mon</th>\n",
       "      <th>i94cit</th>\n",
       "      <th>i94res</th>\n",
       "      <th>i94port</th>\n",
       "      <th>arrdate</th>\n",
       "      <th>i94mode</th>\n",
       "      <th>i94addr</th>\n",
       "      <th>depdate</th>\n",
       "      <th>i94bir</th>\n",
       "      <th>i94visa</th>\n",
       "      <th>count</th>\n",
       "      <th>dtadfile</th>\n",
       "      <th>visapost</th>\n",
       "      <th>occup</th>\n",
       "      <th>entdepa</th>\n",
       "      <th>entdepd</th>\n",
       "      <th>entdepu</th>\n",
       "      <th>matflag</th>\n",
       "      <th>biryear</th>\n",
       "      <th>dtaddto</th>\n",
       "      <th>gender</th>\n",
       "      <th>insnum</th>\n",
       "      <th>airline</th>\n",
       "      <th>admnum</th>\n",
       "      <th>fltno</th>\n",
       "      <th>visatype</th>\n",
       "    </tr>\n",
       "  </thead>\n",
       "  <tbody>\n",
       "    <tr>\n",
       "      <th>0</th>\n",
       "      <td>2027561</td>\n",
       "      <td>4084316.0</td>\n",
       "      <td>2016.0</td>\n",
       "      <td>4.0</td>\n",
       "      <td>209.0</td>\n",
       "      <td>209.0</td>\n",
       "      <td>HHW</td>\n",
       "      <td>20566.0</td>\n",
       "      <td>1.0</td>\n",
       "      <td>HI</td>\n",
       "      <td>20573.0</td>\n",
       "      <td>61.0</td>\n",
       "      <td>2.0</td>\n",
       "      <td>1.0</td>\n",
       "      <td>20160422</td>\n",
       "      <td>NaN</td>\n",
       "      <td>NaN</td>\n",
       "      <td>G</td>\n",
       "      <td>O</td>\n",
       "      <td>NaN</td>\n",
       "      <td>M</td>\n",
       "      <td>1955.0</td>\n",
       "      <td>07202016</td>\n",
       "      <td>F</td>\n",
       "      <td>NaN</td>\n",
       "      <td>JL</td>\n",
       "      <td>5.658267e+10</td>\n",
       "      <td>00782</td>\n",
       "      <td>WT</td>\n",
       "    </tr>\n",
       "    <tr>\n",
       "      <th>1</th>\n",
       "      <td>2171295</td>\n",
       "      <td>4422636.0</td>\n",
       "      <td>2016.0</td>\n",
       "      <td>4.0</td>\n",
       "      <td>582.0</td>\n",
       "      <td>582.0</td>\n",
       "      <td>MCA</td>\n",
       "      <td>20567.0</td>\n",
       "      <td>1.0</td>\n",
       "      <td>TX</td>\n",
       "      <td>20568.0</td>\n",
       "      <td>26.0</td>\n",
       "      <td>2.0</td>\n",
       "      <td>1.0</td>\n",
       "      <td>20160423</td>\n",
       "      <td>MTR</td>\n",
       "      <td>NaN</td>\n",
       "      <td>G</td>\n",
       "      <td>R</td>\n",
       "      <td>NaN</td>\n",
       "      <td>M</td>\n",
       "      <td>1990.0</td>\n",
       "      <td>10222016</td>\n",
       "      <td>M</td>\n",
       "      <td>NaN</td>\n",
       "      <td>*GA</td>\n",
       "      <td>9.436200e+10</td>\n",
       "      <td>XBLNG</td>\n",
       "      <td>B2</td>\n",
       "    </tr>\n",
       "    <tr>\n",
       "      <th>2</th>\n",
       "      <td>589494</td>\n",
       "      <td>1195600.0</td>\n",
       "      <td>2016.0</td>\n",
       "      <td>4.0</td>\n",
       "      <td>148.0</td>\n",
       "      <td>112.0</td>\n",
       "      <td>OGG</td>\n",
       "      <td>20551.0</td>\n",
       "      <td>1.0</td>\n",
       "      <td>FL</td>\n",
       "      <td>20571.0</td>\n",
       "      <td>76.0</td>\n",
       "      <td>2.0</td>\n",
       "      <td>1.0</td>\n",
       "      <td>20160407</td>\n",
       "      <td>NaN</td>\n",
       "      <td>NaN</td>\n",
       "      <td>G</td>\n",
       "      <td>O</td>\n",
       "      <td>NaN</td>\n",
       "      <td>M</td>\n",
       "      <td>1940.0</td>\n",
       "      <td>07052016</td>\n",
       "      <td>M</td>\n",
       "      <td>NaN</td>\n",
       "      <td>LH</td>\n",
       "      <td>5.578047e+10</td>\n",
       "      <td>00464</td>\n",
       "      <td>WT</td>\n",
       "    </tr>\n",
       "  </tbody>\n",
       "</table>\n",
       "</div>"
      ],
      "text/plain": [
       "   Unnamed: 0      cicid   i94yr  i94mon  i94cit  i94res i94port  arrdate  \\\n",
       "0  2027561     4084316.0  2016.0  4.0     209.0   209.0   HHW     20566.0   \n",
       "1  2171295     4422636.0  2016.0  4.0     582.0   582.0   MCA     20567.0   \n",
       "2  589494      1195600.0  2016.0  4.0     148.0   112.0   OGG     20551.0   \n",
       "\n",
       "   i94mode i94addr  depdate  i94bir  i94visa  count  dtadfile visapost occup  \\\n",
       "0  1.0      HI      20573.0  61.0    2.0      1.0    20160422  NaN      NaN    \n",
       "1  1.0      TX      20568.0  26.0    2.0      1.0    20160423  MTR      NaN    \n",
       "2  1.0      FL      20571.0  76.0    2.0      1.0    20160407  NaN      NaN    \n",
       "\n",
       "  entdepa entdepd  entdepu matflag  biryear   dtaddto gender  insnum airline  \\\n",
       "0  G       O      NaN       M       1955.0   07202016  F     NaN      JL       \n",
       "1  G       R      NaN       M       1990.0   10222016  M     NaN      *GA      \n",
       "2  G       O      NaN       M       1940.0   07052016  M     NaN      LH       \n",
       "\n",
       "         admnum  fltno visatype  \n",
       "0  5.658267e+10  00782  WT       \n",
       "1  9.436200e+10  XBLNG  B2       \n",
       "2  5.578047e+10  00464  WT       "
      ]
     },
     "execution_count": 2,
     "metadata": {},
     "output_type": "execute_result"
    }
   ],
   "source": [
    "# Read in the data here\n",
    "df = pd.read_csv('immigration_data_sample.csv')\n",
    "df.head(3)"
   ]
  },
  {
   "cell_type": "code",
   "execution_count": 3,
   "metadata": {
    "editable": true
   },
   "outputs": [
    {
     "name": "stdout",
     "output_type": "stream",
     "text": [
      "<class 'pandas.core.frame.DataFrame'>\n",
      "RangeIndex: 1000 entries, 0 to 999\n",
      "Data columns (total 29 columns):\n",
      "Unnamed: 0    1000 non-null int64\n",
      "cicid         1000 non-null float64\n",
      "i94yr         1000 non-null float64\n",
      "i94mon        1000 non-null float64\n",
      "i94cit        1000 non-null float64\n",
      "i94res        1000 non-null float64\n",
      "i94port       1000 non-null object\n",
      "arrdate       1000 non-null float64\n",
      "i94mode       1000 non-null float64\n",
      "i94addr       941 non-null object\n",
      "depdate       951 non-null float64\n",
      "i94bir        1000 non-null float64\n",
      "i94visa       1000 non-null float64\n",
      "count         1000 non-null float64\n",
      "dtadfile      1000 non-null int64\n",
      "visapost      382 non-null object\n",
      "occup         4 non-null object\n",
      "entdepa       1000 non-null object\n",
      "entdepd       954 non-null object\n",
      "entdepu       0 non-null float64\n",
      "matflag       954 non-null object\n",
      "biryear       1000 non-null float64\n",
      "dtaddto       1000 non-null object\n",
      "gender        859 non-null object\n",
      "insnum        35 non-null float64\n",
      "airline       967 non-null object\n",
      "admnum        1000 non-null float64\n",
      "fltno         992 non-null object\n",
      "visatype      1000 non-null object\n",
      "dtypes: float64(15), int64(2), object(12)\n",
      "memory usage: 226.6+ KB\n"
     ]
    }
   ],
   "source": [
    "df.info()"
   ]
  },
  {
   "cell_type": "code",
   "execution_count": 4,
   "metadata": {
    "editable": true
   },
   "outputs": [
    {
     "data": {
      "text/html": [
       "<div>\n",
       "<style scoped>\n",
       "    .dataframe tbody tr th:only-of-type {\n",
       "        vertical-align: middle;\n",
       "    }\n",
       "\n",
       "    .dataframe tbody tr th {\n",
       "        vertical-align: top;\n",
       "    }\n",
       "\n",
       "    .dataframe thead th {\n",
       "        text-align: right;\n",
       "    }\n",
       "</style>\n",
       "<table border=\"1\" class=\"dataframe\">\n",
       "  <thead>\n",
       "    <tr style=\"text-align: right;\">\n",
       "      <th></th>\n",
       "      <th>Unnamed: 0</th>\n",
       "      <th>cicid</th>\n",
       "      <th>i94yr</th>\n",
       "      <th>i94mon</th>\n",
       "      <th>i94cit</th>\n",
       "      <th>i94res</th>\n",
       "      <th>arrdate</th>\n",
       "      <th>i94mode</th>\n",
       "      <th>depdate</th>\n",
       "      <th>i94bir</th>\n",
       "      <th>i94visa</th>\n",
       "      <th>count</th>\n",
       "      <th>dtadfile</th>\n",
       "      <th>entdepu</th>\n",
       "      <th>biryear</th>\n",
       "      <th>insnum</th>\n",
       "      <th>admnum</th>\n",
       "    </tr>\n",
       "  </thead>\n",
       "  <tbody>\n",
       "    <tr>\n",
       "      <th>count</th>\n",
       "      <td>1.000000e+03</td>\n",
       "      <td>1.000000e+03</td>\n",
       "      <td>1000.0</td>\n",
       "      <td>1000.0</td>\n",
       "      <td>1000.000000</td>\n",
       "      <td>1000.00000</td>\n",
       "      <td>1000.000000</td>\n",
       "      <td>1000.000000</td>\n",
       "      <td>951.000000</td>\n",
       "      <td>1000.000000</td>\n",
       "      <td>1000.000000</td>\n",
       "      <td>1000.0</td>\n",
       "      <td>1.000000e+03</td>\n",
       "      <td>0.0</td>\n",
       "      <td>1000.000000</td>\n",
       "      <td>35.000000</td>\n",
       "      <td>1.000000e+03</td>\n",
       "    </tr>\n",
       "    <tr>\n",
       "      <th>mean</th>\n",
       "      <td>1.542097e+06</td>\n",
       "      <td>3.040461e+06</td>\n",
       "      <td>2016.0</td>\n",
       "      <td>4.0</td>\n",
       "      <td>302.928000</td>\n",
       "      <td>298.26200</td>\n",
       "      <td>20559.680000</td>\n",
       "      <td>1.078000</td>\n",
       "      <td>20575.037855</td>\n",
       "      <td>42.382000</td>\n",
       "      <td>1.859000</td>\n",
       "      <td>1.0</td>\n",
       "      <td>2.016042e+07</td>\n",
       "      <td>NaN</td>\n",
       "      <td>1973.618000</td>\n",
       "      <td>3826.857143</td>\n",
       "      <td>6.937237e+10</td>\n",
       "    </tr>\n",
       "    <tr>\n",
       "      <th>std</th>\n",
       "      <td>9.152879e+05</td>\n",
       "      <td>1.799818e+06</td>\n",
       "      <td>0.0</td>\n",
       "      <td>0.0</td>\n",
       "      <td>206.485285</td>\n",
       "      <td>202.12039</td>\n",
       "      <td>8.995027</td>\n",
       "      <td>0.485955</td>\n",
       "      <td>24.211234</td>\n",
       "      <td>17.903424</td>\n",
       "      <td>0.386353</td>\n",
       "      <td>0.0</td>\n",
       "      <td>4.951657e+01</td>\n",
       "      <td>NaN</td>\n",
       "      <td>17.903424</td>\n",
       "      <td>221.742583</td>\n",
       "      <td>2.338134e+10</td>\n",
       "    </tr>\n",
       "    <tr>\n",
       "      <th>min</th>\n",
       "      <td>1.092500e+04</td>\n",
       "      <td>1.320800e+04</td>\n",
       "      <td>2016.0</td>\n",
       "      <td>4.0</td>\n",
       "      <td>103.000000</td>\n",
       "      <td>103.00000</td>\n",
       "      <td>20545.000000</td>\n",
       "      <td>1.000000</td>\n",
       "      <td>20547.000000</td>\n",
       "      <td>1.000000</td>\n",
       "      <td>1.000000</td>\n",
       "      <td>1.0</td>\n",
       "      <td>2.016040e+07</td>\n",
       "      <td>NaN</td>\n",
       "      <td>1923.000000</td>\n",
       "      <td>3468.000000</td>\n",
       "      <td>0.000000e+00</td>\n",
       "    </tr>\n",
       "    <tr>\n",
       "      <th>25%</th>\n",
       "      <td>7.214422e+05</td>\n",
       "      <td>1.412170e+06</td>\n",
       "      <td>2016.0</td>\n",
       "      <td>4.0</td>\n",
       "      <td>135.000000</td>\n",
       "      <td>131.00000</td>\n",
       "      <td>20552.000000</td>\n",
       "      <td>1.000000</td>\n",
       "      <td>20561.000000</td>\n",
       "      <td>30.750000</td>\n",
       "      <td>2.000000</td>\n",
       "      <td>1.0</td>\n",
       "      <td>2.016041e+07</td>\n",
       "      <td>NaN</td>\n",
       "      <td>1961.000000</td>\n",
       "      <td>3668.000000</td>\n",
       "      <td>5.599301e+10</td>\n",
       "    </tr>\n",
       "    <tr>\n",
       "      <th>50%</th>\n",
       "      <td>1.494568e+06</td>\n",
       "      <td>2.941176e+06</td>\n",
       "      <td>2016.0</td>\n",
       "      <td>4.0</td>\n",
       "      <td>213.000000</td>\n",
       "      <td>213.00000</td>\n",
       "      <td>20560.000000</td>\n",
       "      <td>1.000000</td>\n",
       "      <td>20570.000000</td>\n",
       "      <td>42.000000</td>\n",
       "      <td>2.000000</td>\n",
       "      <td>1.0</td>\n",
       "      <td>2.016042e+07</td>\n",
       "      <td>NaN</td>\n",
       "      <td>1974.000000</td>\n",
       "      <td>3887.000000</td>\n",
       "      <td>5.931477e+10</td>\n",
       "    </tr>\n",
       "    <tr>\n",
       "      <th>75%</th>\n",
       "      <td>2.360901e+06</td>\n",
       "      <td>4.694151e+06</td>\n",
       "      <td>2016.0</td>\n",
       "      <td>4.0</td>\n",
       "      <td>438.000000</td>\n",
       "      <td>438.00000</td>\n",
       "      <td>20567.250000</td>\n",
       "      <td>1.000000</td>\n",
       "      <td>20580.000000</td>\n",
       "      <td>55.000000</td>\n",
       "      <td>2.000000</td>\n",
       "      <td>1.0</td>\n",
       "      <td>2.016042e+07</td>\n",
       "      <td>NaN</td>\n",
       "      <td>1985.250000</td>\n",
       "      <td>3943.000000</td>\n",
       "      <td>9.343623e+10</td>\n",
       "    </tr>\n",
       "    <tr>\n",
       "      <th>max</th>\n",
       "      <td>3.095749e+06</td>\n",
       "      <td>6.061994e+06</td>\n",
       "      <td>2016.0</td>\n",
       "      <td>4.0</td>\n",
       "      <td>746.000000</td>\n",
       "      <td>696.00000</td>\n",
       "      <td>20574.000000</td>\n",
       "      <td>9.000000</td>\n",
       "      <td>20715.000000</td>\n",
       "      <td>93.000000</td>\n",
       "      <td>3.000000</td>\n",
       "      <td>1.0</td>\n",
       "      <td>2.016080e+07</td>\n",
       "      <td>NaN</td>\n",
       "      <td>2015.000000</td>\n",
       "      <td>4686.000000</td>\n",
       "      <td>9.502151e+10</td>\n",
       "    </tr>\n",
       "  </tbody>\n",
       "</table>\n",
       "</div>"
      ],
      "text/plain": [
       "         Unnamed: 0         cicid   i94yr  i94mon       i94cit      i94res  \\\n",
       "count  1.000000e+03  1.000000e+03  1000.0  1000.0  1000.000000  1000.00000   \n",
       "mean   1.542097e+06  3.040461e+06  2016.0  4.0     302.928000   298.26200    \n",
       "std    9.152879e+05  1.799818e+06  0.0     0.0     206.485285   202.12039    \n",
       "min    1.092500e+04  1.320800e+04  2016.0  4.0     103.000000   103.00000    \n",
       "25%    7.214422e+05  1.412170e+06  2016.0  4.0     135.000000   131.00000    \n",
       "50%    1.494568e+06  2.941176e+06  2016.0  4.0     213.000000   213.00000    \n",
       "75%    2.360901e+06  4.694151e+06  2016.0  4.0     438.000000   438.00000    \n",
       "max    3.095749e+06  6.061994e+06  2016.0  4.0     746.000000   696.00000    \n",
       "\n",
       "            arrdate      i94mode       depdate       i94bir      i94visa  \\\n",
       "count  1000.000000   1000.000000  951.000000    1000.000000  1000.000000   \n",
       "mean   20559.680000  1.078000     20575.037855  42.382000    1.859000      \n",
       "std    8.995027      0.485955     24.211234     17.903424    0.386353      \n",
       "min    20545.000000  1.000000     20547.000000  1.000000     1.000000      \n",
       "25%    20552.000000  1.000000     20561.000000  30.750000    2.000000      \n",
       "50%    20560.000000  1.000000     20570.000000  42.000000    2.000000      \n",
       "75%    20567.250000  1.000000     20580.000000  55.000000    2.000000      \n",
       "max    20574.000000  9.000000     20715.000000  93.000000    3.000000      \n",
       "\n",
       "        count      dtadfile  entdepu      biryear       insnum        admnum  \n",
       "count  1000.0  1.000000e+03  0.0      1000.000000  35.000000    1.000000e+03  \n",
       "mean   1.0     2.016042e+07 NaN       1973.618000  3826.857143  6.937237e+10  \n",
       "std    0.0     4.951657e+01 NaN       17.903424    221.742583   2.338134e+10  \n",
       "min    1.0     2.016040e+07 NaN       1923.000000  3468.000000  0.000000e+00  \n",
       "25%    1.0     2.016041e+07 NaN       1961.000000  3668.000000  5.599301e+10  \n",
       "50%    1.0     2.016042e+07 NaN       1974.000000  3887.000000  5.931477e+10  \n",
       "75%    1.0     2.016042e+07 NaN       1985.250000  3943.000000  9.343623e+10  \n",
       "max    1.0     2.016080e+07 NaN       2015.000000  4686.000000  9.502151e+10  "
      ]
     },
     "execution_count": 4,
     "metadata": {},
     "output_type": "execute_result"
    }
   ],
   "source": [
    "df.describe()"
   ]
  },
  {
   "cell_type": "markdown",
   "metadata": {
    "editable": true
   },
   "source": [
    "#### World Temperature Data\n",
    "\n",
    "##### Description\n",
    "- This dataset contains dated temperature data about many cities around the world.\n",
    "- The collected data date back from Nov. 1743 up to Sept. 2013.\n",
    "- Originally, this data is a file from the complete **Earth Surface Temperature Data** compiled by and featured in kaggle [here](https://www.kaggle.com/datasets/berkeleyearth/climate-change-earth-surface-temperature-data) for conducting analysis on the global temperatures to find insights considering the climate change crisis.\n",
    "\n",
    "##### Important Columns Definitions:\n",
    "- AverageTemperature: average temperate at the specified location in degrees celsius. \n",
    "- AverageTemperatureUncertainty:  95% confidence interval around the average temperature\n",
    "\n",
    ">  The uncertainty represents **95%** confidence interval in GlobalLandTemperaturesByCity.csv file is an assumption based on that confidence interval percentage calculatd in GlobalTemperatures.csv file."
   ]
  },
  {
   "cell_type": "code",
   "execution_count": 5,
   "metadata": {
    "editable": true
   },
   "outputs": [
    {
     "data": {
      "text/html": [
       "<div>\n",
       "<style scoped>\n",
       "    .dataframe tbody tr th:only-of-type {\n",
       "        vertical-align: middle;\n",
       "    }\n",
       "\n",
       "    .dataframe tbody tr th {\n",
       "        vertical-align: top;\n",
       "    }\n",
       "\n",
       "    .dataframe thead th {\n",
       "        text-align: right;\n",
       "    }\n",
       "</style>\n",
       "<table border=\"1\" class=\"dataframe\">\n",
       "  <thead>\n",
       "    <tr style=\"text-align: right;\">\n",
       "      <th></th>\n",
       "      <th>dt</th>\n",
       "      <th>AverageTemperature</th>\n",
       "      <th>AverageTemperatureUncertainty</th>\n",
       "      <th>City</th>\n",
       "      <th>Country</th>\n",
       "      <th>Latitude</th>\n",
       "      <th>Longitude</th>\n",
       "    </tr>\n",
       "  </thead>\n",
       "  <tbody>\n",
       "    <tr>\n",
       "      <th>0</th>\n",
       "      <td>1743-11-01</td>\n",
       "      <td>6.068</td>\n",
       "      <td>1.737</td>\n",
       "      <td>Århus</td>\n",
       "      <td>Denmark</td>\n",
       "      <td>57.05N</td>\n",
       "      <td>10.33E</td>\n",
       "    </tr>\n",
       "    <tr>\n",
       "      <th>1</th>\n",
       "      <td>1743-12-01</td>\n",
       "      <td>NaN</td>\n",
       "      <td>NaN</td>\n",
       "      <td>Århus</td>\n",
       "      <td>Denmark</td>\n",
       "      <td>57.05N</td>\n",
       "      <td>10.33E</td>\n",
       "    </tr>\n",
       "    <tr>\n",
       "      <th>2</th>\n",
       "      <td>1744-01-01</td>\n",
       "      <td>NaN</td>\n",
       "      <td>NaN</td>\n",
       "      <td>Århus</td>\n",
       "      <td>Denmark</td>\n",
       "      <td>57.05N</td>\n",
       "      <td>10.33E</td>\n",
       "    </tr>\n",
       "  </tbody>\n",
       "</table>\n",
       "</div>"
      ],
      "text/plain": [
       "           dt  AverageTemperature  AverageTemperatureUncertainty   City  \\\n",
       "0  1743-11-01  6.068               1.737                          Århus   \n",
       "1  1743-12-01 NaN                 NaN                             Århus   \n",
       "2  1744-01-01 NaN                 NaN                             Århus   \n",
       "\n",
       "   Country Latitude Longitude  \n",
       "0  Denmark  57.05N   10.33E    \n",
       "1  Denmark  57.05N   10.33E    \n",
       "2  Denmark  57.05N   10.33E    "
      ]
     },
     "execution_count": 5,
     "metadata": {},
     "output_type": "execute_result"
    }
   ],
   "source": [
    "temp_df = pd.read_csv('GlobalLandTemperaturesByCity.csv')\n",
    "temp_df.head(3)"
   ]
  },
  {
   "cell_type": "code",
   "execution_count": 6,
   "metadata": {
    "editable": true
   },
   "outputs": [
    {
     "name": "stdout",
     "output_type": "stream",
     "text": [
      "<class 'pandas.core.frame.DataFrame'>\n",
      "RangeIndex: 8599212 entries, 0 to 8599211\n",
      "Data columns (total 7 columns):\n",
      "dt                               object\n",
      "AverageTemperature               float64\n",
      "AverageTemperatureUncertainty    float64\n",
      "City                             object\n",
      "Country                          object\n",
      "Latitude                         object\n",
      "Longitude                        object\n",
      "dtypes: float64(2), object(5)\n",
      "memory usage: 459.2+ MB\n"
     ]
    }
   ],
   "source": [
    "temp_df.info()"
   ]
  },
  {
   "cell_type": "code",
   "execution_count": 7,
   "metadata": {
    "editable": true
   },
   "outputs": [
    {
     "data": {
      "text/html": [
       "<div>\n",
       "<style scoped>\n",
       "    .dataframe tbody tr th:only-of-type {\n",
       "        vertical-align: middle;\n",
       "    }\n",
       "\n",
       "    .dataframe tbody tr th {\n",
       "        vertical-align: top;\n",
       "    }\n",
       "\n",
       "    .dataframe thead th {\n",
       "        text-align: right;\n",
       "    }\n",
       "</style>\n",
       "<table border=\"1\" class=\"dataframe\">\n",
       "  <thead>\n",
       "    <tr style=\"text-align: right;\">\n",
       "      <th></th>\n",
       "      <th>AverageTemperature</th>\n",
       "      <th>AverageTemperatureUncertainty</th>\n",
       "    </tr>\n",
       "  </thead>\n",
       "  <tbody>\n",
       "    <tr>\n",
       "      <th>count</th>\n",
       "      <td>8.235082e+06</td>\n",
       "      <td>8.235082e+06</td>\n",
       "    </tr>\n",
       "    <tr>\n",
       "      <th>mean</th>\n",
       "      <td>1.672743e+01</td>\n",
       "      <td>1.028575e+00</td>\n",
       "    </tr>\n",
       "    <tr>\n",
       "      <th>std</th>\n",
       "      <td>1.035344e+01</td>\n",
       "      <td>1.129733e+00</td>\n",
       "    </tr>\n",
       "    <tr>\n",
       "      <th>min</th>\n",
       "      <td>-4.270400e+01</td>\n",
       "      <td>3.400000e-02</td>\n",
       "    </tr>\n",
       "    <tr>\n",
       "      <th>25%</th>\n",
       "      <td>1.029900e+01</td>\n",
       "      <td>3.370000e-01</td>\n",
       "    </tr>\n",
       "    <tr>\n",
       "      <th>50%</th>\n",
       "      <td>1.883100e+01</td>\n",
       "      <td>5.910000e-01</td>\n",
       "    </tr>\n",
       "    <tr>\n",
       "      <th>75%</th>\n",
       "      <td>2.521000e+01</td>\n",
       "      <td>1.349000e+00</td>\n",
       "    </tr>\n",
       "    <tr>\n",
       "      <th>max</th>\n",
       "      <td>3.965100e+01</td>\n",
       "      <td>1.539600e+01</td>\n",
       "    </tr>\n",
       "  </tbody>\n",
       "</table>\n",
       "</div>"
      ],
      "text/plain": [
       "       AverageTemperature  AverageTemperatureUncertainty\n",
       "count  8.235082e+06        8.235082e+06                 \n",
       "mean   1.672743e+01        1.028575e+00                 \n",
       "std    1.035344e+01        1.129733e+00                 \n",
       "min   -4.270400e+01        3.400000e-02                 \n",
       "25%    1.029900e+01        3.370000e-01                 \n",
       "50%    1.883100e+01        5.910000e-01                 \n",
       "75%    2.521000e+01        1.349000e+00                 \n",
       "max    3.965100e+01        1.539600e+01                 "
      ]
     },
     "execution_count": 7,
     "metadata": {},
     "output_type": "execute_result"
    }
   ],
   "source": [
    "temp_df.describe()"
   ]
  },
  {
   "cell_type": "markdown",
   "metadata": {
    "editable": true
   },
   "source": [
    "#### Airport Data\n",
    "\n",
    "##### Description\n",
    "- This data contains the list of all airport codes along with their corresponding cities.\n",
    "- The data oringinally comes from **Datahub Enterprise**, more information concerning the data description and license could be found [here](https://datahub.io/core/airport-codes).\n",
    "\n",
    "##### Column Definitions\n",
    "- **ident:** ICAO airport code and some of the values are pseudo-ICAO code. [[source]](https://en.wikipedia.org/wiki/ICAO_airport_code)\n",
    "- **iso_country:** the iso code of the country name, more info provided [here](https://www.nationsonline.org/oneworld/country_code_list.htm#:~:text=The%20ISO%20country%20codes%20are,two%2Dletter%20suffixes%20such%20as%20.)\n",
    "- elevation_ft: The highest point of an airport's usable runways measured in feet from mean sea level. Look up [AIRPORT ELEVATION](https://www.faa.gov/air_traffic/publications/atpubs/pcg_html/glossary-a.html)\n",
    "- **iata_code:**  is a three-character alphanumeric geocode designating many airports and metropolitan areas around the world, defined by the International Air Transport Association (IATA), for more info. [click here](https://en.wikipedia.org/wiki/IATA_airport_code#:~:text=An%20IATA%20airport%20code%2C%20also,Air%20Transport%20Association%20(IATA).)\n",
    "\n",
    "> gps_code and local_code are not known whether they're ICAO or IATA or another form airport code because from only the head elements they're sometimes four digits and other times three digits. "
   ]
  },
  {
   "cell_type": "code",
   "execution_count": 8,
   "metadata": {
    "editable": true
   },
   "outputs": [
    {
     "data": {
      "text/html": [
       "<div>\n",
       "<style scoped>\n",
       "    .dataframe tbody tr th:only-of-type {\n",
       "        vertical-align: middle;\n",
       "    }\n",
       "\n",
       "    .dataframe tbody tr th {\n",
       "        vertical-align: top;\n",
       "    }\n",
       "\n",
       "    .dataframe thead th {\n",
       "        text-align: right;\n",
       "    }\n",
       "</style>\n",
       "<table border=\"1\" class=\"dataframe\">\n",
       "  <thead>\n",
       "    <tr style=\"text-align: right;\">\n",
       "      <th></th>\n",
       "      <th>ident</th>\n",
       "      <th>type</th>\n",
       "      <th>name</th>\n",
       "      <th>elevation_ft</th>\n",
       "      <th>continent</th>\n",
       "      <th>iso_country</th>\n",
       "      <th>iso_region</th>\n",
       "      <th>municipality</th>\n",
       "      <th>gps_code</th>\n",
       "      <th>iata_code</th>\n",
       "      <th>local_code</th>\n",
       "      <th>coordinates</th>\n",
       "    </tr>\n",
       "  </thead>\n",
       "  <tbody>\n",
       "    <tr>\n",
       "      <th>0</th>\n",
       "      <td>00A</td>\n",
       "      <td>heliport</td>\n",
       "      <td>Total Rf Heliport</td>\n",
       "      <td>11.0</td>\n",
       "      <td>NaN</td>\n",
       "      <td>US</td>\n",
       "      <td>US-PA</td>\n",
       "      <td>Bensalem</td>\n",
       "      <td>00A</td>\n",
       "      <td>NaN</td>\n",
       "      <td>00A</td>\n",
       "      <td>-74.93360137939453, 40.07080078125</td>\n",
       "    </tr>\n",
       "    <tr>\n",
       "      <th>1</th>\n",
       "      <td>00AA</td>\n",
       "      <td>small_airport</td>\n",
       "      <td>Aero B Ranch Airport</td>\n",
       "      <td>3435.0</td>\n",
       "      <td>NaN</td>\n",
       "      <td>US</td>\n",
       "      <td>US-KS</td>\n",
       "      <td>Leoti</td>\n",
       "      <td>00AA</td>\n",
       "      <td>NaN</td>\n",
       "      <td>00AA</td>\n",
       "      <td>-101.473911, 38.704022</td>\n",
       "    </tr>\n",
       "    <tr>\n",
       "      <th>2</th>\n",
       "      <td>00AK</td>\n",
       "      <td>small_airport</td>\n",
       "      <td>Lowell Field</td>\n",
       "      <td>450.0</td>\n",
       "      <td>NaN</td>\n",
       "      <td>US</td>\n",
       "      <td>US-AK</td>\n",
       "      <td>Anchor Point</td>\n",
       "      <td>00AK</td>\n",
       "      <td>NaN</td>\n",
       "      <td>00AK</td>\n",
       "      <td>-151.695999146, 59.94919968</td>\n",
       "    </tr>\n",
       "  </tbody>\n",
       "</table>\n",
       "</div>"
      ],
      "text/plain": [
       "  ident           type                  name  elevation_ft continent  \\\n",
       "0  00A   heliport       Total Rf Heliport     11.0          NaN        \n",
       "1  00AA  small_airport  Aero B Ranch Airport  3435.0        NaN        \n",
       "2  00AK  small_airport  Lowell Field          450.0         NaN        \n",
       "\n",
       "  iso_country iso_region  municipality gps_code iata_code local_code  \\\n",
       "0  US          US-PA      Bensalem      00A      NaN       00A         \n",
       "1  US          US-KS      Leoti         00AA     NaN       00AA        \n",
       "2  US          US-AK      Anchor Point  00AK     NaN       00AK        \n",
       "\n",
       "                          coordinates  \n",
       "0  -74.93360137939453, 40.07080078125  \n",
       "1  -101.473911, 38.704022              \n",
       "2  -151.695999146, 59.94919968         "
      ]
     },
     "execution_count": 8,
     "metadata": {},
     "output_type": "execute_result"
    }
   ],
   "source": [
    "airport_df = pd.read_csv('airport-codes_csv.csv')\n",
    "airport_df.head(3)"
   ]
  },
  {
   "cell_type": "code",
   "execution_count": 9,
   "metadata": {
    "editable": true
   },
   "outputs": [
    {
     "name": "stdout",
     "output_type": "stream",
     "text": [
      "<class 'pandas.core.frame.DataFrame'>\n",
      "RangeIndex: 55075 entries, 0 to 55074\n",
      "Data columns (total 12 columns):\n",
      "ident           55075 non-null object\n",
      "type            55075 non-null object\n",
      "name            55075 non-null object\n",
      "elevation_ft    48069 non-null float64\n",
      "continent       27356 non-null object\n",
      "iso_country     54828 non-null object\n",
      "iso_region      55075 non-null object\n",
      "municipality    49399 non-null object\n",
      "gps_code        41030 non-null object\n",
      "iata_code       9189 non-null object\n",
      "local_code      28686 non-null object\n",
      "coordinates     55075 non-null object\n",
      "dtypes: float64(1), object(11)\n",
      "memory usage: 5.0+ MB\n"
     ]
    }
   ],
   "source": [
    "airport_df.info()"
   ]
  },
  {
   "cell_type": "code",
   "execution_count": 10,
   "metadata": {
    "editable": true
   },
   "outputs": [
    {
     "data": {
      "text/html": [
       "<div>\n",
       "<style scoped>\n",
       "    .dataframe tbody tr th:only-of-type {\n",
       "        vertical-align: middle;\n",
       "    }\n",
       "\n",
       "    .dataframe tbody tr th {\n",
       "        vertical-align: top;\n",
       "    }\n",
       "\n",
       "    .dataframe thead th {\n",
       "        text-align: right;\n",
       "    }\n",
       "</style>\n",
       "<table border=\"1\" class=\"dataframe\">\n",
       "  <thead>\n",
       "    <tr style=\"text-align: right;\">\n",
       "      <th></th>\n",
       "      <th>elevation_ft</th>\n",
       "    </tr>\n",
       "  </thead>\n",
       "  <tbody>\n",
       "    <tr>\n",
       "      <th>count</th>\n",
       "      <td>48069.000000</td>\n",
       "    </tr>\n",
       "    <tr>\n",
       "      <th>mean</th>\n",
       "      <td>1240.789677</td>\n",
       "    </tr>\n",
       "    <tr>\n",
       "      <th>std</th>\n",
       "      <td>1602.363459</td>\n",
       "    </tr>\n",
       "    <tr>\n",
       "      <th>min</th>\n",
       "      <td>-1266.000000</td>\n",
       "    </tr>\n",
       "    <tr>\n",
       "      <th>25%</th>\n",
       "      <td>205.000000</td>\n",
       "    </tr>\n",
       "    <tr>\n",
       "      <th>50%</th>\n",
       "      <td>718.000000</td>\n",
       "    </tr>\n",
       "    <tr>\n",
       "      <th>75%</th>\n",
       "      <td>1497.000000</td>\n",
       "    </tr>\n",
       "    <tr>\n",
       "      <th>max</th>\n",
       "      <td>22000.000000</td>\n",
       "    </tr>\n",
       "  </tbody>\n",
       "</table>\n",
       "</div>"
      ],
      "text/plain": [
       "       elevation_ft\n",
       "count  48069.000000\n",
       "mean   1240.789677 \n",
       "std    1602.363459 \n",
       "min   -1266.000000 \n",
       "25%    205.000000  \n",
       "50%    718.000000  \n",
       "75%    1497.000000 \n",
       "max    22000.000000"
      ]
     },
     "execution_count": 10,
     "metadata": {},
     "output_type": "execute_result"
    }
   ],
   "source": [
    "airport_df.describe()"
   ]
  },
  {
   "cell_type": "markdown",
   "metadata": {
    "editable": true
   },
   "source": [
    "#### City Demographics Data\n",
    "\n",
    "##### Description\n",
    "- This dataset contains information about the demographics of all US cities and census-designated places with a population greater or equal to 65,000. \n",
    "- This data comes from the US Census Bureau's 2015 American Community Survey.\n",
    "\n",
    "> It's good to note that this data represents a survey in **2015** so it's good to take the year of the survey in consideration for any analysis involving dates."
   ]
  },
  {
   "cell_type": "code",
   "execution_count": 11,
   "metadata": {
    "editable": true
   },
   "outputs": [
    {
     "data": {
      "text/html": [
       "<div>\n",
       "<style scoped>\n",
       "    .dataframe tbody tr th:only-of-type {\n",
       "        vertical-align: middle;\n",
       "    }\n",
       "\n",
       "    .dataframe tbody tr th {\n",
       "        vertical-align: top;\n",
       "    }\n",
       "\n",
       "    .dataframe thead th {\n",
       "        text-align: right;\n",
       "    }\n",
       "</style>\n",
       "<table border=\"1\" class=\"dataframe\">\n",
       "  <thead>\n",
       "    <tr style=\"text-align: right;\">\n",
       "      <th></th>\n",
       "      <th>City</th>\n",
       "      <th>State</th>\n",
       "      <th>Median Age</th>\n",
       "      <th>Male Population</th>\n",
       "      <th>Female Population</th>\n",
       "      <th>Total Population</th>\n",
       "      <th>Number of Veterans</th>\n",
       "      <th>Foreign-born</th>\n",
       "      <th>Average Household Size</th>\n",
       "      <th>State Code</th>\n",
       "      <th>Race</th>\n",
       "      <th>Count</th>\n",
       "    </tr>\n",
       "  </thead>\n",
       "  <tbody>\n",
       "    <tr>\n",
       "      <th>0</th>\n",
       "      <td>Silver Spring</td>\n",
       "      <td>Maryland</td>\n",
       "      <td>33.8</td>\n",
       "      <td>40601.0</td>\n",
       "      <td>41862.0</td>\n",
       "      <td>82463</td>\n",
       "      <td>1562.0</td>\n",
       "      <td>30908.0</td>\n",
       "      <td>2.60</td>\n",
       "      <td>MD</td>\n",
       "      <td>Hispanic or Latino</td>\n",
       "      <td>25924</td>\n",
       "    </tr>\n",
       "    <tr>\n",
       "      <th>1</th>\n",
       "      <td>Quincy</td>\n",
       "      <td>Massachusetts</td>\n",
       "      <td>41.0</td>\n",
       "      <td>44129.0</td>\n",
       "      <td>49500.0</td>\n",
       "      <td>93629</td>\n",
       "      <td>4147.0</td>\n",
       "      <td>32935.0</td>\n",
       "      <td>2.39</td>\n",
       "      <td>MA</td>\n",
       "      <td>White</td>\n",
       "      <td>58723</td>\n",
       "    </tr>\n",
       "    <tr>\n",
       "      <th>2</th>\n",
       "      <td>Hoover</td>\n",
       "      <td>Alabama</td>\n",
       "      <td>38.5</td>\n",
       "      <td>38040.0</td>\n",
       "      <td>46799.0</td>\n",
       "      <td>84839</td>\n",
       "      <td>4819.0</td>\n",
       "      <td>8229.0</td>\n",
       "      <td>2.58</td>\n",
       "      <td>AL</td>\n",
       "      <td>Asian</td>\n",
       "      <td>4759</td>\n",
       "    </tr>\n",
       "  </tbody>\n",
       "</table>\n",
       "</div>"
      ],
      "text/plain": [
       "            City          State  Median Age  Male Population  \\\n",
       "0  Silver Spring  Maryland       33.8        40601.0           \n",
       "1  Quincy         Massachusetts  41.0        44129.0           \n",
       "2  Hoover         Alabama        38.5        38040.0           \n",
       "\n",
       "   Female Population  Total Population  Number of Veterans  Foreign-born  \\\n",
       "0  41862.0            82463             1562.0              30908.0        \n",
       "1  49500.0            93629             4147.0              32935.0        \n",
       "2  46799.0            84839             4819.0              8229.0         \n",
       "\n",
       "   Average Household Size State Code                Race  Count  \n",
       "0  2.60                    MD         Hispanic or Latino  25924  \n",
       "1  2.39                    MA         White               58723  \n",
       "2  2.58                    AL         Asian               4759   "
      ]
     },
     "execution_count": 11,
     "metadata": {},
     "output_type": "execute_result"
    }
   ],
   "source": [
    "city_demo_df = pd.read_csv('us-cities-demographics.csv', sep=';')\n",
    "city_demo_df.head(3)"
   ]
  },
  {
   "cell_type": "code",
   "execution_count": 12,
   "metadata": {
    "editable": true
   },
   "outputs": [],
   "source": [
    "city_demo_df.rename(columns=helper_data.us_city_demo_columns, inplace=True);"
   ]
  },
  {
   "cell_type": "code",
   "execution_count": 13,
   "metadata": {
    "editable": true
   },
   "outputs": [
    {
     "name": "stdout",
     "output_type": "stream",
     "text": [
      "<class 'pandas.core.frame.DataFrame'>\n",
      "RangeIndex: 2891 entries, 0 to 2890\n",
      "Data columns (total 12 columns):\n",
      "city                  2891 non-null object\n",
      "state                 2891 non-null object\n",
      "median_age            2891 non-null float64\n",
      "male_population       2888 non-null float64\n",
      "female_population     2888 non-null float64\n",
      "total_population      2891 non-null int64\n",
      "num_of_veterans       2878 non-null float64\n",
      "foreign_born          2878 non-null float64\n",
      "avg_household_size    2875 non-null float64\n",
      "state_code            2891 non-null object\n",
      "race                  2891 non-null object\n",
      "count                 2891 non-null int64\n",
      "dtypes: float64(6), int64(2), object(4)\n",
      "memory usage: 271.1+ KB\n"
     ]
    }
   ],
   "source": [
    "city_demo_df.info()"
   ]
  },
  {
   "cell_type": "code",
   "execution_count": 14,
   "metadata": {
    "editable": true
   },
   "outputs": [
    {
     "data": {
      "text/html": [
       "<div>\n",
       "<style scoped>\n",
       "    .dataframe tbody tr th:only-of-type {\n",
       "        vertical-align: middle;\n",
       "    }\n",
       "\n",
       "    .dataframe tbody tr th {\n",
       "        vertical-align: top;\n",
       "    }\n",
       "\n",
       "    .dataframe thead th {\n",
       "        text-align: right;\n",
       "    }\n",
       "</style>\n",
       "<table border=\"1\" class=\"dataframe\">\n",
       "  <thead>\n",
       "    <tr style=\"text-align: right;\">\n",
       "      <th></th>\n",
       "      <th>median_age</th>\n",
       "      <th>male_population</th>\n",
       "      <th>female_population</th>\n",
       "      <th>total_population</th>\n",
       "      <th>num_of_veterans</th>\n",
       "      <th>foreign_born</th>\n",
       "      <th>avg_household_size</th>\n",
       "      <th>count</th>\n",
       "    </tr>\n",
       "  </thead>\n",
       "  <tbody>\n",
       "    <tr>\n",
       "      <th>count</th>\n",
       "      <td>2891.000000</td>\n",
       "      <td>2.888000e+03</td>\n",
       "      <td>2.888000e+03</td>\n",
       "      <td>2.891000e+03</td>\n",
       "      <td>2878.000000</td>\n",
       "      <td>2.878000e+03</td>\n",
       "      <td>2875.000000</td>\n",
       "      <td>2.891000e+03</td>\n",
       "    </tr>\n",
       "    <tr>\n",
       "      <th>mean</th>\n",
       "      <td>35.494881</td>\n",
       "      <td>9.732843e+04</td>\n",
       "      <td>1.017696e+05</td>\n",
       "      <td>1.989668e+05</td>\n",
       "      <td>9367.832523</td>\n",
       "      <td>4.065360e+04</td>\n",
       "      <td>2.742543</td>\n",
       "      <td>4.896377e+04</td>\n",
       "    </tr>\n",
       "    <tr>\n",
       "      <th>std</th>\n",
       "      <td>4.401617</td>\n",
       "      <td>2.162999e+05</td>\n",
       "      <td>2.315646e+05</td>\n",
       "      <td>4.475559e+05</td>\n",
       "      <td>13211.219924</td>\n",
       "      <td>1.557491e+05</td>\n",
       "      <td>0.433291</td>\n",
       "      <td>1.443856e+05</td>\n",
       "    </tr>\n",
       "    <tr>\n",
       "      <th>min</th>\n",
       "      <td>22.900000</td>\n",
       "      <td>2.928100e+04</td>\n",
       "      <td>2.734800e+04</td>\n",
       "      <td>6.321500e+04</td>\n",
       "      <td>416.000000</td>\n",
       "      <td>8.610000e+02</td>\n",
       "      <td>2.000000</td>\n",
       "      <td>9.800000e+01</td>\n",
       "    </tr>\n",
       "    <tr>\n",
       "      <th>25%</th>\n",
       "      <td>32.800000</td>\n",
       "      <td>3.928900e+04</td>\n",
       "      <td>4.122700e+04</td>\n",
       "      <td>8.042900e+04</td>\n",
       "      <td>3739.000000</td>\n",
       "      <td>9.224000e+03</td>\n",
       "      <td>2.430000</td>\n",
       "      <td>3.435000e+03</td>\n",
       "    </tr>\n",
       "    <tr>\n",
       "      <th>50%</th>\n",
       "      <td>35.300000</td>\n",
       "      <td>5.234100e+04</td>\n",
       "      <td>5.380900e+04</td>\n",
       "      <td>1.067820e+05</td>\n",
       "      <td>5397.000000</td>\n",
       "      <td>1.882200e+04</td>\n",
       "      <td>2.650000</td>\n",
       "      <td>1.378000e+04</td>\n",
       "    </tr>\n",
       "    <tr>\n",
       "      <th>75%</th>\n",
       "      <td>38.000000</td>\n",
       "      <td>8.664175e+04</td>\n",
       "      <td>8.960400e+04</td>\n",
       "      <td>1.752320e+05</td>\n",
       "      <td>9368.000000</td>\n",
       "      <td>3.397175e+04</td>\n",
       "      <td>2.950000</td>\n",
       "      <td>5.444700e+04</td>\n",
       "    </tr>\n",
       "    <tr>\n",
       "      <th>max</th>\n",
       "      <td>70.500000</td>\n",
       "      <td>4.081698e+06</td>\n",
       "      <td>4.468707e+06</td>\n",
       "      <td>8.550405e+06</td>\n",
       "      <td>156961.000000</td>\n",
       "      <td>3.212500e+06</td>\n",
       "      <td>4.980000</td>\n",
       "      <td>3.835726e+06</td>\n",
       "    </tr>\n",
       "  </tbody>\n",
       "</table>\n",
       "</div>"
      ],
      "text/plain": [
       "        median_age  male_population  female_population  total_population  \\\n",
       "count  2891.000000  2.888000e+03     2.888000e+03       2.891000e+03       \n",
       "mean   35.494881    9.732843e+04     1.017696e+05       1.989668e+05       \n",
       "std    4.401617     2.162999e+05     2.315646e+05       4.475559e+05       \n",
       "min    22.900000    2.928100e+04     2.734800e+04       6.321500e+04       \n",
       "25%    32.800000    3.928900e+04     4.122700e+04       8.042900e+04       \n",
       "50%    35.300000    5.234100e+04     5.380900e+04       1.067820e+05       \n",
       "75%    38.000000    8.664175e+04     8.960400e+04       1.752320e+05       \n",
       "max    70.500000    4.081698e+06     4.468707e+06       8.550405e+06       \n",
       "\n",
       "       num_of_veterans  foreign_born  avg_household_size         count  \n",
       "count  2878.000000      2.878000e+03  2875.000000         2.891000e+03  \n",
       "mean   9367.832523      4.065360e+04  2.742543            4.896377e+04  \n",
       "std    13211.219924     1.557491e+05  0.433291            1.443856e+05  \n",
       "min    416.000000       8.610000e+02  2.000000            9.800000e+01  \n",
       "25%    3739.000000      9.224000e+03  2.430000            3.435000e+03  \n",
       "50%    5397.000000      1.882200e+04  2.650000            1.378000e+04  \n",
       "75%    9368.000000      3.397175e+04  2.950000            5.444700e+04  \n",
       "max    156961.000000    3.212500e+06  4.980000            3.835726e+06  "
      ]
     },
     "execution_count": 14,
     "metadata": {},
     "output_type": "execute_result"
    }
   ],
   "source": [
    "city_demo_df.describe()"
   ]
  },
  {
   "cell_type": "markdown",
   "metadata": {
    "editable": true
   },
   "source": [
    "***"
   ]
  },
  {
   "cell_type": "markdown",
   "metadata": {
    "editable": true
   },
   "source": [
    "**Creating Spark Session**"
   ]
  },
  {
   "cell_type": "code",
   "execution_count": 15,
   "metadata": {
    "editable": true
   },
   "outputs": [],
   "source": [
    "spark = SparkSession.builder.\\\n",
    "config(\"spark.jars.packages\", \"org.apache.hadoop:hadoop-aws:2.7.0\").\\\n",
    "enableHiveSupport().getOrCreate()"
   ]
  },
  {
   "cell_type": "code",
   "execution_count": 16,
   "metadata": {
    "editable": true
   },
   "outputs": [
    {
     "name": "stdout",
     "output_type": "stream",
     "text": [
      "-RECORD 0------------------\n",
      " cicid    | 5748517.0      \n",
      " i94yr    | 2016.0         \n",
      " i94mon   | 4.0            \n",
      " i94cit   | 245.0          \n",
      " i94res   | 438.0          \n",
      " i94port  | LOS            \n",
      " arrdate  | 20574.0        \n",
      " i94mode  | 1.0            \n",
      " i94addr  | CA             \n",
      " depdate  | 20582.0        \n",
      " i94bir   | 40.0           \n",
      " i94visa  | 1.0            \n",
      " count    | 1.0            \n",
      " dtadfile | 20160430       \n",
      " visapost | SYD            \n",
      " occup    | null           \n",
      " entdepa  | G              \n",
      " entdepd  | O              \n",
      " entdepu  | null           \n",
      " matflag  | M              \n",
      " biryear  | 1976.0         \n",
      " dtaddto  | 10292016       \n",
      " gender   | F              \n",
      " insnum   | null           \n",
      " airline  | QF             \n",
      " admnum   | 9.495387003E10 \n",
      " fltno    | 00011          \n",
      " visatype | B1             \n",
      "only showing top 1 row\n",
      "\n"
     ]
    }
   ],
   "source": [
    "df_spark=spark.read.parquet(\"sas_data\")\n",
    "df_spark.show(1, vertical=True)"
   ]
  },
  {
   "cell_type": "code",
   "execution_count": 17,
   "metadata": {
    "editable": true
   },
   "outputs": [
    {
     "data": {
      "text/plain": [
       "3096313"
      ]
     },
     "execution_count": 17,
     "metadata": {},
     "output_type": "execute_result"
    }
   ],
   "source": [
    "df_spark.count()"
   ]
  },
  {
   "cell_type": "markdown",
   "metadata": {
    "editable": true
   },
   "source": [
    "***"
   ]
  },
  {
   "cell_type": "markdown",
   "metadata": {
    "editable": true
   },
   "source": [
    "### Step 2: Explore and Assess the Data\n",
    "#### Explore the Data \n",
    "Identify data quality issues, like missing values, duplicate data, etc.\n",
    "\n",
    "#### Cleaning Steps\n",
    "Document steps necessary to clean the data"
   ]
  },
  {
   "cell_type": "markdown",
   "metadata": {
    "editable": true
   },
   "source": [
    "#### Non Immigration Data Explore, Access and Transform "
   ]
  },
  {
   "cell_type": "markdown",
   "metadata": {
    "editable": true
   },
   "source": [
    "Working on sample data first to get some insights about the nature of the non-immigrant data"
   ]
  },
  {
   "cell_type": "code",
   "execution_count": 18,
   "metadata": {
    "editable": true
   },
   "outputs": [
    {
     "data": {
      "text/plain": [
       "(1000, 29)"
      ]
     },
     "execution_count": 18,
     "metadata": {},
     "output_type": "execute_result"
    }
   ],
   "source": [
    "df.shape"
   ]
  },
  {
   "cell_type": "code",
   "execution_count": 19,
   "metadata": {
    "editable": true
   },
   "outputs": [
    {
     "data": {
      "text/plain": [
       "Unnamed: 0    1000\n",
       "cicid         1000\n",
       "i94yr         1   \n",
       "i94mon        1   \n",
       "i94cit        88  \n",
       "i94res        91  \n",
       "i94port       70  \n",
       "arrdate       30  \n",
       "i94mode       4   \n",
       "i94addr       51  \n",
       "depdate       109 \n",
       "i94bir        85  \n",
       "i94visa       3   \n",
       "count         1   \n",
       "dtadfile      39  \n",
       "visapost      97  \n",
       "occup         3   \n",
       "entdepa       9   \n",
       "entdepd       10  \n",
       "entdepu       0   \n",
       "matflag       1   \n",
       "biryear       85  \n",
       "dtaddto       99  \n",
       "gender        3   \n",
       "insnum        29  \n",
       "airline       101 \n",
       "admnum        1000\n",
       "fltno         502 \n",
       "visatype      10  \n",
       "dtype: int64"
      ]
     },
     "execution_count": 19,
     "metadata": {},
     "output_type": "execute_result"
    }
   ],
   "source": [
    "\n",
    "df.nunique()"
   ]
  },
  {
   "cell_type": "markdown",
   "metadata": {
    "editable": true
   },
   "source": [
    "it's clear that cicid and admnum coloumns are unique in this sample and it's evident that some columns either are all nulls or will have a lot of nulls such as entdepu"
   ]
  },
  {
   "cell_type": "code",
   "execution_count": 20,
   "metadata": {
    "editable": true
   },
   "outputs": [
    {
     "data": {
      "text/plain": [
       "Unnamed: 0    0   \n",
       "cicid         0   \n",
       "i94yr         0   \n",
       "i94mon        0   \n",
       "i94cit        0   \n",
       "i94res        0   \n",
       "i94port       0   \n",
       "arrdate       0   \n",
       "i94mode       0   \n",
       "i94addr       59  \n",
       "depdate       49  \n",
       "i94bir        0   \n",
       "i94visa       0   \n",
       "count         0   \n",
       "dtadfile      0   \n",
       "visapost      618 \n",
       "occup         996 \n",
       "entdepa       0   \n",
       "entdepd       46  \n",
       "entdepu       1000\n",
       "matflag       46  \n",
       "biryear       0   \n",
       "dtaddto       0   \n",
       "gender        141 \n",
       "insnum        965 \n",
       "airline       33  \n",
       "admnum        0   \n",
       "fltno         8   \n",
       "visatype      0   \n",
       "dtype: int64"
      ]
     },
     "execution_count": 20,
     "metadata": {},
     "output_type": "execute_result"
    }
   ],
   "source": [
    "df.isna().sum()"
   ]
  },
  {
   "cell_type": "markdown",
   "metadata": {
    "editable": true
   },
   "source": [
    "columns with high number of nulls will be tested in the original data to determine whether they're worth keeping"
   ]
  },
  {
   "cell_type": "code",
   "execution_count": 21,
   "metadata": {
    "editable": true
   },
   "outputs": [
    {
     "name": "stdout",
     "output_type": "stream",
     "text": [
      "-RECORD 0-----------\n",
      " i94mode  | 239     \n",
      " i94visa  | 0       \n",
      " dtadfile | 1       \n",
      " visapost | 1881250 \n",
      " occup    | 3088187 \n",
      " entdepa  | 238     \n",
      " entdepd  | 138429  \n",
      " entdepu  | 3095921 \n",
      " matflag  | 138429  \n",
      " dtaddto  | 477     \n",
      " gender   | 414269  \n",
      " insnum   | 2982605 \n",
      " airline  | 83627   \n",
      " admnum   | 0       \n",
      " fltno    | 19549   \n",
      " visatype | 0       \n",
      "\n"
     ]
    }
   ],
   "source": [
    "## missing values counts of selected column\n",
    "\n",
    "df_spark.select([count(when(isnan(c) | col(c).isNull(), c)).alias(c) for c in [\n",
    " 'i94mode',\n",
    " 'i94visa',\n",
    " 'dtadfile',\n",
    " 'visapost',\n",
    " 'occup',\n",
    " 'entdepa',\n",
    " 'entdepd',\n",
    " 'entdepu',\n",
    " 'matflag',\n",
    " 'dtaddto',\n",
    " 'gender',\n",
    " 'insnum',\n",
    " 'airline',\n",
    " 'admnum',\n",
    " 'fltno',\n",
    " 'visatype']]).show(vertical=True)"
   ]
  },
  {
   "cell_type": "code",
   "execution_count": 22,
   "metadata": {
    "editable": true
   },
   "outputs": [
    {
     "name": "stdout",
     "output_type": "stream",
     "text": [
      "cicid  :  3096313\n",
      "i94yr  :  1\n",
      "i94mon  :  1\n",
      "i94cit  :  243\n",
      "i94res  :  229\n",
      "i94port  :  299\n",
      "arrdate  :  30\n",
      "i94mode  :  5\n",
      "i94addr  :  458\n",
      "depdate  :  236\n",
      "i94bir  :  113\n",
      "i94visa  :  3\n",
      "count  :  1\n",
      "dtadfile  :  118\n",
      "visapost  :  531\n",
      "occup  :  112\n",
      "entdepa  :  14\n",
      "entdepd  :  13\n",
      "entdepu  :  3\n",
      "matflag  :  2\n",
      "biryear  :  113\n",
      "dtaddto  :  778\n",
      "gender  :  5\n",
      "insnum  :  1914\n",
      "airline  :  535\n",
      "admnum  :  3075579\n",
      "fltno  :  7153\n",
      "visatype  :  17\n"
     ]
    }
   ],
   "source": [
    "## Unique values counts\n",
    "\n",
    "for col_name in df_spark.columns:\n",
    "    print(col_name, ' : ', df_spark.select([col_name]).distinct().count())"
   ]
  },
  {
   "cell_type": "code",
   "execution_count": 23,
   "metadata": {
    "editable": true
   },
   "outputs": [
    {
     "name": "stdout",
     "output_type": "stream",
     "text": [
      "i94yr [ 2016.]\n",
      "i94mon [ 4.]\n",
      "count [ 1.]\n",
      "matflag ['M' nan]\n",
      "biryear [ 1955.  1990.  1940.  1991.  1997.  1965.  1968.  1983.  1977.  1981.\n",
      "  2012.  1944.  1962.  1954.  1982.  1986.  1995.  1973.  1970.  2002.\n",
      "  1976.  1975.  1994.  1952.  1999.  1974.  2000.  1989.  1960.  1984.\n",
      "  2008.  1957.  1978.  2006.  1951.  1964.  1985.  1958.  1950.  1988.\n",
      "  1948.  1972.  1987.  1980.  2004.  1956.  1998.  1953.  1996.  1966.\n",
      "  1992.  2010.  1943.  1945.  1969.  1979.  1967.  1938.  1961.  1963.\n",
      "  1947.  1993.  1936.  2005.  1941.  1932.  1971.  1959.  1949.  2015.\n",
      "  1939.  1946.  2011.  1928.  2013.  2001.  1933.  2003.  1935.  2014.\n",
      "  1923.  2007.  1929.  1942.  1931.]\n",
      "gender ['F' 'M' nan 'X']\n"
     ]
    }
   ],
   "source": [
    "## Checking the unique values of some columns in the sample data\n",
    "## to better assess the nature of the column\n",
    "\n",
    "for item in [\"i94yr\", \"i94mon\", \"count\", \"matflag\", \"biryear\", \"gender\"]:\n",
    "    print(item, df[item].unique())"
   ]
  },
  {
   "cell_type": "code",
   "execution_count": 24,
   "metadata": {
    "editable": true
   },
   "outputs": [
    {
     "name": "stdout",
     "output_type": "stream",
     "text": [
      "root\n",
      " |-- cicid: double (nullable = true)\n",
      " |-- i94yr: double (nullable = true)\n",
      " |-- i94mon: double (nullable = true)\n",
      " |-- i94cit: double (nullable = true)\n",
      " |-- i94res: double (nullable = true)\n",
      " |-- i94port: string (nullable = true)\n",
      " |-- arrdate: double (nullable = true)\n",
      " |-- i94mode: double (nullable = true)\n",
      " |-- i94addr: string (nullable = true)\n",
      " |-- depdate: double (nullable = true)\n",
      " |-- i94bir: double (nullable = true)\n",
      " |-- i94visa: double (nullable = true)\n",
      " |-- count: double (nullable = true)\n",
      " |-- dtadfile: string (nullable = true)\n",
      " |-- visapost: string (nullable = true)\n",
      " |-- occup: string (nullable = true)\n",
      " |-- entdepa: string (nullable = true)\n",
      " |-- entdepd: string (nullable = true)\n",
      " |-- entdepu: string (nullable = true)\n",
      " |-- matflag: string (nullable = true)\n",
      " |-- biryear: double (nullable = true)\n",
      " |-- dtaddto: string (nullable = true)\n",
      " |-- gender: string (nullable = true)\n",
      " |-- insnum: string (nullable = true)\n",
      " |-- airline: string (nullable = true)\n",
      " |-- admnum: double (nullable = true)\n",
      " |-- fltno: string (nullable = true)\n",
      " |-- visatype: string (nullable = true)\n",
      "\n"
     ]
    }
   ],
   "source": [
    "df_spark.printSchema()"
   ]
  },
  {
   "cell_type": "markdown",
   "metadata": {
    "editable": true
   },
   "source": [
    "**Data Issues and Cleaning Steps:**\n",
    "* 'cicid' is a unique identifier related to the CIC analysis, so it's probably not needed here, so the column would be either dropped or stored in archive or unclean folder files and a custom id should be generated .\n",
    "* 'i94year',  'i94mon', 'count' and 'matflag' are columns with one value throughout the entire data set, need to be double checked in the full data, if the situation is the same they should be dropped and stored as metadata or in the notes. With respect to the year and month columns, they can be stored in the name of the clean file to represent the date which the data represents .e.g. 2016/month_4_immigrant_data.(json | csv | parquet). Removing such redundant and duplicate info. would save much space.\n",
    "* 'i94cit', 'i94res', 'i94mode', 'i94visa' data types must be converted to integers or longs and then to strings to remove floating points before converting to strings. They shouldn't be left as integers as those columns values are codes and better not be susceptible to mathematical operations. \n",
    "* 'i94cit', 'i94res', 'i94mode', 'i94visa', 'i94port', 'i94addr'  codes can be decoded using lookup tables from I94_SAS_Labels_Descriptions.SAS data dictionary. \n",
    "* 'arrdate', 'depdate' are in SAS date format which represents the number of passed days since the epoch time which in this is case is 1/1/1960. Taking this in mind, it can be easily converted back to a standardized date fomrat such as year/month/days. \n",
    "* 'dtadfile' and 'dtaddto' dates are in date compressed data format as the following 'yyyymmdd' and 'mmddyyyy', they shoul be converted to 'yyyy/mm/dd' format as all other dates. \n",
    "* 'isnum', 'occup', 'visapost' and 'entdepu' has too many missing values, they shall be either dropped or archived in the data lake if the situation is the same in the full dataframe spark_df. \n",
    "* 'entdepd', 'entdepa' codes aren't explained in the data dictionary and couldn't be found in the travel gov website. In addition, I couldn't find the CIC analysis or the original data source as they were likely removed from the website, so they are useless informationally, they will be archived in the data lake.\n",
    "* 'i94bir' and 'biryear' are related columns where 'i94bir' represents the age of the respondent while 'biryera' represents the respondent's birth year , making 'i94bir' derivable from 'biryear' while 'biryear' is more reliable as 'i94bir' is calculated according to 2016 not the current date. Hence, if it's proven that 'i94bir' and 'biryear' are relatable by calculating the respondent age in 2016 using 'biryear' and comparing it to 'i94bir' and found out they're the same, 'i94bir' can be dropped safely. \n",
    "* 'gender', 'airline', 'fltno', 'visatype' may be left as is. \n",
    "* column names should be replaced with a more descriptive titles."
   ]
  },
  {
   "cell_type": "markdown",
   "metadata": {
    "editable": true
   },
   "source": [
    "**Adding *id* column**"
   ]
  },
  {
   "cell_type": "code",
   "execution_count": 25,
   "metadata": {
    "editable": true
   },
   "outputs": [],
   "source": [
    "df_spark = df_spark.withColumn('id', monotonically_increasing_id())"
   ]
  },
  {
   "cell_type": "markdown",
   "metadata": {
    "editable": true
   },
   "source": [
    "**Assessing *i94bir* Age column**"
   ]
  },
  {
   "cell_type": "code",
   "execution_count": 26,
   "metadata": {
    "editable": true
   },
   "outputs": [
    {
     "data": {
      "text/plain": [
       "[Row(i94bir=40.0, age_2016=40, age_now=46, biryear=1976.0, birth_year=1976),\n",
       " Row(i94bir=32.0, age_2016=32, age_now=38, biryear=1984.0, birth_year=1984),\n",
       " Row(i94bir=29.0, age_2016=29, age_now=35, biryear=1987.0, birth_year=1987),\n",
       " Row(i94bir=29.0, age_2016=29, age_now=35, biryear=1987.0, birth_year=1987),\n",
       " Row(i94bir=28.0, age_2016=28, age_now=34, biryear=1988.0, birth_year=1988)]"
      ]
     },
     "execution_count": 26,
     "metadata": {},
     "output_type": "execute_result"
    }
   ],
   "source": [
    "age_2016_udf = udf(lambda x: int(2016 - x), IntegerType())\n",
    "age_now = udf(lambda x: datetime.now().year - x, IntegerType())\n",
    "\n",
    "clean_df = df_spark.withColumn(\"birth_year\", df_spark[\"biryear\"].cast(IntegerType()))\n",
    "\n",
    "\n",
    "clean_df = clean_df.withColumn(\n",
    "    \"age_2016\", age_2016_udf(clean_df.birth_year)\n",
    ").withColumn(\"age_now\", age_now(clean_df.birth_year))\n",
    "\n",
    "clean_df.select([\"i94bir\", \"age_2016\", \"age_now\", \"biryear\", \"birth_year\"]).take(5)"
   ]
  },
  {
   "cell_type": "code",
   "execution_count": 27,
   "metadata": {
    "editable": true
   },
   "outputs": [
    {
     "name": "stdout",
     "output_type": "stream",
     "text": [
      "\n",
      "i94bir == age_2016_from_biryear Count: 0 \n",
      "i94bir != age_2016_from_biryear Count: 0 \n",
      "Data Total Count: 3096313\n"
     ]
    }
   ],
   "source": [
    "total_count = clean_df.count()\n",
    "equality_count = clean_df.where(clean_df.i94bir == clean_df.age_2016).count()\n",
    "inequality_count = clean_df.where(clean_df.i94bir != clean_df.age_2016).count()\n",
    "\n",
    "print(\n",
    "    \"\\ni94bir == age_2016_from_biryear Count:\",\n",
    "    inequality_count,\n",
    "    \"\\ni94bir != age_2016_from_biryear Count:\",\n",
    "    inequality_count,\n",
    "    \"\\nData Total Count:\",\n",
    "    total_count,\n",
    ")"
   ]
  },
  {
   "cell_type": "code",
   "execution_count": 28,
   "metadata": {
    "editable": true
   },
   "outputs": [
    {
     "name": "stdout",
     "output_type": "stream",
     "text": [
      "+------+-------+\n",
      "|i94bir|biryear|\n",
      "+------+-------+\n",
      "|   802|    802|\n",
      "+------+-------+\n",
      "\n"
     ]
    }
   ],
   "source": [
    "temp = clean_df.select(\n",
    "    [count(when(isnan(c) | col(c).isNull(), c)).alias(c) for c in [\"i94bir\", \"biryear\"]]\n",
    ")\n",
    "missing_birth_age_rows_count = temp.toPandas()[\"i94bir\"].iloc[0]\n",
    "temp.show()"
   ]
  },
  {
   "cell_type": "code",
   "execution_count": 29,
   "metadata": {
    "editable": true
   },
   "outputs": [],
   "source": [
    "## asserting that the missing values of both columns are the same 'Extra probably unnecssary check'\n",
    "#QualityCheck\n",
    "\n",
    "assert (total_count  - equality_count) == missing_birth_age_rows_count"
   ]
  },
  {
   "cell_type": "code",
   "execution_count": 30,
   "metadata": {
    "editable": true
   },
   "outputs": [
    {
     "data": {
      "text/plain": [
       "id    0\n",
       "dtype: int64"
      ]
     },
     "execution_count": 30,
     "metadata": {},
     "output_type": "execute_result"
    }
   ],
   "source": [
    "## Another way to confirm that the missing values of both columns are the same 'Extra probably unnecssary check'\n",
    "\n",
    "(\n",
    "    -(\n",
    "        clean_df.where(col(\"i94bir\").isNull()).select(\"id\").toPandas()\n",
    "        == clean_df.where(col(\"biryear\").isNull()).select(\"id\").toPandas()\n",
    "    )\n",
    ").sum()"
   ]
  },
  {
   "cell_type": "markdown",
   "metadata": {
    "editable": true
   },
   "source": [
    "- i94bir column to be dropped as it can be easily calculated by birth year and it doesn't represent the correct current age.\n",
    "- biryear will be replaced with birth_year column with integer data type instead of float.\n",
    "- birth_year column contains all of the information of 'i94bir', 'biryear', 'age_now', 'age_2016' as all of them can be derived from it. Hence, they will be dropped."
   ]
  },
  {
   "cell_type": "code",
   "execution_count": 31,
   "metadata": {
    "editable": true
   },
   "outputs": [
    {
     "data": {
      "text/plain": [
       "[Row(cicid=5748517.0, i94yr=2016.0, i94mon=4.0, i94cit=245.0, i94res=438.0, i94port='LOS', arrdate=20574.0, i94mode=1.0, i94addr='CA', depdate=20582.0, i94visa=1.0, count=1.0, dtadfile='20160430', visapost='SYD', occup=None, entdepa='G', entdepd='O', entdepu=None, matflag='M', dtaddto='10292016', gender='F', insnum=None, airline='QF', admnum=94953870030.0, fltno='00011', visatype='B1', id=0, birth_year=1976)]"
      ]
     },
     "execution_count": 31,
     "metadata": {},
     "output_type": "execute_result"
    }
   ],
   "source": [
    "clean_df =  clean_df.drop('i94bir', 'biryear', 'age_now', 'age_2016')\n",
    "clean_df.take(1)"
   ]
  },
  {
   "cell_type": "markdown",
   "metadata": {
    "editable": true
   },
   "source": [
    "<hr>"
   ]
  },
  {
   "cell_type": "markdown",
   "metadata": {
    "editable": true
   },
   "source": [
    "**Converting *dtaddto* dtadfile *arrdate* *depdate* to *yyyy/mm/dd* date time format**"
   ]
  },
  {
   "cell_type": "code",
   "execution_count": 32,
   "metadata": {
    "editable": true
   },
   "outputs": [],
   "source": [
    "epoch = datetime(1960, 1, 1)\n",
    "convert_sas_dt = udf(lambda x: ((epoch\n",
    "                     + timedelta(days=x)).strftime('%Y/%m/%d') if x\n",
    "                     and x != 'D/S' else x))"
   ]
  },
  {
   "cell_type": "code",
   "execution_count": 33,
   "metadata": {
    "editable": true
   },
   "outputs": [
    {
     "name": "stdout",
     "output_type": "stream",
     "text": [
      "+--------+------------+--------+------------+-------+----------+-------+------------+\n",
      "| dtaddto|addmitted_dt|dtadfile|i94_added_dt|arrdate|arrival_dt|depdate|departure_dt|\n",
      "+--------+------------+--------+------------+-------+----------+-------+------------+\n",
      "|10292016|  2016/10/29|20160430|  2016/04/30|20574.0|2016/04/30|20582.0|  2016/05/08|\n",
      "|10292016|  2016/10/29|20160430|  2016/04/30|20574.0|2016/04/30|20591.0|  2016/05/17|\n",
      "|10292016|  2016/10/29|20160430|  2016/04/30|20574.0|2016/04/30|20582.0|  2016/05/08|\n",
      "|10292016|  2016/10/29|20160430|  2016/04/30|20574.0|2016/04/30|20588.0|  2016/05/14|\n",
      "|10292016|  2016/10/29|20160430|  2016/04/30|20574.0|2016/04/30|20588.0|  2016/05/14|\n",
      "+--------+------------+--------+------------+-------+----------+-------+------------+\n",
      "only showing top 5 rows\n",
      "\n"
     ]
    }
   ],
   "source": [
    "clean_df = (\n",
    "    clean_df.withColumn(\n",
    "        \"addmitted_dt\",\n",
    "        date_format(to_date(col(\"dtaddto\").cast(\"string\"), \"MMddyyyy\"), \"yyyy/MM/dd\"),\n",
    "    )\n",
    "    .withColumn(\n",
    "        \"i94_added_dt\",\n",
    "        date_format(to_date(col(\"dtadfile\").cast(\"string\"), \"yyyyMMdd\"), \"yyyy/MM/dd\"),\n",
    "    )\n",
    "    .withColumn(\"arrival_dt\", convert_sas_dt(clean_df.arrdate))\n",
    "    .withColumn(\"departure_dt\", convert_sas_dt(clean_df.depdate))\n",
    ")\n",
    "\n",
    "\n",
    "clean_df.select(\n",
    "    [\n",
    "        \"dtaddto\",\n",
    "        \"addmitted_dt\",\n",
    "        \"dtadfile\",\n",
    "        \"i94_added_dt\",\n",
    "        \"arrdate\",\n",
    "        \"arrival_dt\",\n",
    "        \"depdate\",\n",
    "        \"departure_dt\",\n",
    "    ]\n",
    ").show(5)"
   ]
  },
  {
   "cell_type": "markdown",
   "metadata": {
    "editable": true
   },
   "source": [
    "**Notes**\n",
    "- 'D/S' value in dtaddto column according to us [travel.state.gov](https://travel.state.gov/content/travel/en/us-visas/visa-information-resources/visa-expiration-date.html#:~:text=On%20the%20admission%20stamp%20or,must%20leave%20the%20United%20States.) is not a specified date, it depends on respondent course of study or employment, so it's as good as null aka not determined or known"
   ]
  },
  {
   "cell_type": "markdown",
   "metadata": {
    "editable": true
   },
   "source": [
    "**Assessing *i94yr*, *i94mon*, *count* columns**"
   ]
  },
  {
   "cell_type": "code",
   "execution_count": 34,
   "metadata": {
    "editable": true
   },
   "outputs": [
    {
     "name": "stdout",
     "output_type": "stream",
     "text": [
      "+------+------+-----+\n",
      "| i94yr|i94mon|count|\n",
      "+------+------+-----+\n",
      "|2016.0|   4.0|  1.0|\n",
      "+------+------+-----+\n",
      "\n"
     ]
    }
   ],
   "source": [
    "clean_df.select(['i94yr', 'i94mon', 'count']).distinct().show()"
   ]
  },
  {
   "cell_type": "markdown",
   "metadata": {
    "editable": true
   },
   "source": [
    "- since all of the data represents one month 4 (April) and one year 2016, both columns will be dropped and the time info. would be saved in the file name. "
   ]
  },
  {
   "cell_type": "markdown",
   "metadata": {
    "editable": true
   },
   "source": [
    "- count is used for summary statistics by CIC analysis, but count here is 1 for all values. \n",
    "- In addition, there is no clear definition of what count actually represents. \n",
    "- Furthermore, we are trying to decouple the data from the CIC analysis so that other users can use them for their own analysis. \n",
    "- Hence, it will be dropped"
   ]
  },
  {
   "cell_type": "code",
   "execution_count": 35,
   "metadata": {
    "editable": true
   },
   "outputs": [
    {
     "data": {
      "text/plain": [
       "[Row(cicid=5748517.0, i94cit=245.0, i94res=438.0, i94port='LOS', arrdate=20574.0, i94mode=1.0, i94addr='CA', depdate=20582.0, i94visa=1.0, dtadfile='20160430', visapost='SYD', occup=None, entdepa='G', entdepd='O', entdepu=None, matflag='M', dtaddto='10292016', gender='F', insnum=None, airline='QF', admnum=94953870030.0, fltno='00011', visatype='B1', id=0, birth_year=1976, addmitted_dt='2016/10/29', i94_added_dt='2016/04/30', arrival_dt='2016/04/30', departure_dt='2016/05/08')]"
      ]
     },
     "execution_count": 35,
     "metadata": {},
     "output_type": "execute_result"
    }
   ],
   "source": [
    "clean_df = clean_df.drop('i94yr', 'i94mon', 'count')\n",
    "clean_df.take(1)"
   ]
  },
  {
   "cell_type": "markdown",
   "metadata": {
    "editable": true
   },
   "source": [
    "**Fixing i94cit, i94res, i94mode, i94visa, cicid and admnum columns types**"
   ]
  },
  {
   "cell_type": "code",
   "execution_count": 36,
   "metadata": {
    "editable": true
   },
   "outputs": [],
   "source": [
    "clean_df = clean_df.withColumn('i94cit', col('i94cit').cast(IntegerType()).cast('string'))\n",
    "clean_df = clean_df.withColumn('i94res', col('i94res').cast(IntegerType()).cast('string'))\n",
    "clean_df = clean_df.withColumn('i94mode', col('i94mode').cast(IntegerType()).cast('string'))\n",
    "clean_df = clean_df.withColumn('i94visa', col('i94visa').cast(IntegerType()).cast('string'))\n",
    "clean_df = clean_df.withColumn('cicid', col('cicid').cast(IntegerType()))\n",
    "clean_df = clean_df.withColumn('admnum', col('admnum').cast(LongType()))"
   ]
  },
  {
   "cell_type": "code",
   "execution_count": 37,
   "metadata": {
    "editable": true
   },
   "outputs": [
    {
     "data": {
      "text/plain": [
       "[Row(i94cit='245', i94res='438', i94mode='1', i94visa='1', cicid=5748517, admnum=94953870030)]"
      ]
     },
     "execution_count": 37,
     "metadata": {},
     "output_type": "execute_result"
    }
   ],
   "source": [
    "clean_df.select('i94cit', 'i94res', 'i94mode', 'i94visa', 'cicid', 'admnum').take(1)"
   ]
  },
  {
   "cell_type": "markdown",
   "metadata": {
    "editable": true
   },
   "source": [
    "**Asessing *visapost*, *occup*, *entdepu*, *isnum*, *cicid*, *matflag***"
   ]
  },
  {
   "cell_type": "code",
   "execution_count": 38,
   "metadata": {
    "editable": true
   },
   "outputs": [
    {
     "data": {
      "text/plain": [
       "array(['M', nan], dtype=object)"
      ]
     },
     "execution_count": 38,
     "metadata": {},
     "output_type": "execute_result"
    }
   ],
   "source": [
    "df.matflag.unique()"
   ]
  },
  {
   "cell_type": "markdown",
   "metadata": {
    "editable": true
   },
   "source": [
    "- The match flag is only defined as \"Match of arrival and departure records\" but the way of computation is not mentioned\n",
    "- An assumption is made here that the match flag is computed based on the exitence of both departure and arrival flags, if such assumption is valid, the match column would be dropped as it has no real value for the data set here and can always be recomputed. \n",
    "- the Match flag has only one value, that's why it's easy to verify the assumption by making sure if the match flag exist when both departure and arrival flags exist. "
   ]
  },
  {
   "cell_type": "code",
   "execution_count": 39,
   "metadata": {
    "editable": true
   },
   "outputs": [
    {
     "data": {
      "text/plain": [
       "0"
      ]
     },
     "execution_count": 39,
     "metadata": {},
     "output_type": "execute_result"
    }
   ],
   "source": [
    "## Checking if match flag exists or not when either of the arrival flag or the departure flag doesn't exist\n",
    "\n",
    "(-(df.matflag.isna() ==  (df.entdepa.isna() | df.entdepd.isna()))).sum()"
   ]
  },
  {
   "cell_type": "markdown",
   "metadata": {
    "editable": true
   },
   "source": [
    "* Since the match flag doens't exist when either of the arrival or departure flags exist, it would be dropped and written down in the notes.\n",
    "* Removing *visapost*, *occup*, *entdepu*, *isnum*, *cicid* filled as they are filled with many missing values. Subsequently, moving them to another unclean dataframe to be archived in the data lake."
   ]
  },
  {
   "cell_type": "code",
   "execution_count": 40,
   "metadata": {
    "editable": true
   },
   "outputs": [],
   "source": [
    "clean_df =  clean_df.drop('matflag')"
   ]
  },
  {
   "cell_type": "code",
   "execution_count": 41,
   "metadata": {
    "editable": true
   },
   "outputs": [
    {
     "name": "stdout",
     "output_type": "stream",
     "text": [
      "+---+-------+---------+----------+------------+--------------+-----------+-------+\n",
      "| id| cic_id|visa_post|occupation|arrival_flag|departure_flag|update_flag|ins_num|\n",
      "+---+-------+---------+----------+------------+--------------+-----------+-------+\n",
      "|  0|5748517|      SYD|      null|           G|             O|       null|   null|\n",
      "|  1|5748518|      SYD|      null|           G|             O|       null|   null|\n",
      "|  2|5748519|      SYD|      null|           G|             O|       null|   null|\n",
      "|  3|5748520|      SYD|      null|           G|             O|       null|   null|\n",
      "+---+-------+---------+----------+------------+--------------+-----------+-------+\n",
      "only showing top 4 rows\n",
      "\n"
     ]
    }
   ],
   "source": [
    "unclean_df = clean_df.selectExpr(\n",
    "    \"id\",\n",
    "    \"cicid as cic_id\",\n",
    "    \"visapost as visa_post\",\n",
    "    \"occup as occupation\",\n",
    "    \"entdepa as arrival_flag\",\n",
    "    \"entdepd as departure_flag\",\n",
    "    \"entdepu as update_flag\",\n",
    "    \"insnum as ins_num\",\n",
    ")\n",
    "\n",
    "unclean_df.show(4)"
   ]
  },
  {
   "cell_type": "markdown",
   "metadata": {
    "editable": true
   },
   "source": [
    "- arrival_flag, departure_flag could be useful if known what those flags represents which I couldn't get to know."
   ]
  },
  {
   "cell_type": "code",
   "execution_count": 42,
   "metadata": {
    "editable": true
   },
   "outputs": [],
   "source": [
    "clean_df = clean_df.drop('cicid', 'visapost','occup', 'entdepa', 'entdepd', 'entdepu', 'insnum')"
   ]
  },
  {
   "cell_type": "code",
   "execution_count": 43,
   "metadata": {
    "editable": true
   },
   "outputs": [],
   "source": [
    "clean_df = clean_df.selectExpr(\n",
    "    [\n",
    "        'id', \n",
    "        'i94cit as citizenship',\n",
    "        'i94res as residency',\n",
    "        'birth_year',\n",
    "        'gender',\n",
    "        'arrival_dt',\n",
    "        'departure_dt',\n",
    "        'i94port as port',\n",
    "        'i94mode as mode',\n",
    "        'i94addr as address',\n",
    "        'i94visa as visa',\n",
    "        'airline',\n",
    "        'admnum as admission_num',\n",
    "        'fltno as flight_no',\n",
    "        'visatype',\n",
    "        'addmitted_dt',\n",
    "        'i94_added_dt',\n",
    "    ]\n",
    ")\n"
   ]
  },
  {
   "cell_type": "code",
   "execution_count": 44,
   "metadata": {
    "editable": true
   },
   "outputs": [
    {
     "data": {
      "text/html": [
       "<div>\n",
       "<style scoped>\n",
       "    .dataframe tbody tr th:only-of-type {\n",
       "        vertical-align: middle;\n",
       "    }\n",
       "\n",
       "    .dataframe tbody tr th {\n",
       "        vertical-align: top;\n",
       "    }\n",
       "\n",
       "    .dataframe thead th {\n",
       "        text-align: right;\n",
       "    }\n",
       "</style>\n",
       "<table border=\"1\" class=\"dataframe\">\n",
       "  <thead>\n",
       "    <tr style=\"text-align: right;\">\n",
       "      <th></th>\n",
       "      <th>id</th>\n",
       "      <th>citizenship</th>\n",
       "      <th>residency</th>\n",
       "      <th>birth_year</th>\n",
       "      <th>gender</th>\n",
       "      <th>arrival_dt</th>\n",
       "      <th>departure_dt</th>\n",
       "      <th>port</th>\n",
       "      <th>mode</th>\n",
       "      <th>address</th>\n",
       "      <th>visa</th>\n",
       "      <th>airline</th>\n",
       "      <th>admission_num</th>\n",
       "      <th>flight_no</th>\n",
       "      <th>visatype</th>\n",
       "      <th>addmitted_dt</th>\n",
       "      <th>i94_added_dt</th>\n",
       "    </tr>\n",
       "  </thead>\n",
       "  <tbody>\n",
       "    <tr>\n",
       "      <th>0</th>\n",
       "      <td>0</td>\n",
       "      <td>245</td>\n",
       "      <td>438</td>\n",
       "      <td>1976</td>\n",
       "      <td>F</td>\n",
       "      <td>2016/04/30</td>\n",
       "      <td>2016/05/08</td>\n",
       "      <td>LOS</td>\n",
       "      <td>1</td>\n",
       "      <td>CA</td>\n",
       "      <td>1</td>\n",
       "      <td>QF</td>\n",
       "      <td>94953870030</td>\n",
       "      <td>00011</td>\n",
       "      <td>B1</td>\n",
       "      <td>2016/10/29</td>\n",
       "      <td>2016/04/30</td>\n",
       "    </tr>\n",
       "    <tr>\n",
       "      <th>1</th>\n",
       "      <td>1</td>\n",
       "      <td>245</td>\n",
       "      <td>438</td>\n",
       "      <td>1984</td>\n",
       "      <td>F</td>\n",
       "      <td>2016/04/30</td>\n",
       "      <td>2016/05/17</td>\n",
       "      <td>LOS</td>\n",
       "      <td>1</td>\n",
       "      <td>NV</td>\n",
       "      <td>1</td>\n",
       "      <td>VA</td>\n",
       "      <td>94955622830</td>\n",
       "      <td>00007</td>\n",
       "      <td>B1</td>\n",
       "      <td>2016/10/29</td>\n",
       "      <td>2016/04/30</td>\n",
       "    </tr>\n",
       "    <tr>\n",
       "      <th>2</th>\n",
       "      <td>2</td>\n",
       "      <td>245</td>\n",
       "      <td>438</td>\n",
       "      <td>1987</td>\n",
       "      <td>M</td>\n",
       "      <td>2016/04/30</td>\n",
       "      <td>2016/05/08</td>\n",
       "      <td>LOS</td>\n",
       "      <td>1</td>\n",
       "      <td>WA</td>\n",
       "      <td>1</td>\n",
       "      <td>DL</td>\n",
       "      <td>94956406530</td>\n",
       "      <td>00040</td>\n",
       "      <td>B1</td>\n",
       "      <td>2016/10/29</td>\n",
       "      <td>2016/04/30</td>\n",
       "    </tr>\n",
       "  </tbody>\n",
       "</table>\n",
       "</div>"
      ],
      "text/plain": [
       "   id citizenship residency  birth_year gender  arrival_dt departure_dt port  \\\n",
       "0  0   245         438       1976        F      2016/04/30  2016/05/08   LOS   \n",
       "1  1   245         438       1984        F      2016/04/30  2016/05/17   LOS   \n",
       "2  2   245         438       1987        M      2016/04/30  2016/05/08   LOS   \n",
       "\n",
       "  mode address visa airline  admission_num flight_no visatype addmitted_dt  \\\n",
       "0  1    CA      1    QF      94953870030    00011     B1       2016/10/29    \n",
       "1  1    NV      1    VA      94955622830    00007     B1       2016/10/29    \n",
       "2  1    WA      1    DL      94956406530    00040     B1       2016/10/29    \n",
       "\n",
       "  i94_added_dt  \n",
       "0  2016/04/30   \n",
       "1  2016/04/30   \n",
       "2  2016/04/30   "
      ]
     },
     "execution_count": 44,
     "metadata": {},
     "output_type": "execute_result"
    }
   ],
   "source": [
    "clean_df.limit(3).toPandas()"
   ]
  },
  {
   "cell_type": "code",
   "execution_count": 45,
   "metadata": {
    "editable": true
   },
   "outputs": [
    {
     "name": "stdout",
     "output_type": "stream",
     "text": [
      "root\n",
      " |-- id: long (nullable = false)\n",
      " |-- citizenship: string (nullable = true)\n",
      " |-- residency: string (nullable = true)\n",
      " |-- birth_year: integer (nullable = true)\n",
      " |-- gender: string (nullable = true)\n",
      " |-- arrival_dt: string (nullable = true)\n",
      " |-- departure_dt: string (nullable = true)\n",
      " |-- port: string (nullable = true)\n",
      " |-- mode: string (nullable = true)\n",
      " |-- address: string (nullable = true)\n",
      " |-- visa: string (nullable = true)\n",
      " |-- airline: string (nullable = true)\n",
      " |-- admission_num: long (nullable = true)\n",
      " |-- flight_no: string (nullable = true)\n",
      " |-- visatype: string (nullable = true)\n",
      " |-- addmitted_dt: string (nullable = true)\n",
      " |-- i94_added_dt: string (nullable = true)\n",
      "\n"
     ]
    }
   ],
   "source": [
    "clean_df.printSchema()"
   ]
  },
  {
   "cell_type": "markdown",
   "metadata": {
    "editable": true
   },
   "source": [
    "***"
   ]
  },
  {
   "cell_type": "markdown",
   "metadata": {
    "editable": true
   },
   "source": [
    "Helper function to process I94_SAS_Labels_Descriptions.SA from the [knowledge portal](https://knowledge.udacity.com/questions/125439)"
   ]
  },
  {
   "cell_type": "code",
   "execution_count": 46,
   "metadata": {
    "editable": true
   },
   "outputs": [],
   "source": [
    "with open('I94_SAS_Labels_Descriptions.SAS') as f:\n",
    "    f_content = f.read()\n",
    "    f_content = f_content.replace('\\t', '')\n",
    "\n",
    "def code_mapper(file, idx):\n",
    "    \"\"\"\n",
    "    \"\"\"\n",
    "    f_content2 = f_content[f_content.index(idx):]\n",
    "    f_content2 = f_content2[:f_content2.index(';')].split('\\n')\n",
    "    f_content2 = [i.replace(\"'\", \"\") for i in f_content2]\n",
    "    dic = [i.split('=') for i in f_content2[1:]]\n",
    "    dic = dict([i[0].strip(), i[1].strip()] for i in dic if len(i) == 2)\n",
    "    return dic\n",
    "\n",
    "i94cit_res = code_mapper(f_content, \"i94cntyl\")\n",
    "i94port = code_mapper(f_content, \"i94prtl\")\n",
    "i94mode = code_mapper(f_content, \"i94model\")\n",
    "i94addr = code_mapper(f_content, \"i94addrl\")\n",
    "i94visa = {'1':'Business',\n",
    "'2': 'Pleasure',\n",
    "'3' : 'Student'}"
   ]
  },
  {
   "cell_type": "code",
   "execution_count": 47,
   "metadata": {
    "editable": true
   },
   "outputs": [
    {
     "data": {
      "text/plain": [
       "{'1': 'Air', '2': 'Sea', '3': 'Land', '9': 'Not reported'}"
      ]
     },
     "execution_count": 47,
     "metadata": {},
     "output_type": "execute_result"
    }
   ],
   "source": [
    "i94mode"
   ]
  },
  {
   "cell_type": "markdown",
   "metadata": {
    "editable": true
   },
   "source": [
    "***"
   ]
  },
  {
   "cell_type": "markdown",
   "metadata": {
    "editable": true
   },
   "source": [
    "Creating countries_i94_codes lookup table"
   ]
  },
  {
   "cell_type": "code",
   "execution_count": 48,
   "metadata": {
    "editable": true
   },
   "outputs": [
    {
     "data": {
      "text/html": [
       "<div>\n",
       "<style scoped>\n",
       "    .dataframe tbody tr th:only-of-type {\n",
       "        vertical-align: middle;\n",
       "    }\n",
       "\n",
       "    .dataframe tbody tr th {\n",
       "        vertical-align: top;\n",
       "    }\n",
       "\n",
       "    .dataframe thead th {\n",
       "        text-align: right;\n",
       "    }\n",
       "</style>\n",
       "<table border=\"1\" class=\"dataframe\">\n",
       "  <thead>\n",
       "    <tr style=\"text-align: right;\">\n",
       "      <th></th>\n",
       "      <th>code</th>\n",
       "      <th>country</th>\n",
       "    </tr>\n",
       "  </thead>\n",
       "  <tbody>\n",
       "    <tr>\n",
       "      <th>0</th>\n",
       "      <td>582</td>\n",
       "      <td>MEXICO Air Sea, and Not Reported (I-94, no land arrivals)</td>\n",
       "    </tr>\n",
       "    <tr>\n",
       "      <th>1</th>\n",
       "      <td>236</td>\n",
       "      <td>AFGHANISTAN</td>\n",
       "    </tr>\n",
       "    <tr>\n",
       "      <th>2</th>\n",
       "      <td>101</td>\n",
       "      <td>ALBANIA</td>\n",
       "    </tr>\n",
       "  </tbody>\n",
       "</table>\n",
       "</div>"
      ],
      "text/plain": [
       "  code                                                    country\n",
       "0  582  MEXICO Air Sea, and Not Reported (I-94, no land arrivals)\n",
       "1  236  AFGHANISTAN                                              \n",
       "2  101  ALBANIA                                                  "
      ]
     },
     "execution_count": 48,
     "metadata": {},
     "output_type": "execute_result"
    }
   ],
   "source": [
    "countries_i94_codes = pd.DataFrame(\n",
    "    list(i94cit_res.items()), columns=[\"code\", \"country\"]\n",
    ")\n",
    "countries_i94_codes.head(3)"
   ]
  },
  {
   "cell_type": "code",
   "execution_count": 49,
   "metadata": {
    "editable": true
   },
   "outputs": [
    {
     "data": {
      "text/html": [
       "<div>\n",
       "<style scoped>\n",
       "    .dataframe tbody tr th:only-of-type {\n",
       "        vertical-align: middle;\n",
       "    }\n",
       "\n",
       "    .dataframe tbody tr th {\n",
       "        vertical-align: top;\n",
       "    }\n",
       "\n",
       "    .dataframe thead th {\n",
       "        text-align: right;\n",
       "    }\n",
       "</style>\n",
       "<table border=\"1\" class=\"dataframe\">\n",
       "  <thead>\n",
       "    <tr style=\"text-align: right;\">\n",
       "      <th></th>\n",
       "      <th>code</th>\n",
       "      <th>country</th>\n",
       "    </tr>\n",
       "  </thead>\n",
       "  <tbody>\n",
       "    <tr>\n",
       "      <th>81</th>\n",
       "      <td>520</td>\n",
       "      <td>GRENADA</td>\n",
       "    </tr>\n",
       "    <tr>\n",
       "      <th>42</th>\n",
       "      <td>721</td>\n",
       "      <td>CURACAO</td>\n",
       "    </tr>\n",
       "    <tr>\n",
       "      <th>244</th>\n",
       "      <td>394</td>\n",
       "      <td>INVALID: FRENCH SOUTHERN AND ANTARCTIC</td>\n",
       "    </tr>\n",
       "  </tbody>\n",
       "</table>\n",
       "</div>"
      ],
      "text/plain": [
       "    code                                 country\n",
       "81   520  GRENADA                               \n",
       "42   721  CURACAO                               \n",
       "244  394  INVALID: FRENCH SOUTHERN AND ANTARCTIC"
      ]
     },
     "execution_count": 49,
     "metadata": {},
     "output_type": "execute_result"
    }
   ],
   "source": [
    "countries_i94_codes.sample(3)"
   ]
  },
  {
   "cell_type": "code",
   "execution_count": 50,
   "metadata": {
    "editable": true
   },
   "outputs": [
    {
     "data": {
      "text/html": [
       "<div>\n",
       "<style scoped>\n",
       "    .dataframe tbody tr th:only-of-type {\n",
       "        vertical-align: middle;\n",
       "    }\n",
       "\n",
       "    .dataframe tbody tr th {\n",
       "        vertical-align: top;\n",
       "    }\n",
       "\n",
       "    .dataframe thead th {\n",
       "        text-align: right;\n",
       "    }\n",
       "</style>\n",
       "<table border=\"1\" class=\"dataframe\">\n",
       "  <thead>\n",
       "    <tr style=\"text-align: right;\">\n",
       "      <th></th>\n",
       "      <th>code</th>\n",
       "      <th>country</th>\n",
       "    </tr>\n",
       "  </thead>\n",
       "  <tbody>\n",
       "    <tr>\n",
       "      <th>286</th>\n",
       "      <td>914</td>\n",
       "      <td>No Country Code (914)</td>\n",
       "    </tr>\n",
       "    <tr>\n",
       "      <th>287</th>\n",
       "      <td>944</td>\n",
       "      <td>No Country Code (944)</td>\n",
       "    </tr>\n",
       "    <tr>\n",
       "      <th>288</th>\n",
       "      <td>996</td>\n",
       "      <td>No Country Code (996)</td>\n",
       "    </tr>\n",
       "  </tbody>\n",
       "</table>\n",
       "</div>"
      ],
      "text/plain": [
       "    code                country\n",
       "286  914  No Country Code (914)\n",
       "287  944  No Country Code (944)\n",
       "288  996  No Country Code (996)"
      ]
     },
     "execution_count": 50,
     "metadata": {},
     "output_type": "execute_result"
    }
   ],
   "source": [
    "countries_i94_codes.tail(3)"
   ]
  },
  {
   "cell_type": "markdown",
   "metadata": {
    "editable": true
   },
   "source": [
    "- codes with 'No Country Code', 'INVALID', 'Collapsed' code would be replaced with None as:\n",
    "    - Those with no country code aren't known.\n",
    "    - Those with invalid country codes such as PUERTO RICO could be known but not recognized as independent countries."
   ]
  },
  {
   "cell_type": "code",
   "execution_count": 51,
   "metadata": {
    "editable": true
   },
   "outputs": [],
   "source": [
    "## setting no country code, invalid and collapsed enteries to nan\n",
    "\n",
    "countries_i94_codes.country.loc[\n",
    "    countries_i94_codes.country.str.startswith(\n",
    "        (\"No Country Code\", \"INVALID\", \"Collapsed\")\n",
    "    )\n",
    "] = np.nan"
   ]
  },
  {
   "cell_type": "code",
   "execution_count": 52,
   "metadata": {
    "editable": true
   },
   "outputs": [
    {
     "data": {
      "text/html": [
       "<div>\n",
       "<style scoped>\n",
       "    .dataframe tbody tr th:only-of-type {\n",
       "        vertical-align: middle;\n",
       "    }\n",
       "\n",
       "    .dataframe tbody tr th {\n",
       "        vertical-align: top;\n",
       "    }\n",
       "\n",
       "    .dataframe thead th {\n",
       "        text-align: right;\n",
       "    }\n",
       "</style>\n",
       "<table border=\"1\" class=\"dataframe\">\n",
       "  <thead>\n",
       "    <tr style=\"text-align: right;\">\n",
       "      <th></th>\n",
       "      <th>code</th>\n",
       "      <th>country</th>\n",
       "    </tr>\n",
       "  </thead>\n",
       "  <tbody>\n",
       "    <tr>\n",
       "      <th>0</th>\n",
       "      <td>582</td>\n",
       "      <td>MEXICO</td>\n",
       "    </tr>\n",
       "    <tr>\n",
       "      <th>1</th>\n",
       "      <td>236</td>\n",
       "      <td>AFGHANISTAN</td>\n",
       "    </tr>\n",
       "  </tbody>\n",
       "</table>\n",
       "</div>"
      ],
      "text/plain": [
       "  code      country\n",
       "0  582  MEXICO     \n",
       "1  236  AFGHANISTAN"
      ]
     },
     "execution_count": 52,
     "metadata": {},
     "output_type": "execute_result"
    }
   ],
   "source": [
    "# fixing mexico entry\n",
    "\n",
    "countries_i94_codes.country.loc[0] = 'MEXICO'\n",
    "countries_i94_codes.head(2)"
   ]
  },
  {
   "cell_type": "code",
   "execution_count": 53,
   "metadata": {
    "editable": true
   },
   "outputs": [],
   "source": [
    "## Removing leading and trailing white space\n",
    "\n",
    "countries_i94_codes.country = countries_i94_codes.country.str.strip()"
   ]
  },
  {
   "cell_type": "code",
   "execution_count": 54,
   "metadata": {
    "editable": true
   },
   "outputs": [
    {
     "data": {
      "text/html": [
       "<div>\n",
       "<style scoped>\n",
       "    .dataframe tbody tr th:only-of-type {\n",
       "        vertical-align: middle;\n",
       "    }\n",
       "\n",
       "    .dataframe tbody tr th {\n",
       "        vertical-align: top;\n",
       "    }\n",
       "\n",
       "    .dataframe thead th {\n",
       "        text-align: right;\n",
       "    }\n",
       "</style>\n",
       "<table border=\"1\" class=\"dataframe\">\n",
       "  <thead>\n",
       "    <tr style=\"text-align: right;\">\n",
       "      <th></th>\n",
       "      <th>code</th>\n",
       "      <th>country</th>\n",
       "    </tr>\n",
       "  </thead>\n",
       "  <tbody>\n",
       "    <tr>\n",
       "      <th>54</th>\n",
       "      <td>723</td>\n",
       "      <td>FAROE ISLANDS (PART OF DENMARK)</td>\n",
       "    </tr>\n",
       "    <tr>\n",
       "      <th>95</th>\n",
       "      <td>759</td>\n",
       "      <td>INDIAN OCEAN AREAS (FRENCH)</td>\n",
       "    </tr>\n",
       "    <tr>\n",
       "      <th>135</th>\n",
       "      <td>760</td>\n",
       "      <td>MAYOTTE (AFRICA - FRENCH)</td>\n",
       "    </tr>\n",
       "    <tr>\n",
       "      <th>228</th>\n",
       "      <td>757</td>\n",
       "      <td>WEST INDIES (FRENCH)</td>\n",
       "    </tr>\n",
       "  </tbody>\n",
       "</table>\n",
       "</div>"
      ],
      "text/plain": [
       "    code                          country\n",
       "54   723  FAROE ISLANDS (PART OF DENMARK)\n",
       "95   759  INDIAN OCEAN AREAS (FRENCH)    \n",
       "135  760  MAYOTTE (AFRICA - FRENCH)      \n",
       "228  757  WEST INDIES (FRENCH)           "
      ]
     },
     "execution_count": 54,
     "metadata": {},
     "output_type": "execute_result"
    }
   ],
   "source": [
    "countries_i94_codes[countries_i94_codes.country.str.contains('\\(', na=False)]"
   ]
  },
  {
   "cell_type": "markdown",
   "metadata": {
    "editable": true
   },
   "source": [
    "Those countries will be left as is, as their situations is complicated. "
   ]
  },
  {
   "cell_type": "code",
   "execution_count": 55,
   "metadata": {
    "editable": true
   },
   "outputs": [],
   "source": [
    "countries_i94_codes.to_csv('lookup_tables/countries_i94_codes.csv', index=False)"
   ]
  },
  {
   "cell_type": "markdown",
   "metadata": {
    "editable": true
   },
   "source": [
    "***"
   ]
  },
  {
   "cell_type": "markdown",
   "metadata": {
    "editable": true
   },
   "source": [
    "Creating port_codes look table"
   ]
  },
  {
   "cell_type": "code",
   "execution_count": 56,
   "metadata": {
    "editable": true
   },
   "outputs": [
    {
     "data": {
      "text/html": [
       "<div>\n",
       "<style scoped>\n",
       "    .dataframe tbody tr th:only-of-type {\n",
       "        vertical-align: middle;\n",
       "    }\n",
       "\n",
       "    .dataframe tbody tr th {\n",
       "        vertical-align: top;\n",
       "    }\n",
       "\n",
       "    .dataframe thead th {\n",
       "        text-align: right;\n",
       "    }\n",
       "</style>\n",
       "<table border=\"1\" class=\"dataframe\">\n",
       "  <thead>\n",
       "    <tr style=\"text-align: right;\">\n",
       "      <th></th>\n",
       "      <th>code</th>\n",
       "      <th>port</th>\n",
       "    </tr>\n",
       "  </thead>\n",
       "  <tbody>\n",
       "    <tr>\n",
       "      <th>0</th>\n",
       "      <td>ALC</td>\n",
       "      <td>ALCAN, AK</td>\n",
       "    </tr>\n",
       "    <tr>\n",
       "      <th>1</th>\n",
       "      <td>ANC</td>\n",
       "      <td>ANCHORAGE, AK</td>\n",
       "    </tr>\n",
       "    <tr>\n",
       "      <th>2</th>\n",
       "      <td>BAR</td>\n",
       "      <td>BAKER AAF - BAKER ISLAND, AK</td>\n",
       "    </tr>\n",
       "  </tbody>\n",
       "</table>\n",
       "</div>"
      ],
      "text/plain": [
       "  code                          port\n",
       "0  ALC  ALCAN, AK                   \n",
       "1  ANC  ANCHORAGE, AK               \n",
       "2  BAR  BAKER AAF - BAKER ISLAND, AK"
      ]
     },
     "execution_count": 56,
     "metadata": {},
     "output_type": "execute_result"
    }
   ],
   "source": [
    "port_codes = pd.DataFrame(list(i94port.items()), columns=['code', 'port'])\n",
    "port_codes.head(3)"
   ]
  },
  {
   "cell_type": "code",
   "execution_count": 57,
   "metadata": {
    "editable": true
   },
   "outputs": [
    {
     "data": {
      "text/html": [
       "<div>\n",
       "<style scoped>\n",
       "    .dataframe tbody tr th:only-of-type {\n",
       "        vertical-align: middle;\n",
       "    }\n",
       "\n",
       "    .dataframe tbody tr th {\n",
       "        vertical-align: top;\n",
       "    }\n",
       "\n",
       "    .dataframe thead th {\n",
       "        text-align: right;\n",
       "    }\n",
       "</style>\n",
       "<table border=\"1\" class=\"dataframe\">\n",
       "  <thead>\n",
       "    <tr style=\"text-align: right;\">\n",
       "      <th></th>\n",
       "      <th>code</th>\n",
       "      <th>port</th>\n",
       "      <th>port_name</th>\n",
       "      <th>exten_1</th>\n",
       "      <th>exten_2</th>\n",
       "    </tr>\n",
       "  </thead>\n",
       "  <tbody>\n",
       "    <tr>\n",
       "      <th>0</th>\n",
       "      <td>ALC</td>\n",
       "      <td>ALCAN, AK</td>\n",
       "      <td>alcan</td>\n",
       "      <td>AK</td>\n",
       "      <td>None</td>\n",
       "    </tr>\n",
       "    <tr>\n",
       "      <th>1</th>\n",
       "      <td>ANC</td>\n",
       "      <td>ANCHORAGE, AK</td>\n",
       "      <td>anchorage</td>\n",
       "      <td>AK</td>\n",
       "      <td>None</td>\n",
       "    </tr>\n",
       "    <tr>\n",
       "      <th>2</th>\n",
       "      <td>BAR</td>\n",
       "      <td>BAKER AAF - BAKER ISLAND, AK</td>\n",
       "      <td>baker aaf - baker island</td>\n",
       "      <td>AK</td>\n",
       "      <td>None</td>\n",
       "    </tr>\n",
       "  </tbody>\n",
       "</table>\n",
       "</div>"
      ],
      "text/plain": [
       "  code                          port                 port_name exten_1 exten_2\n",
       "0  ALC  ALCAN, AK                     alcan                      AK     None  \n",
       "1  ANC  ANCHORAGE, AK                 anchorage                  AK     None  \n",
       "2  BAR  BAKER AAF - BAKER ISLAND, AK  baker aaf - baker island   AK     None  "
      ]
     },
     "execution_count": 57,
     "metadata": {},
     "output_type": "execute_result"
    }
   ],
   "source": [
    "port_codes[[\"port_name\", \"exten_1\", \"exten_2\"]] = port_codes.port.str.split(\n",
    "    \",\", expand=True\n",
    ")\n",
    "port_codes.port_name = port_codes.port_name.str.lower()\n",
    "port_codes.head(3)"
   ]
  },
  {
   "cell_type": "code",
   "execution_count": 58,
   "metadata": {
    "editable": true
   },
   "outputs": [],
   "source": [
    "countries_i94_codes.to_csv('lookup_tables/ports.csv', index=False)"
   ]
  },
  {
   "cell_type": "markdown",
   "metadata": {
    "editable": true
   },
   "source": [
    "Creating addr_states lookup table"
   ]
  },
  {
   "cell_type": "code",
   "execution_count": 59,
   "metadata": {
    "editable": true
   },
   "outputs": [
    {
     "data": {
      "text/html": [
       "<div>\n",
       "<style scoped>\n",
       "    .dataframe tbody tr th:only-of-type {\n",
       "        vertical-align: middle;\n",
       "    }\n",
       "\n",
       "    .dataframe tbody tr th {\n",
       "        vertical-align: top;\n",
       "    }\n",
       "\n",
       "    .dataframe thead th {\n",
       "        text-align: right;\n",
       "    }\n",
       "</style>\n",
       "<table border=\"1\" class=\"dataframe\">\n",
       "  <thead>\n",
       "    <tr style=\"text-align: right;\">\n",
       "      <th></th>\n",
       "      <th>code</th>\n",
       "      <th>address</th>\n",
       "    </tr>\n",
       "  </thead>\n",
       "  <tbody>\n",
       "    <tr>\n",
       "      <th>0</th>\n",
       "      <td>AL</td>\n",
       "      <td>ALABAMA</td>\n",
       "    </tr>\n",
       "    <tr>\n",
       "      <th>1</th>\n",
       "      <td>AK</td>\n",
       "      <td>ALASKA</td>\n",
       "    </tr>\n",
       "    <tr>\n",
       "      <th>2</th>\n",
       "      <td>AZ</td>\n",
       "      <td>ARIZONA</td>\n",
       "    </tr>\n",
       "  </tbody>\n",
       "</table>\n",
       "</div>"
      ],
      "text/plain": [
       "  code  address\n",
       "0  AL   ALABAMA\n",
       "1  AK   ALASKA \n",
       "2  AZ   ARIZONA"
      ]
     },
     "execution_count": 59,
     "metadata": {},
     "output_type": "execute_result"
    }
   ],
   "source": [
    "addr_states = pd.DataFrame(list(i94addr.items()), columns=['code', 'address'])\n",
    "addr_states.head(3)"
   ]
  },
  {
   "cell_type": "code",
   "execution_count": 60,
   "metadata": {
    "editable": true
   },
   "outputs": [
    {
     "data": {
      "text/html": [
       "<div>\n",
       "<style scoped>\n",
       "    .dataframe tbody tr th:only-of-type {\n",
       "        vertical-align: middle;\n",
       "    }\n",
       "\n",
       "    .dataframe tbody tr th {\n",
       "        vertical-align: top;\n",
       "    }\n",
       "\n",
       "    .dataframe thead th {\n",
       "        text-align: right;\n",
       "    }\n",
       "</style>\n",
       "<table border=\"1\" class=\"dataframe\">\n",
       "  <thead>\n",
       "    <tr style=\"text-align: right;\">\n",
       "      <th></th>\n",
       "      <th>code</th>\n",
       "      <th>address</th>\n",
       "    </tr>\n",
       "  </thead>\n",
       "  <tbody>\n",
       "    <tr>\n",
       "      <th>52</th>\n",
       "      <td>WI</td>\n",
       "      <td>WISCONSON</td>\n",
       "    </tr>\n",
       "    <tr>\n",
       "      <th>53</th>\n",
       "      <td>WY</td>\n",
       "      <td>WYOMING</td>\n",
       "    </tr>\n",
       "    <tr>\n",
       "      <th>54</th>\n",
       "      <td>99</td>\n",
       "      <td>All Other Codes</td>\n",
       "    </tr>\n",
       "  </tbody>\n",
       "</table>\n",
       "</div>"
      ],
      "text/plain": [
       "   code          address\n",
       "52  WI   WISCONSON      \n",
       "53  WY   WYOMING        \n",
       "54  99   All Other Codes"
      ]
     },
     "execution_count": 60,
     "metadata": {},
     "output_type": "execute_result"
    }
   ],
   "source": [
    "addr_states.tail(3)"
   ]
  },
  {
   "cell_type": "markdown",
   "metadata": {
    "editable": true
   },
   "source": [
    "* Since in the non_immigrant data, there are much many more adddressed than the number of US states and than those in the, it's clear there would questionable codes in the non_immigrant data when referencing addr_states.\n",
    "* the addr_states and another later to be created (state to state_code) look up table in the us-cities-demogrpahics are almost the same. Therefore, a combined lookup table would be made out of them."
   ]
  },
  {
   "cell_type": "markdown",
   "metadata": {
    "editable": true
   },
   "source": [
    "***"
   ]
  },
  {
   "cell_type": "code",
   "execution_count": 61,
   "metadata": {
    "editable": true
   },
   "outputs": [],
   "source": [
    "def map_df(df, column, new_column, mapper):\n",
    "    \"\"\"\n",
    "    maps the values of column 'column' in the dataframe 'df'\n",
    "    to a new column 'new_column' using the mapping 'mapper'\n",
    "    and returns the dataframe with the new column\n",
    "    \"\"\"\n",
    "    \n",
    "    return df.withColumn(new_column, mapper.getItem(col(column)))"
   ]
  },
  {
   "cell_type": "code",
   "execution_count": 62,
   "metadata": {
    "editable": true
   },
   "outputs": [],
   "source": [
    "mode_map = create_map([lit(x) for x in chain(*i94mode.items())])\n",
    "visa_map = create_map([lit(x) for x in chain(*i94visa.items())])"
   ]
  },
  {
   "cell_type": "code",
   "execution_count": 63,
   "metadata": {
    "editable": true
   },
   "outputs": [
    {
     "data": {
      "text/plain": [
       "[Row(id=0, citizenship='245', residency='438', birth_year=1976, gender='F', arrival_dt='2016/04/30', departure_dt='2016/05/08', port='LOS', mode='Air', address='CA', visa='Business', airline='QF', admission_num=94953870030, flight_no='00011', visatype='B1', addmitted_dt='2016/10/29', i94_added_dt='2016/04/30')]"
      ]
     },
     "execution_count": 63,
     "metadata": {},
     "output_type": "execute_result"
    }
   ],
   "source": [
    "clean_df = map_df(clean_df, 'mode', 'mode', mode_map)\n",
    "clean_df = map_df(clean_df, 'visa', 'visa', visa_map)\n",
    "\n",
    "clean_df.take(1)"
   ]
  },
  {
   "cell_type": "markdown",
   "metadata": {
    "editable": true
   },
   "source": [
    "Saving Cleaned non immigrant data locally as parquet files"
   ]
  },
  {
   "cell_type": "code",
   "execution_count": 64,
   "metadata": {
    "editable": true
   },
   "outputs": [],
   "source": [
    "sampled_df = clean_df.sample(.1).toPandas()"
   ]
  },
  {
   "cell_type": "code",
   "execution_count": 65,
   "metadata": {
    "editable": true
   },
   "outputs": [
    {
     "data": {
      "text/plain": [
       "(309389, 17)"
      ]
     },
     "execution_count": 65,
     "metadata": {},
     "output_type": "execute_result"
    }
   ],
   "source": [
    "sampled_df.shape"
   ]
  },
  {
   "cell_type": "code",
   "execution_count": 66,
   "metadata": {
    "editable": true
   },
   "outputs": [],
   "source": [
    "sampled_df[['arrival_dt']]\\\n",
    ".apply(pd.value_counts).plot(kind='bar', subplots=True, figsize=(8, 5));"
   ]
  },
  {
   "cell_type": "code",
   "execution_count": 67,
   "metadata": {
    "editable": true
   },
   "outputs": [
    {
     "name": "stdout",
     "output_type": "stream",
     "text": [
      "-RECORD 0---------\n",
      " arrival_dt | 0   \n",
      "\n"
     ]
    }
   ],
   "source": [
    "## checking if there is missing values in arrival_dt column in\n",
    "## the original data to take the decision \n",
    "\n",
    "clean_df.select([count(when(isnan(c) | col(c).isNull(), c)).alias(c) for c in [\n",
    " 'arrival_dt']]).show(vertical=True)"
   ]
  },
  {
   "cell_type": "markdown",
   "metadata": {
    "editable": true
   },
   "source": [
    "Testing the distribution of multiple column to partition by, so far arrival_dt has the most near uniform distribution and the column has no null values. <br>\n",
    "Therefore, non-immigrant clean data will be partitioned by arrival date when stored as parquet file"
   ]
  },
  {
   "cell_type": "code",
   "execution_count": 68,
   "metadata": {
    "editable": true
   },
   "outputs": [],
   "source": [
    "clean_df.write.mode(\"overwrite\").partitionBy(\"arrival_dt\").parquet('clean_data/non_immigrant.parquet')"
   ]
  },
  {
   "cell_type": "markdown",
   "metadata": {
    "editable": true
   },
   "source": [
    "#### Temperatures Data"
   ]
  },
  {
   "cell_type": "code",
   "execution_count": 69,
   "metadata": {
    "editable": true
   },
   "outputs": [
    {
     "data": {
      "text/html": [
       "<div>\n",
       "<style scoped>\n",
       "    .dataframe tbody tr th:only-of-type {\n",
       "        vertical-align: middle;\n",
       "    }\n",
       "\n",
       "    .dataframe tbody tr th {\n",
       "        vertical-align: top;\n",
       "    }\n",
       "\n",
       "    .dataframe thead th {\n",
       "        text-align: right;\n",
       "    }\n",
       "</style>\n",
       "<table border=\"1\" class=\"dataframe\">\n",
       "  <thead>\n",
       "    <tr style=\"text-align: right;\">\n",
       "      <th></th>\n",
       "      <th>dt</th>\n",
       "      <th>AverageTemperature</th>\n",
       "      <th>AverageTemperatureUncertainty</th>\n",
       "      <th>City</th>\n",
       "      <th>Country</th>\n",
       "      <th>Latitude</th>\n",
       "      <th>Longitude</th>\n",
       "    </tr>\n",
       "  </thead>\n",
       "  <tbody>\n",
       "    <tr>\n",
       "      <th>843224</th>\n",
       "      <td>1978-06-01</td>\n",
       "      <td>13.501</td>\n",
       "      <td>0.403</td>\n",
       "      <td>Berezniki</td>\n",
       "      <td>Russia</td>\n",
       "      <td>58.66N</td>\n",
       "      <td>55.38E</td>\n",
       "    </tr>\n",
       "    <tr>\n",
       "      <th>1315758</th>\n",
       "      <td>1978-08-01</td>\n",
       "      <td>23.888</td>\n",
       "      <td>0.385</td>\n",
       "      <td>Camaçari</td>\n",
       "      <td>Brazil</td>\n",
       "      <td>12.05S</td>\n",
       "      <td>37.81W</td>\n",
       "    </tr>\n",
       "    <tr>\n",
       "      <th>5436667</th>\n",
       "      <td>1946-09-01</td>\n",
       "      <td>26.055</td>\n",
       "      <td>0.266</td>\n",
       "      <td>Okrika</td>\n",
       "      <td>Nigeria</td>\n",
       "      <td>4.02N</td>\n",
       "      <td>7.23E</td>\n",
       "    </tr>\n",
       "  </tbody>\n",
       "</table>\n",
       "</div>"
      ],
      "text/plain": [
       "                 dt  AverageTemperature  AverageTemperatureUncertainty  \\\n",
       "843224   1978-06-01  13.501              0.403                           \n",
       "1315758  1978-08-01  23.888              0.385                           \n",
       "5436667  1946-09-01  26.055              0.266                           \n",
       "\n",
       "              City  Country Latitude Longitude  \n",
       "843224   Berezniki  Russia   58.66N   55.38E    \n",
       "1315758  Camaçari   Brazil   12.05S   37.81W    \n",
       "5436667  Okrika     Nigeria  4.02N    7.23E     "
      ]
     },
     "execution_count": 69,
     "metadata": {},
     "output_type": "execute_result"
    }
   ],
   "source": [
    "temp_df.sample(3)"
   ]
  },
  {
   "cell_type": "markdown",
   "metadata": {
    "editable": true
   },
   "source": [
    " **Assessment:**\n",
    "- date column isn't of type date.\n",
    "- latitude and longitude is object type and are better to be converted to numeric types with position and negative values according to North, South for latitude and East, West for longitude respectively.\n",
    "- Numerical longitude are better for storage and can be used in calculations such as:\n",
    "    * distance between two points even if it's may not be relevant currenlty. \n",
    "    * Using a map API such as google maps, many information can be driven, such as city, county, state, nearby landmarks."
   ]
  },
  {
   "cell_type": "code",
   "execution_count": 70,
   "metadata": {
    "editable": true
   },
   "outputs": [],
   "source": [
    "## converting dt column to datetime type\n",
    "\n",
    "temp_df.dt = pd.to_datetime(temp_df.dt)"
   ]
  },
  {
   "cell_type": "code",
   "execution_count": 71,
   "metadata": {
    "editable": true
   },
   "outputs": [],
   "source": [
    "def long_lat_conv(text):\n",
    "    \"\"\"\n",
    "    convert latitude and longitude columns in one\n",
    "    of the four forms of 'ddN', 'ddS', 'ddE', 'ddW'\n",
    "    to either positive or negative number form based\n",
    "    on the direction\n",
    "    \"\"\"\n",
    "    \n",
    "    if text[-1] == 'N' or text[-1] == 'E':\n",
    "        return float(text[:-1])\n",
    "    elif text[-1] == 'S' or text[-1] == 'W':\n",
    "        return -float(text[:-1])"
   ]
  },
  {
   "cell_type": "code",
   "execution_count": 72,
   "metadata": {
    "editable": true
   },
   "outputs": [
    {
     "data": {
      "text/html": [
       "<div>\n",
       "<style scoped>\n",
       "    .dataframe tbody tr th:only-of-type {\n",
       "        vertical-align: middle;\n",
       "    }\n",
       "\n",
       "    .dataframe tbody tr th {\n",
       "        vertical-align: top;\n",
       "    }\n",
       "\n",
       "    .dataframe thead th {\n",
       "        text-align: right;\n",
       "    }\n",
       "</style>\n",
       "<table border=\"1\" class=\"dataframe\">\n",
       "  <thead>\n",
       "    <tr style=\"text-align: right;\">\n",
       "      <th></th>\n",
       "      <th>dt</th>\n",
       "      <th>AverageTemperature</th>\n",
       "      <th>AverageTemperatureUncertainty</th>\n",
       "      <th>City</th>\n",
       "      <th>Country</th>\n",
       "      <th>Latitude</th>\n",
       "      <th>Longitude</th>\n",
       "    </tr>\n",
       "  </thead>\n",
       "  <tbody>\n",
       "    <tr>\n",
       "      <th>4046747</th>\n",
       "      <td>1862-06-01</td>\n",
       "      <td>22.041</td>\n",
       "      <td>1.553</td>\n",
       "      <td>Kure</td>\n",
       "      <td>Japan</td>\n",
       "      <td>34.56</td>\n",
       "      <td>132.32</td>\n",
       "    </tr>\n",
       "    <tr>\n",
       "      <th>6665466</th>\n",
       "      <td>1933-05-01</td>\n",
       "      <td>27.456</td>\n",
       "      <td>0.278</td>\n",
       "      <td>San Miguelito</td>\n",
       "      <td>Panama</td>\n",
       "      <td>8.84</td>\n",
       "      <td>-80.27</td>\n",
       "    </tr>\n",
       "    <tr>\n",
       "      <th>5186780</th>\n",
       "      <td>1989-04-01</td>\n",
       "      <td>19.975</td>\n",
       "      <td>0.429</td>\n",
       "      <td>Netanya</td>\n",
       "      <td>Israel</td>\n",
       "      <td>32.95</td>\n",
       "      <td>35.43</td>\n",
       "    </tr>\n",
       "  </tbody>\n",
       "</table>\n",
       "</div>"
      ],
      "text/plain": [
       "                dt  AverageTemperature  AverageTemperatureUncertainty  \\\n",
       "4046747 1862-06-01  22.041              1.553                           \n",
       "6665466 1933-05-01  27.456              0.278                           \n",
       "5186780 1989-04-01  19.975              0.429                           \n",
       "\n",
       "                  City Country  Latitude  Longitude  \n",
       "4046747  Kure           Japan   34.56     132.32     \n",
       "6665466  San Miguelito  Panama  8.84     -80.27      \n",
       "5186780  Netanya        Israel  32.95     35.43      "
      ]
     },
     "execution_count": 72,
     "metadata": {},
     "output_type": "execute_result"
    }
   ],
   "source": [
    "temp_df['Latitude'] = temp_df['Latitude'].str.strip().apply(long_lat_conv)\n",
    "temp_df['Longitude'] = temp_df['Longitude'].str.strip().apply(long_lat_conv)\n",
    "temp_df.sample(3)"
   ]
  },
  {
   "cell_type": "code",
   "execution_count": 73,
   "metadata": {
    "editable": true
   },
   "outputs": [
    {
     "data": {
      "text/plain": [
       "dt                               8599212\n",
       "AverageTemperature               8235082\n",
       "AverageTemperatureUncertainty    8235082\n",
       "City                             8599212\n",
       "Country                          8599212\n",
       "Latitude                         8599212\n",
       "Longitude                        8599212\n",
       "dtype: int64"
      ]
     },
     "execution_count": 73,
     "metadata": {},
     "output_type": "execute_result"
    }
   ],
   "source": [
    "temp_df.count()"
   ]
  },
  {
   "cell_type": "code",
   "execution_count": 74,
   "metadata": {
    "editable": true
   },
   "outputs": [
    {
     "data": {
      "text/plain": [
       "dt                               0     \n",
       "AverageTemperature               364130\n",
       "AverageTemperatureUncertainty    364130\n",
       "City                             0     \n",
       "Country                          0     \n",
       "Latitude                         0     \n",
       "Longitude                        0     \n",
       "dtype: int64"
      ]
     },
     "execution_count": 74,
     "metadata": {},
     "output_type": "execute_result"
    }
   ],
   "source": [
    "temp_df.isna().sum()"
   ]
  },
  {
   "cell_type": "code",
   "execution_count": 75,
   "metadata": {
    "editable": true
   },
   "outputs": [
    {
     "data": {
      "text/plain": [
       "0"
      ]
     },
     "execution_count": 75,
     "metadata": {},
     "output_type": "execute_result"
    }
   ],
   "source": [
    "## Checking if exists records where AverageTemperature is null \n",
    "## while AverageTemperatureUncertainty isn't or vice versa\n",
    "\n",
    "(temp_df.AverageTemperature.isna() != temp_df.AverageTemperatureUncertainty.isna()).sum()"
   ]
  },
  {
   "cell_type": "markdown",
   "metadata": {
    "editable": true
   },
   "source": [
    "* There are 364130 out of 8599212 records that are null in AverageTemperature, AverageTemperatureUncertainty columns and both columns have nulls at the same rows. Such rows are not useful for the temperature data as both of those columns are the important info. seeked in this dataset otherwise, it would be a mere dataframe representing some cities locations. \n",
    "* Hence, those rows where the temperature is unkonwn will be dropped "
   ]
  },
  {
   "cell_type": "code",
   "execution_count": 76,
   "metadata": {
    "editable": true
   },
   "outputs": [
    {
     "data": {
      "text/plain": [
       "(8235082, 7)"
      ]
     },
     "execution_count": 76,
     "metadata": {},
     "output_type": "execute_result"
    }
   ],
   "source": [
    "temp_df = temp_df[-temp_df.AverageTemperature.isna()]\n",
    "temp_df.shape"
   ]
  },
  {
   "cell_type": "code",
   "execution_count": 77,
   "metadata": {
    "editable": true
   },
   "outputs": [],
   "source": [
    "temp_df.to_csv('clean_data/world_temperatures.csv', index=False)"
   ]
  },
  {
   "cell_type": "markdown",
   "metadata": {
    "editable": true
   },
   "source": [
    "#### Airport Codes Data"
   ]
  },
  {
   "cell_type": "code",
   "execution_count": 98,
   "metadata": {
    "editable": true
   },
   "outputs": [
    {
     "data": {
      "text/html": [
       "<div>\n",
       "<style scoped>\n",
       "    .dataframe tbody tr th:only-of-type {\n",
       "        vertical-align: middle;\n",
       "    }\n",
       "\n",
       "    .dataframe tbody tr th {\n",
       "        vertical-align: top;\n",
       "    }\n",
       "\n",
       "    .dataframe thead th {\n",
       "        text-align: right;\n",
       "    }\n",
       "</style>\n",
       "<table border=\"1\" class=\"dataframe\">\n",
       "  <thead>\n",
       "    <tr style=\"text-align: right;\">\n",
       "      <th></th>\n",
       "      <th>ident</th>\n",
       "      <th>type</th>\n",
       "      <th>name</th>\n",
       "      <th>elevation_ft</th>\n",
       "      <th>continent</th>\n",
       "      <th>iso_country</th>\n",
       "      <th>iso_region</th>\n",
       "      <th>municipality</th>\n",
       "      <th>gps_code</th>\n",
       "      <th>iata_code</th>\n",
       "      <th>local_code</th>\n",
       "      <th>coordinates</th>\n",
       "    </tr>\n",
       "  </thead>\n",
       "  <tbody>\n",
       "    <tr>\n",
       "      <th>17102</th>\n",
       "      <td>DE-0171</td>\n",
       "      <td>small_airport</td>\n",
       "      <td>Arnsberg-Ruhrwiese Airfield</td>\n",
       "      <td>611.0</td>\n",
       "      <td>EU</td>\n",
       "      <td>DE</td>\n",
       "      <td>DE-NW</td>\n",
       "      <td>Arnsberg</td>\n",
       "      <td>NaN</td>\n",
       "      <td>NaN</td>\n",
       "      <td>NaN</td>\n",
       "      <td>8.0605, 51.3878</td>\n",
       "    </tr>\n",
       "    <tr>\n",
       "      <th>40805</th>\n",
       "      <td>SACS</td>\n",
       "      <td>small_airport</td>\n",
       "      <td>Villa De Soto Airport</td>\n",
       "      <td>2013.0</td>\n",
       "      <td>SA</td>\n",
       "      <td>AR</td>\n",
       "      <td>AR-X</td>\n",
       "      <td>Villa de Soto</td>\n",
       "      <td>SACS</td>\n",
       "      <td>NaN</td>\n",
       "      <td>SOT</td>\n",
       "      <td>-64.97899627689999, -30.865200042699996</td>\n",
       "    </tr>\n",
       "    <tr>\n",
       "      <th>5499</th>\n",
       "      <td>4NE1</td>\n",
       "      <td>small_airport</td>\n",
       "      <td>Mc Millan Ranch Airport</td>\n",
       "      <td>2500.0</td>\n",
       "      <td>NaN</td>\n",
       "      <td>US</td>\n",
       "      <td>US-NE</td>\n",
       "      <td>Milburn</td>\n",
       "      <td>4NE1</td>\n",
       "      <td>NaN</td>\n",
       "      <td>4NE1</td>\n",
       "      <td>-99.75460052490001, 41.7541999817</td>\n",
       "    </tr>\n",
       "  </tbody>\n",
       "</table>\n",
       "</div>"
      ],
      "text/plain": [
       "         ident           type                         name  elevation_ft  \\\n",
       "17102  DE-0171  small_airport  Arnsberg-Ruhrwiese Airfield  611.0          \n",
       "40805  SACS     small_airport  Villa De Soto Airport        2013.0         \n",
       "5499   4NE1     small_airport  Mc Millan Ranch Airport      2500.0         \n",
       "\n",
       "      continent iso_country iso_region   municipality gps_code iata_code  \\\n",
       "17102  EU        DE          DE-NW      Arnsberg       NaN      NaN        \n",
       "40805  SA        AR          AR-X       Villa de Soto  SACS     NaN        \n",
       "5499   NaN       US          US-NE      Milburn        4NE1     NaN        \n",
       "\n",
       "      local_code                              coordinates  \n",
       "17102  NaN        8.0605, 51.3878                          \n",
       "40805  SOT        -64.97899627689999, -30.865200042699996  \n",
       "5499   4NE1       -99.75460052490001, 41.7541999817        "
      ]
     },
     "execution_count": 98,
     "metadata": {},
     "output_type": "execute_result"
    }
   ],
   "source": [
    "airport_df.sample(3)"
   ]
  },
  {
   "cell_type": "markdown",
   "metadata": {
    "editable": true
   },
   "source": [
    "6 decimal precision in longitude and latitude values have good accuracy for an airport. coordinates will be split and rounded to 6 decimal places, for more info. about decimal places in latitude and longtitude, [click here](http://wiki.gis.com/wiki/index.php/Decimal_degrees)"
   ]
  },
  {
   "cell_type": "code",
   "execution_count": 99,
   "metadata": {
    "editable": true
   },
   "outputs": [],
   "source": [
    "coordinates_split = airport_df.coordinates.str.split(\",\", expand=True)\n",
    "airport_df[\"longitude\"] = (\n",
    "    coordinates_split[0].astype(float).apply(lambda x: np.round(x, decimals=6))\n",
    ")\n",
    "airport_df[\"latitude\"] = (\n",
    "    coordinates_split[1].astype(float).apply(lambda x: np.round(x, decimals=6))\n",
    ")"
   ]
  },
  {
   "cell_type": "code",
   "execution_count": 100,
   "metadata": {
    "editable": true
   },
   "outputs": [
    {
     "data": {
      "text/plain": [
       "0"
      ]
     },
     "execution_count": 100,
     "metadata": {},
     "output_type": "execute_result"
    }
   ],
   "source": [
    "## checking for duplicate records in the airport dataframe\n",
    "\n",
    "airport_df.duplicated().sum()"
   ]
  },
  {
   "cell_type": "code",
   "execution_count": 101,
   "metadata": {
    "editable": true
   },
   "outputs": [
    {
     "data": {
      "text/plain": [
       "0"
      ]
     },
     "execution_count": 101,
     "metadata": {},
     "output_type": "execute_result"
    }
   ],
   "source": [
    "## checking for duplicates in the identity column which represents the airport code\n",
    "\n",
    "airport_df.ident.duplicated().sum()"
   ]
  },
  {
   "cell_type": "code",
   "execution_count": 102,
   "metadata": {
    "editable": true
   },
   "outputs": [
    {
     "data": {
      "text/plain": [
       "ident           0    \n",
       "type            0    \n",
       "name            0    \n",
       "elevation_ft    7006 \n",
       "continent       27719\n",
       "iso_country     247  \n",
       "iso_region      0    \n",
       "municipality    5676 \n",
       "gps_code        14045\n",
       "iata_code       45886\n",
       "local_code      26389\n",
       "coordinates     0    \n",
       "longitude       0    \n",
       "latitude        0    \n",
       "dtype: int64"
      ]
     },
     "execution_count": 102,
     "metadata": {},
     "output_type": "execute_result"
    }
   ],
   "source": [
    "airport_df.isna().sum()"
   ]
  },
  {
   "cell_type": "markdown",
   "metadata": {
    "editable": true
   },
   "source": [
    "* since the iso_country name is present, it's fairly easy to know which continent a country is in, after all there's only 7 continents in the world, 1 of them is uninhabited.\n",
    "* Columns gps_code, iata_code, local_code have many missing values, yet I would still keep them, local_code possibly LID code that could represents [FAA code](https://en.wikipedia.org/wiki/Location_identifier) even though it's not clearly stated, but keeping such columns may showcase the confusion in using local codes as stated in this [article](https://blog.flightaware.com/a-guide-to-understanding-airport-codes-iata-icao-and-lid#:~:text=IATA%20codes%20are%20the%20most,to%20facilitate%20passenger%20air%20travel.) in the LID section and how local codes could differ from iata code and how local codes could be even of different languages (even though such case couldn't be encountered in this dataset). In case of analysis, the data analyst could just remove those columns if they deemed not useful to his/her analysis. "
   ]
  },
  {
   "cell_type": "code",
   "execution_count": 103,
   "metadata": {
    "editable": true
   },
   "outputs": [
    {
     "data": {
      "text/html": [
       "<div>\n",
       "<style scoped>\n",
       "    .dataframe tbody tr th:only-of-type {\n",
       "        vertical-align: middle;\n",
       "    }\n",
       "\n",
       "    .dataframe tbody tr th {\n",
       "        vertical-align: top;\n",
       "    }\n",
       "\n",
       "    .dataframe thead th {\n",
       "        text-align: right;\n",
       "    }\n",
       "</style>\n",
       "<table border=\"1\" class=\"dataframe\">\n",
       "  <thead>\n",
       "    <tr style=\"text-align: right;\">\n",
       "      <th></th>\n",
       "      <th>ident</th>\n",
       "      <th>type</th>\n",
       "      <th>name</th>\n",
       "      <th>elevation_ft</th>\n",
       "      <th>iso_country</th>\n",
       "      <th>iso_region</th>\n",
       "      <th>municipality</th>\n",
       "      <th>gps_code</th>\n",
       "      <th>iata_code</th>\n",
       "      <th>local_code</th>\n",
       "      <th>longitude</th>\n",
       "      <th>latitude</th>\n",
       "    </tr>\n",
       "  </thead>\n",
       "  <tbody>\n",
       "    <tr>\n",
       "      <th>0</th>\n",
       "      <td>00A</td>\n",
       "      <td>heliport</td>\n",
       "      <td>Total Rf Heliport</td>\n",
       "      <td>11.0</td>\n",
       "      <td>US</td>\n",
       "      <td>US-PA</td>\n",
       "      <td>Bensalem</td>\n",
       "      <td>00A</td>\n",
       "      <td>NaN</td>\n",
       "      <td>00A</td>\n",
       "      <td>-74.933601</td>\n",
       "      <td>40.070801</td>\n",
       "    </tr>\n",
       "    <tr>\n",
       "      <th>1</th>\n",
       "      <td>00AA</td>\n",
       "      <td>small_airport</td>\n",
       "      <td>Aero B Ranch Airport</td>\n",
       "      <td>3435.0</td>\n",
       "      <td>US</td>\n",
       "      <td>US-KS</td>\n",
       "      <td>Leoti</td>\n",
       "      <td>00AA</td>\n",
       "      <td>NaN</td>\n",
       "      <td>00AA</td>\n",
       "      <td>-101.473911</td>\n",
       "      <td>38.704022</td>\n",
       "    </tr>\n",
       "    <tr>\n",
       "      <th>2</th>\n",
       "      <td>00AK</td>\n",
       "      <td>small_airport</td>\n",
       "      <td>Lowell Field</td>\n",
       "      <td>450.0</td>\n",
       "      <td>US</td>\n",
       "      <td>US-AK</td>\n",
       "      <td>Anchor Point</td>\n",
       "      <td>00AK</td>\n",
       "      <td>NaN</td>\n",
       "      <td>00AK</td>\n",
       "      <td>-151.695999</td>\n",
       "      <td>59.949200</td>\n",
       "    </tr>\n",
       "  </tbody>\n",
       "</table>\n",
       "</div>"
      ],
      "text/plain": [
       "  ident           type                  name  elevation_ft iso_country  \\\n",
       "0  00A   heliport       Total Rf Heliport     11.0          US           \n",
       "1  00AA  small_airport  Aero B Ranch Airport  3435.0        US           \n",
       "2  00AK  small_airport  Lowell Field          450.0         US           \n",
       "\n",
       "  iso_region  municipality gps_code iata_code local_code   longitude  \\\n",
       "0  US-PA      Bensalem      00A      NaN       00A       -74.933601    \n",
       "1  US-KS      Leoti         00AA     NaN       00AA      -101.473911   \n",
       "2  US-AK      Anchor Point  00AK     NaN       00AK      -151.695999   \n",
       "\n",
       "    latitude  \n",
       "0  40.070801  \n",
       "1  38.704022  \n",
       "2  59.949200  "
      ]
     },
     "execution_count": 103,
     "metadata": {},
     "output_type": "execute_result"
    }
   ],
   "source": [
    "airport_df.drop(['coordinates', 'continent'], axis=1, inplace=True)\n",
    "airport_df.head(3)"
   ]
  },
  {
   "cell_type": "code",
   "execution_count": 104,
   "metadata": {
    "editable": true
   },
   "outputs": [
    {
     "data": {
      "text/html": [
       "<div>\n",
       "<style scoped>\n",
       "    .dataframe tbody tr th:only-of-type {\n",
       "        vertical-align: middle;\n",
       "    }\n",
       "\n",
       "    .dataframe tbody tr th {\n",
       "        vertical-align: top;\n",
       "    }\n",
       "\n",
       "    .dataframe thead th {\n",
       "        text-align: right;\n",
       "    }\n",
       "</style>\n",
       "<table border=\"1\" class=\"dataframe\">\n",
       "  <thead>\n",
       "    <tr style=\"text-align: right;\">\n",
       "      <th></th>\n",
       "      <th>ident</th>\n",
       "      <th>type</th>\n",
       "      <th>name</th>\n",
       "      <th>elevation_ft</th>\n",
       "      <th>iso_country</th>\n",
       "      <th>iso_region</th>\n",
       "      <th>municipality</th>\n",
       "      <th>gps_code</th>\n",
       "      <th>iata_code</th>\n",
       "      <th>local_code</th>\n",
       "      <th>longitude</th>\n",
       "      <th>latitude</th>\n",
       "    </tr>\n",
       "  </thead>\n",
       "  <tbody>\n",
       "    <tr>\n",
       "      <th>23606</th>\n",
       "      <td>ID-0166</td>\n",
       "      <td>small_airport</td>\n",
       "      <td>Yigi Airstrip</td>\n",
       "      <td>6100.0</td>\n",
       "      <td>ID</td>\n",
       "      <td>ID-PA</td>\n",
       "      <td>Yigi</td>\n",
       "      <td>NaN</td>\n",
       "      <td>NaN</td>\n",
       "      <td>YIG</td>\n",
       "      <td>138.3934</td>\n",
       "      <td>-4.2278</td>\n",
       "    </tr>\n",
       "  </tbody>\n",
       "</table>\n",
       "</div>"
      ],
      "text/plain": [
       "         ident           type           name  elevation_ft iso_country  \\\n",
       "23606  ID-0166  small_airport  Yigi Airstrip  6100.0        ID           \n",
       "\n",
       "      iso_region municipality gps_code iata_code local_code  longitude  \\\n",
       "23606  ID-PA      Yigi         NaN      NaN       YIG        138.3934    \n",
       "\n",
       "       latitude  \n",
       "23606 -4.2278    "
      ]
     },
     "execution_count": 104,
     "metadata": {},
     "output_type": "execute_result"
    }
   ],
   "source": [
    "airport_df[-airport_df.local_code.isna()].query(\n",
    "    \"local_code != ident and local_code != gps_code\"\n",
    ").sample(1)\n"
   ]
  },
  {
   "cell_type": "markdown",
   "metadata": {
    "editable": true
   },
   "source": [
    "It's evident that local code could be different from ident code and exist while iata_code doesn't as there aren't as many iata codes as there are airports in the world"
   ]
  },
  {
   "cell_type": "code",
   "execution_count": 105,
   "metadata": {
    "editable": true
   },
   "outputs": [
    {
     "name": "stdout",
     "output_type": "stream",
     "text": [
      "<class 'pandas.core.frame.DataFrame'>\n",
      "RangeIndex: 55075 entries, 0 to 55074\n",
      "Data columns (total 12 columns):\n",
      "ident           55075 non-null object\n",
      "type            55075 non-null object\n",
      "name            55075 non-null object\n",
      "elevation_ft    48069 non-null float64\n",
      "iso_country     54828 non-null object\n",
      "iso_region      55075 non-null object\n",
      "municipality    49399 non-null object\n",
      "gps_code        41030 non-null object\n",
      "iata_code       9189 non-null object\n",
      "local_code      28686 non-null object\n",
      "longitude       55075 non-null float64\n",
      "latitude        55075 non-null float64\n",
      "dtypes: float64(3), object(9)\n",
      "memory usage: 5.0+ MB\n"
     ]
    }
   ],
   "source": [
    "airport_df.info()"
   ]
  },
  {
   "cell_type": "markdown",
   "metadata": {
    "editable": true
   },
   "source": [
    "Saving Cleaned airports data"
   ]
  },
  {
   "cell_type": "code",
   "execution_count": 106,
   "metadata": {
    "editable": true
   },
   "outputs": [],
   "source": [
    "airport_df.to_csv('clean_data/airports.csv', index=False)"
   ]
  },
  {
   "cell_type": "markdown",
   "metadata": {
    "editable": true
   },
   "source": [
    "#### US Demographics Data"
   ]
  },
  {
   "cell_type": "code",
   "execution_count": 107,
   "metadata": {
    "editable": true
   },
   "outputs": [
    {
     "data": {
      "text/html": [
       "<div>\n",
       "<style scoped>\n",
       "    .dataframe tbody tr th:only-of-type {\n",
       "        vertical-align: middle;\n",
       "    }\n",
       "\n",
       "    .dataframe tbody tr th {\n",
       "        vertical-align: top;\n",
       "    }\n",
       "\n",
       "    .dataframe thead th {\n",
       "        text-align: right;\n",
       "    }\n",
       "</style>\n",
       "<table border=\"1\" class=\"dataframe\">\n",
       "  <thead>\n",
       "    <tr style=\"text-align: right;\">\n",
       "      <th></th>\n",
       "      <th>city</th>\n",
       "      <th>state</th>\n",
       "      <th>median_age</th>\n",
       "      <th>male_population</th>\n",
       "      <th>female_population</th>\n",
       "      <th>total_population</th>\n",
       "      <th>num_of_veterans</th>\n",
       "      <th>foreign_born</th>\n",
       "      <th>avg_household_size</th>\n",
       "      <th>state_code</th>\n",
       "      <th>race</th>\n",
       "      <th>count</th>\n",
       "    </tr>\n",
       "  </thead>\n",
       "  <tbody>\n",
       "    <tr>\n",
       "      <th>2213</th>\n",
       "      <td>Manteca</td>\n",
       "      <td>California</td>\n",
       "      <td>35.3</td>\n",
       "      <td>37053.0</td>\n",
       "      <td>38397.0</td>\n",
       "      <td>75450</td>\n",
       "      <td>3936.0</td>\n",
       "      <td>13942.0</td>\n",
       "      <td>3.25</td>\n",
       "      <td>CA</td>\n",
       "      <td>Hispanic or Latino</td>\n",
       "      <td>31552</td>\n",
       "    </tr>\n",
       "  </tbody>\n",
       "</table>\n",
       "</div>"
      ],
      "text/plain": [
       "         city       state  median_age  male_population  female_population  \\\n",
       "2213  Manteca  California  35.3        37053.0          38397.0             \n",
       "\n",
       "      total_population  num_of_veterans  foreign_born  avg_household_size  \\\n",
       "2213  75450             3936.0           13942.0       3.25                 \n",
       "\n",
       "     state_code                race  count  \n",
       "2213  CA         Hispanic or Latino  31552  "
      ]
     },
     "execution_count": 107,
     "metadata": {},
     "output_type": "execute_result"
    }
   ],
   "source": [
    "city_demo_df.sample(1)"
   ]
  },
  {
   "cell_type": "code",
   "execution_count": 108,
   "metadata": {
    "editable": true
   },
   "outputs": [
    {
     "data": {
      "text/html": [
       "<div>\n",
       "<style scoped>\n",
       "    .dataframe tbody tr th:only-of-type {\n",
       "        vertical-align: middle;\n",
       "    }\n",
       "\n",
       "    .dataframe tbody tr th {\n",
       "        vertical-align: top;\n",
       "    }\n",
       "\n",
       "    .dataframe thead th {\n",
       "        text-align: right;\n",
       "    }\n",
       "</style>\n",
       "<table border=\"1\" class=\"dataframe\">\n",
       "  <thead>\n",
       "    <tr style=\"text-align: right;\">\n",
       "      <th></th>\n",
       "      <th>city</th>\n",
       "      <th>state</th>\n",
       "      <th>median_age</th>\n",
       "      <th>male_population</th>\n",
       "      <th>female_population</th>\n",
       "      <th>total_population</th>\n",
       "      <th>num_of_veterans</th>\n",
       "      <th>foreign_born</th>\n",
       "      <th>avg_household_size</th>\n",
       "      <th>state_code</th>\n",
       "      <th>race</th>\n",
       "      <th>count</th>\n",
       "    </tr>\n",
       "  </thead>\n",
       "  <tbody>\n",
       "    <tr>\n",
       "      <th>212</th>\n",
       "      <td>Birmingham</td>\n",
       "      <td>Alabama</td>\n",
       "      <td>35.6</td>\n",
       "      <td>102122.0</td>\n",
       "      <td>112789.0</td>\n",
       "      <td>214911</td>\n",
       "      <td>13212.0</td>\n",
       "      <td>8258.0</td>\n",
       "      <td>2.21</td>\n",
       "      <td>AL</td>\n",
       "      <td>Asian</td>\n",
       "      <td>1500</td>\n",
       "    </tr>\n",
       "    <tr>\n",
       "      <th>1063</th>\n",
       "      <td>Birmingham</td>\n",
       "      <td>Alabama</td>\n",
       "      <td>35.6</td>\n",
       "      <td>102122.0</td>\n",
       "      <td>112789.0</td>\n",
       "      <td>214911</td>\n",
       "      <td>13212.0</td>\n",
       "      <td>8258.0</td>\n",
       "      <td>2.21</td>\n",
       "      <td>AL</td>\n",
       "      <td>American Indian and Alaska Native</td>\n",
       "      <td>1319</td>\n",
       "    </tr>\n",
       "    <tr>\n",
       "      <th>2025</th>\n",
       "      <td>Birmingham</td>\n",
       "      <td>Alabama</td>\n",
       "      <td>35.6</td>\n",
       "      <td>102122.0</td>\n",
       "      <td>112789.0</td>\n",
       "      <td>214911</td>\n",
       "      <td>13212.0</td>\n",
       "      <td>8258.0</td>\n",
       "      <td>2.21</td>\n",
       "      <td>AL</td>\n",
       "      <td>White</td>\n",
       "      <td>51728</td>\n",
       "    </tr>\n",
       "    <tr>\n",
       "      <th>2231</th>\n",
       "      <td>Birmingham</td>\n",
       "      <td>Alabama</td>\n",
       "      <td>35.6</td>\n",
       "      <td>102122.0</td>\n",
       "      <td>112789.0</td>\n",
       "      <td>214911</td>\n",
       "      <td>13212.0</td>\n",
       "      <td>8258.0</td>\n",
       "      <td>2.21</td>\n",
       "      <td>AL</td>\n",
       "      <td>Black or African-American</td>\n",
       "      <td>157985</td>\n",
       "    </tr>\n",
       "    <tr>\n",
       "      <th>2627</th>\n",
       "      <td>Birmingham</td>\n",
       "      <td>Alabama</td>\n",
       "      <td>35.6</td>\n",
       "      <td>102122.0</td>\n",
       "      <td>112789.0</td>\n",
       "      <td>214911</td>\n",
       "      <td>13212.0</td>\n",
       "      <td>8258.0</td>\n",
       "      <td>2.21</td>\n",
       "      <td>AL</td>\n",
       "      <td>Hispanic or Latino</td>\n",
       "      <td>8940</td>\n",
       "    </tr>\n",
       "    <tr>\n",
       "      <th>479</th>\n",
       "      <td>Dothan</td>\n",
       "      <td>Alabama</td>\n",
       "      <td>38.9</td>\n",
       "      <td>32172.0</td>\n",
       "      <td>35364.0</td>\n",
       "      <td>67536</td>\n",
       "      <td>6334.0</td>\n",
       "      <td>1699.0</td>\n",
       "      <td>2.59</td>\n",
       "      <td>AL</td>\n",
       "      <td>Asian</td>\n",
       "      <td>1175</td>\n",
       "    </tr>\n",
       "    <tr>\n",
       "      <th>500</th>\n",
       "      <td>Dothan</td>\n",
       "      <td>Alabama</td>\n",
       "      <td>38.9</td>\n",
       "      <td>32172.0</td>\n",
       "      <td>35364.0</td>\n",
       "      <td>67536</td>\n",
       "      <td>6334.0</td>\n",
       "      <td>1699.0</td>\n",
       "      <td>2.59</td>\n",
       "      <td>AL</td>\n",
       "      <td>Hispanic or Latino</td>\n",
       "      <td>1704</td>\n",
       "    </tr>\n",
       "  </tbody>\n",
       "</table>\n",
       "</div>"
      ],
      "text/plain": [
       "            city    state  median_age  male_population  female_population  \\\n",
       "212   Birmingham  Alabama  35.6        102122.0         112789.0            \n",
       "1063  Birmingham  Alabama  35.6        102122.0         112789.0            \n",
       "2025  Birmingham  Alabama  35.6        102122.0         112789.0            \n",
       "2231  Birmingham  Alabama  35.6        102122.0         112789.0            \n",
       "2627  Birmingham  Alabama  35.6        102122.0         112789.0            \n",
       "479   Dothan      Alabama  38.9        32172.0          35364.0             \n",
       "500   Dothan      Alabama  38.9        32172.0          35364.0             \n",
       "\n",
       "      total_population  num_of_veterans  foreign_born  avg_household_size  \\\n",
       "212   214911            13212.0          8258.0        2.21                 \n",
       "1063  214911            13212.0          8258.0        2.21                 \n",
       "2025  214911            13212.0          8258.0        2.21                 \n",
       "2231  214911            13212.0          8258.0        2.21                 \n",
       "2627  214911            13212.0          8258.0        2.21                 \n",
       "479   67536             6334.0           1699.0        2.59                 \n",
       "500   67536             6334.0           1699.0        2.59                 \n",
       "\n",
       "     state_code                               race   count  \n",
       "212   AL         Asian                              1500    \n",
       "1063  AL         American Indian and Alaska Native  1319    \n",
       "2025  AL         White                              51728   \n",
       "2231  AL         Black or African-American          157985  \n",
       "2627  AL         Hispanic or Latino                 8940    \n",
       "479   AL         Asian                              1175    \n",
       "500   AL         Hispanic or Latino                 1704    "
      ]
     },
     "execution_count": 108,
     "metadata": {},
     "output_type": "execute_result"
    }
   ],
   "source": [
    "city_demo_df.sort_values(by=['state', 'city']).head(7)"
   ]
  },
  {
   "cell_type": "markdown",
   "metadata": {
    "editable": true
   },
   "source": [
    "* City, State and Race are the primary colums in this data set.\n",
    "* This data set seems to be a result of a group by and aggregate operation of a larger data set or a result of a join operation and that's evident from columns such as 'total_population', 'male_population', 'female_population' and others that persist their data population values accross multiple rows and notably they could be computed by groups of city, state value combinations."
   ]
  },
  {
   "cell_type": "code",
   "execution_count": 109,
   "metadata": {
    "editable": true
   },
   "outputs": [
    {
     "data": {
      "text/plain": [
       "city                  0 \n",
       "state                 0 \n",
       "median_age            0 \n",
       "male_population       3 \n",
       "female_population     3 \n",
       "total_population      0 \n",
       "num_of_veterans       13\n",
       "foreign_born          13\n",
       "avg_household_size    16\n",
       "state_code            0 \n",
       "race                  0 \n",
       "count                 0 \n",
       "dtype: int64"
      ]
     },
     "execution_count": 109,
     "metadata": {},
     "output_type": "execute_result"
    }
   ],
   "source": [
    "city_demo_df.isna().sum()"
   ]
  },
  {
   "cell_type": "code",
   "execution_count": 110,
   "metadata": {
    "editable": true
   },
   "outputs": [],
   "source": [
    "# Checking if City, State, and Race columns combined can uniquely define \n",
    "# city demographics dataframe and hence qualifiying as a prime key\n",
    "#QualityCheck\n",
    "\n",
    "assert city_demo_df.apply(lambda x: x.city + x.state_code + x.race, axis=1).nunique() == city_demo_df.shape[0]"
   ]
  },
  {
   "cell_type": "markdown",
   "metadata": {
    "editable": true
   },
   "source": [
    "Hence the a primary key of combined City, State and Race columns can be used if needed"
   ]
  },
  {
   "cell_type": "code",
   "execution_count": 111,
   "metadata": {
    "editable": true
   },
   "outputs": [
    {
     "data": {
      "text/plain": [
       "city                  567 \n",
       "state                 49  \n",
       "median_age            180 \n",
       "male_population       593 \n",
       "female_population     594 \n",
       "total_population      594 \n",
       "num_of_veterans       577 \n",
       "foreign_born          587 \n",
       "avg_household_size    161 \n",
       "state_code            49  \n",
       "race                  5   \n",
       "count                 2785\n",
       "dtype: int64"
      ]
     },
     "execution_count": 111,
     "metadata": {},
     "output_type": "execute_result"
    }
   ],
   "source": [
    "city_demo_df.nunique()"
   ]
  },
  {
   "cell_type": "code",
   "execution_count": 112,
   "metadata": {
    "editable": true
   },
   "outputs": [
    {
     "data": {
      "text/html": [
       "<div>\n",
       "<style scoped>\n",
       "    .dataframe tbody tr th:only-of-type {\n",
       "        vertical-align: middle;\n",
       "    }\n",
       "\n",
       "    .dataframe tbody tr th {\n",
       "        vertical-align: top;\n",
       "    }\n",
       "\n",
       "    .dataframe thead th {\n",
       "        text-align: right;\n",
       "    }\n",
       "</style>\n",
       "<table border=\"1\" class=\"dataframe\">\n",
       "  <thead>\n",
       "    <tr style=\"text-align: right;\">\n",
       "      <th></th>\n",
       "      <th>city</th>\n",
       "      <th>state</th>\n",
       "      <th>median_age</th>\n",
       "      <th>male_population</th>\n",
       "      <th>female_population</th>\n",
       "      <th>total_population</th>\n",
       "      <th>num_of_veterans</th>\n",
       "      <th>foreign_born</th>\n",
       "      <th>avg_household_size</th>\n",
       "      <th>state_code</th>\n",
       "      <th>race</th>\n",
       "      <th>count</th>\n",
       "    </tr>\n",
       "  </thead>\n",
       "  <tbody>\n",
       "    <tr>\n",
       "      <th>333</th>\n",
       "      <td>The Villages</td>\n",
       "      <td>Florida</td>\n",
       "      <td>70.5</td>\n",
       "      <td>NaN</td>\n",
       "      <td>NaN</td>\n",
       "      <td>72590</td>\n",
       "      <td>15231.0</td>\n",
       "      <td>4034.0</td>\n",
       "      <td>NaN</td>\n",
       "      <td>FL</td>\n",
       "      <td>Hispanic or Latino</td>\n",
       "      <td>1066</td>\n",
       "    </tr>\n",
       "    <tr>\n",
       "      <th>449</th>\n",
       "      <td>The Villages</td>\n",
       "      <td>Florida</td>\n",
       "      <td>70.5</td>\n",
       "      <td>NaN</td>\n",
       "      <td>NaN</td>\n",
       "      <td>72590</td>\n",
       "      <td>15231.0</td>\n",
       "      <td>4034.0</td>\n",
       "      <td>NaN</td>\n",
       "      <td>FL</td>\n",
       "      <td>Black or African-American</td>\n",
       "      <td>331</td>\n",
       "    </tr>\n",
       "    <tr>\n",
       "      <th>1437</th>\n",
       "      <td>The Villages</td>\n",
       "      <td>Florida</td>\n",
       "      <td>70.5</td>\n",
       "      <td>NaN</td>\n",
       "      <td>NaN</td>\n",
       "      <td>72590</td>\n",
       "      <td>15231.0</td>\n",
       "      <td>4034.0</td>\n",
       "      <td>NaN</td>\n",
       "      <td>FL</td>\n",
       "      <td>White</td>\n",
       "      <td>72211</td>\n",
       "    </tr>\n",
       "  </tbody>\n",
       "</table>\n",
       "</div>"
      ],
      "text/plain": [
       "              city    state  median_age  male_population  female_population  \\\n",
       "333   The Villages  Florida  70.5       NaN              NaN                  \n",
       "449   The Villages  Florida  70.5       NaN              NaN                  \n",
       "1437  The Villages  Florida  70.5       NaN              NaN                  \n",
       "\n",
       "      total_population  num_of_veterans  foreign_born  avg_household_size  \\\n",
       "333   72590             15231.0          4034.0       NaN                   \n",
       "449   72590             15231.0          4034.0       NaN                   \n",
       "1437  72590             15231.0          4034.0       NaN                   \n",
       "\n",
       "     state_code                       race  count  \n",
       "333   FL         Hispanic or Latino         1066   \n",
       "449   FL         Black or African-American  331    \n",
       "1437  FL         White                      72211  "
      ]
     },
     "execution_count": 112,
     "metadata": {},
     "output_type": "execute_result"
    }
   ],
   "source": [
    "city_demo_df[city_demo_df.male_population.isna()]"
   ]
  },
  {
   "cell_type": "code",
   "execution_count": 113,
   "metadata": {
    "editable": true
   },
   "outputs": [
    {
     "data": {
      "text/html": [
       "<div>\n",
       "<style scoped>\n",
       "    .dataframe tbody tr th:only-of-type {\n",
       "        vertical-align: middle;\n",
       "    }\n",
       "\n",
       "    .dataframe tbody tr th {\n",
       "        vertical-align: top;\n",
       "    }\n",
       "\n",
       "    .dataframe thead th {\n",
       "        text-align: right;\n",
       "    }\n",
       "</style>\n",
       "<table border=\"1\" class=\"dataframe\">\n",
       "  <thead>\n",
       "    <tr style=\"text-align: right;\">\n",
       "      <th></th>\n",
       "      <th>city</th>\n",
       "      <th>state</th>\n",
       "      <th>median_age</th>\n",
       "      <th>male_population</th>\n",
       "      <th>female_population</th>\n",
       "      <th>total_population</th>\n",
       "      <th>num_of_veterans</th>\n",
       "      <th>foreign_born</th>\n",
       "      <th>avg_household_size</th>\n",
       "      <th>state_code</th>\n",
       "      <th>race</th>\n",
       "      <th>count</th>\n",
       "    </tr>\n",
       "  </thead>\n",
       "  <tbody>\n",
       "    <tr>\n",
       "      <th>1995</th>\n",
       "      <td>Ponce</td>\n",
       "      <td>Puerto Rico</td>\n",
       "      <td>40.5</td>\n",
       "      <td>56968.0</td>\n",
       "      <td>64615.0</td>\n",
       "      <td>121583</td>\n",
       "      <td>NaN</td>\n",
       "      <td>NaN</td>\n",
       "      <td>NaN</td>\n",
       "      <td>PR</td>\n",
       "      <td>Hispanic or Latino</td>\n",
       "      <td>120705</td>\n",
       "    </tr>\n",
       "  </tbody>\n",
       "</table>\n",
       "</div>"
      ],
      "text/plain": [
       "       city        state  median_age  male_population  female_population  \\\n",
       "1995  Ponce  Puerto Rico  40.5        56968.0          64615.0             \n",
       "\n",
       "      total_population  num_of_veterans  foreign_born  avg_household_size  \\\n",
       "1995  121583           NaN              NaN           NaN                   \n",
       "\n",
       "     state_code                race   count  \n",
       "1995  PR         Hispanic or Latino  120705  "
      ]
     },
     "execution_count": 113,
     "metadata": {},
     "output_type": "execute_result"
    }
   ],
   "source": [
    "city_demo_df[city_demo_df.avg_household_size.isna()].sample(1)"
   ]
  },
  {
   "cell_type": "code",
   "execution_count": 114,
   "metadata": {
    "editable": true
   },
   "outputs": [
    {
     "data": {
      "text/html": [
       "<div>\n",
       "<style scoped>\n",
       "    .dataframe tbody tr th:only-of-type {\n",
       "        vertical-align: middle;\n",
       "    }\n",
       "\n",
       "    .dataframe tbody tr th {\n",
       "        vertical-align: top;\n",
       "    }\n",
       "\n",
       "    .dataframe thead th {\n",
       "        text-align: right;\n",
       "    }\n",
       "</style>\n",
       "<table border=\"1\" class=\"dataframe\">\n",
       "  <thead>\n",
       "    <tr style=\"text-align: right;\">\n",
       "      <th></th>\n",
       "      <th>city</th>\n",
       "      <th>state</th>\n",
       "      <th>median_age</th>\n",
       "      <th>male_population</th>\n",
       "      <th>female_population</th>\n",
       "      <th>total_population</th>\n",
       "      <th>num_of_veterans</th>\n",
       "      <th>foreign_born</th>\n",
       "      <th>avg_household_size</th>\n",
       "      <th>state_code</th>\n",
       "      <th>race</th>\n",
       "      <th>count</th>\n",
       "    </tr>\n",
       "  </thead>\n",
       "  <tbody>\n",
       "    <tr>\n",
       "      <th>333</th>\n",
       "      <td>The Villages</td>\n",
       "      <td>Florida</td>\n",
       "      <td>70.5</td>\n",
       "      <td>NaN</td>\n",
       "      <td>NaN</td>\n",
       "      <td>72590</td>\n",
       "      <td>15231.0</td>\n",
       "      <td>4034.0</td>\n",
       "      <td>NaN</td>\n",
       "      <td>FL</td>\n",
       "      <td>Hispanic or Latino</td>\n",
       "      <td>1066</td>\n",
       "    </tr>\n",
       "    <tr>\n",
       "      <th>449</th>\n",
       "      <td>The Villages</td>\n",
       "      <td>Florida</td>\n",
       "      <td>70.5</td>\n",
       "      <td>NaN</td>\n",
       "      <td>NaN</td>\n",
       "      <td>72590</td>\n",
       "      <td>15231.0</td>\n",
       "      <td>4034.0</td>\n",
       "      <td>NaN</td>\n",
       "      <td>FL</td>\n",
       "      <td>Black or African-American</td>\n",
       "      <td>331</td>\n",
       "    </tr>\n",
       "    <tr>\n",
       "      <th>1437</th>\n",
       "      <td>The Villages</td>\n",
       "      <td>Florida</td>\n",
       "      <td>70.5</td>\n",
       "      <td>NaN</td>\n",
       "      <td>NaN</td>\n",
       "      <td>72590</td>\n",
       "      <td>15231.0</td>\n",
       "      <td>4034.0</td>\n",
       "      <td>NaN</td>\n",
       "      <td>FL</td>\n",
       "      <td>White</td>\n",
       "      <td>72211</td>\n",
       "    </tr>\n",
       "  </tbody>\n",
       "</table>\n",
       "</div>"
      ],
      "text/plain": [
       "              city    state  median_age  male_population  female_population  \\\n",
       "333   The Villages  Florida  70.5       NaN              NaN                  \n",
       "449   The Villages  Florida  70.5       NaN              NaN                  \n",
       "1437  The Villages  Florida  70.5       NaN              NaN                  \n",
       "\n",
       "      total_population  num_of_veterans  foreign_born  avg_household_size  \\\n",
       "333   72590             15231.0          4034.0       NaN                   \n",
       "449   72590             15231.0          4034.0       NaN                   \n",
       "1437  72590             15231.0          4034.0       NaN                   \n",
       "\n",
       "     state_code                       race  count  \n",
       "333   FL         Hispanic or Latino         1066   \n",
       "449   FL         Black or African-American  331    \n",
       "1437  FL         White                      72211  "
      ]
     },
     "execution_count": 114,
     "metadata": {},
     "output_type": "execute_result"
    }
   ],
   "source": [
    "# Asserting  whether total_population is the summaltion of both male_population and female_population columns \n",
    "#QualityCheck\n",
    "\n",
    "city_demo_df[- (city_demo_df.male_population+ city_demo_df.female_population ==  city_demo_df.total_population)]"
   ]
  },
  {
   "cell_type": "markdown",
   "metadata": {
    "editable": true
   },
   "source": [
    "* While it's true that 'total_population' column represents the summation of male_population and female_population columns, the exitence of nulls in male and female populations columns makes the total_population column not dependent on them and hence can't be removed. \n",
    "* The missing values of the male_population and female_population in the \"The Villages\" city could be approximated by the current sex Male to Female ratio currently in the city. Currently, male to female percentage is 46% to 54%, but that doesn't refect the actual ratio in 2015. With such approximation, total_population dependency could be proved and hence removed from the dataset.\n",
    "* The analyst could better try contanct the [US Census Bureau](https://www.census.gov/quickfacts/thevillagescdpflorida) directly or estimate these values using other census data by either making interpolating model from this data to the other source."
   ]
  },
  {
   "cell_type": "markdown",
   "metadata": {
    "editable": true
   },
   "source": [
    "### Step 3: Define the Data Model\n",
    "#### 3.1 Conceptual Data Model\n",
    "Map out the conceptual data model and explain why you chose that model\n",
    "\n",
    "#### 3.2 Mapping Out Data Pipelines\n",
    "List the steps necessary to pipeline the data into the chosen data model"
   ]
  },
  {
   "cell_type": "markdown",
   "metadata": {
    "editable": true
   },
   "source": [
    "![Non immigrant Relational Data Model](diagrams/data_model.svg)"
   ]
  },
  {
   "cell_type": "markdown",
   "metadata": {
    "editable": true
   },
   "source": [
    "[Data Model LucidChart](https://lucid.app/lucidchart/0e900265-a5fb-4a1e-98e5-a872183a601a/edit?viewport_loc=-647%2C-315%2C2122%2C860%2CUfbUwdKmab1A&invitationId=inv_a91faafa-19d5-4948-8fb2-6637786c78e0#)"
   ]
  },
  {
   "cell_type": "markdown",
   "metadata": {
    "editable": true
   },
   "source": [
    "**Pipeline Steps**\n",
    "- Some Steps have been already made in the cleaning and transforming process with respect to temperature, non_immigrant, airports, ports, countries_i94_codes.\n",
    "- With respect to city_state_stats, race_city_state_states, they can be destructuring the us-city-state-demographics dataframe 'city_demo_df', by removing internal column dependencies and achieving 3NF (third normal form).\n",
    "- address lookup table would be achieved using both add_states and the state, state_code mapping from us-city-state-demographics.\n",
    "- The airports_mapping table that is created between non_immigrant and airports tables can be achieved using matching techniques between ports names in non_immigrant and airport table names, and coes, yet the achievement of correct and clean airports_mapping is quite challenging and may even require NLP or even manual human processing in some cases, as there is not much time to do such work, I will process some of the airports_mapping, leaving leads and suggestions on how to process the rest.  "
   ]
  },
  {
   "cell_type": "markdown",
   "metadata": {
    "editable": true
   },
   "source": [
    "### Step 4: Run Pipelines to Model the Data \n",
    "#### 4.1 Create the data model\n",
    "Build the data pipelines to create the data model."
   ]
  },
  {
   "cell_type": "markdown",
   "metadata": {
    "editable": true
   },
   "source": [
    "> Decoupling state, state_code dependency by storing state_code, state columns in a separate states_lookup and then later dropping one of the columns in the original data set"
   ]
  },
  {
   "cell_type": "code",
   "execution_count": 115,
   "metadata": {
    "editable": true
   },
   "outputs": [
    {
     "data": {
      "text/html": [
       "<div>\n",
       "<style scoped>\n",
       "    .dataframe tbody tr th:only-of-type {\n",
       "        vertical-align: middle;\n",
       "    }\n",
       "\n",
       "    .dataframe tbody tr th {\n",
       "        vertical-align: top;\n",
       "    }\n",
       "\n",
       "    .dataframe thead th {\n",
       "        text-align: right;\n",
       "    }\n",
       "</style>\n",
       "<table border=\"1\" class=\"dataframe\">\n",
       "  <thead>\n",
       "    <tr style=\"text-align: right;\">\n",
       "      <th></th>\n",
       "      <th>state_code</th>\n",
       "      <th>state</th>\n",
       "    </tr>\n",
       "  </thead>\n",
       "  <tbody>\n",
       "    <tr>\n",
       "      <th>3</th>\n",
       "      <td>CA</td>\n",
       "      <td>California</td>\n",
       "    </tr>\n",
       "    <tr>\n",
       "      <th>15</th>\n",
       "      <td>FL</td>\n",
       "      <td>Florida</td>\n",
       "    </tr>\n",
       "    <tr>\n",
       "      <th>136</th>\n",
       "      <td>DC</td>\n",
       "      <td>District of Columbia</td>\n",
       "    </tr>\n",
       "  </tbody>\n",
       "</table>\n",
       "</div>"
      ],
      "text/plain": [
       "    state_code                 state\n",
       "3    CA         California          \n",
       "15   FL         Florida             \n",
       "136  DC         District of Columbia"
      ]
     },
     "execution_count": 115,
     "metadata": {},
     "output_type": "execute_result"
    }
   ],
   "source": [
    "states_lookup = city_demo_df[['state_code', 'state']].drop_duplicates()\n",
    "states_lookup.sample(3)"
   ]
  },
  {
   "cell_type": "code",
   "execution_count": 116,
   "metadata": {
    "editable": true
   },
   "outputs": [
    {
     "data": {
      "text/plain": [
       "state_code    49\n",
       "state         49\n",
       "dtype: int64"
      ]
     },
     "execution_count": 116,
     "metadata": {},
     "output_type": "execute_result"
    }
   ],
   "source": [
    "states_lookup.count()"
   ]
  },
  {
   "cell_type": "markdown",
   "metadata": {
    "editable": true
   },
   "source": [
    "Only 49 states when in reality there is 52 states in the usa"
   ]
  },
  {
   "cell_type": "code",
   "execution_count": 117,
   "metadata": {
    "editable": true
   },
   "outputs": [],
   "source": [
    "## importing complete list of us states\n",
    "\n",
    "states_dict = helper_data.states"
   ]
  },
  {
   "cell_type": "code",
   "execution_count": 118,
   "metadata": {
    "editable": true
   },
   "outputs": [
    {
     "name": "stdout",
     "output_type": "stream",
     "text": [
      "{'WV', 'VT', 'WY'} {'PR'}\n"
     ]
    }
   ],
   "source": [
    "## measuring the difference of data in both us-demo-states list \n",
    "## and the complete imported US states\n",
    "\n",
    "print(\n",
    "    set(states_dict.keys()).difference(set(states_lookup.state_code)),\n",
    "    set(states_lookup.state_code).difference(set(states_dict.keys()))\n",
    ")"
   ]
  },
  {
   "cell_type": "code",
   "execution_count": 119,
   "metadata": {
    "editable": true
   },
   "outputs": [
    {
     "data": {
      "text/plain": [
       "{'Puerto Rico', 'Vermont', 'West Virginia', 'Wyoming'}"
      ]
     },
     "execution_count": 119,
     "metadata": {},
     "output_type": "execute_result"
    }
   ],
   "source": [
    "set(states_dict.values()).symmetric_difference(set(states_lookup.state))"
   ]
  },
  {
   "cell_type": "markdown",
   "metadata": {
    "editable": true
   },
   "source": [
    "Note:\n",
    "* Puerto rico isn't  a state, but it's included in the data set, so it will remain.\n",
    "* With respect to 'Vermont', 'West Virginia', 'Wyoming' states, they will be added to the states_lookup table even though they don't have demographics values because state code to state name is a lookup table that can be used by different data sources such as non-immigrant-data."
   ]
  },
  {
   "cell_type": "code",
   "execution_count": 120,
   "metadata": {
    "editable": true
   },
   "outputs": [
    {
     "data": {
      "text/html": [
       "<div>\n",
       "<style scoped>\n",
       "    .dataframe tbody tr th:only-of-type {\n",
       "        vertical-align: middle;\n",
       "    }\n",
       "\n",
       "    .dataframe tbody tr th {\n",
       "        vertical-align: top;\n",
       "    }\n",
       "\n",
       "    .dataframe thead th {\n",
       "        text-align: right;\n",
       "    }\n",
       "</style>\n",
       "<table border=\"1\" class=\"dataframe\">\n",
       "  <thead>\n",
       "    <tr style=\"text-align: right;\">\n",
       "      <th></th>\n",
       "      <th>state_code</th>\n",
       "      <th>state</th>\n",
       "    </tr>\n",
       "  </thead>\n",
       "  <tbody>\n",
       "    <tr>\n",
       "      <th>a</th>\n",
       "      <td>VT</td>\n",
       "      <td>Vermont</td>\n",
       "    </tr>\n",
       "    <tr>\n",
       "      <th>b</th>\n",
       "      <td>WV</td>\n",
       "      <td>West Virginia</td>\n",
       "    </tr>\n",
       "    <tr>\n",
       "      <th>c</th>\n",
       "      <td>WY</td>\n",
       "      <td>Wyoming</td>\n",
       "    </tr>\n",
       "  </tbody>\n",
       "</table>\n",
       "</div>"
      ],
      "text/plain": [
       "  state_code          state\n",
       "a  VT         Vermont      \n",
       "b  WV         West Virginia\n",
       "c  WY         Wyoming      "
      ]
     },
     "execution_count": 120,
     "metadata": {},
     "output_type": "execute_result"
    }
   ],
   "source": [
    "states_lookup.loc['a'] = ['VT', 'Vermont']\n",
    "states_lookup.loc['b'] = ['WV', 'West Virginia']\n",
    "states_lookup.loc['c'] = ['WY', 'Wyoming']\n",
    "\n",
    "states_lookup.tail(3)"
   ]
  },
  {
   "cell_type": "markdown",
   "metadata": {
    "editable": true
   },
   "source": [
    "Since Both states lookup table and addr_states table extracted from non_immigrant data are very similar, we can check the similarity between those two tables and merge them to one lookup table"
   ]
  },
  {
   "cell_type": "code",
   "execution_count": 121,
   "metadata": {
    "editable": true
   },
   "outputs": [
    {
     "data": {
      "text/plain": [
       "{'99', 'GU', 'VI'}"
      ]
     },
     "execution_count": 121,
     "metadata": {},
     "output_type": "execute_result"
    }
   ],
   "source": [
    "## difference in code values \n",
    "\n",
    "set(states_lookup.state_code).symmetric_difference(set(addr_states.code))"
   ]
  },
  {
   "cell_type": "code",
   "execution_count": 122,
   "metadata": {
    "editable": true
   },
   "outputs": [
    {
     "name": "stdout",
     "output_type": "stream",
     "text": [
      "Those in states_lookup and not in addr_states\n",
      "{'north dakota', 'district of columbia', 'wisconsin', 'south carolina', 'north carolina', 'west virginia', 'south dakota'}\n",
      "Those in addr_states and not in states_lookup\n",
      "{'s. carolina', 'virgin islands', 'n. carolina', 'wisconson', 'guam', 'n. dakota', 's. dakota', 'all other codes', 'dist. of columbia', 'w. virginia'}\n"
     ]
    }
   ],
   "source": [
    "## difference between state or values names \n",
    "\n",
    "print('Those in states_lookup and not in addr_states', \n",
    "      set(states_lookup.state.str.lower()).difference(set(addr_states.address.str.lower())),\n",
    "      'Those in addr_states and not in states_lookup',\n",
    "      (set(addr_states.address.str.lower())).difference(set(states_lookup.state.str.lower())),\n",
    "      sep = '\\n'\n",
    "    )"
   ]
  },
  {
   "cell_type": "markdown",
   "metadata": {
    "editable": true
   },
   "source": [
    "* As shown many codes represents the same state values, but the naming is different .e.g. ('north carolina' and 'n. carolina')\n",
    "* So, they will be merged in one."
   ]
  },
  {
   "cell_type": "code",
   "execution_count": 123,
   "metadata": {
    "editable": true
   },
   "outputs": [],
   "source": [
    "states_lookup.loc['g'] = ['GU', 'Guam']\n",
    "states_lookup.loc['v'] = ['VI', 'Virgin Islands']\n",
    "states_lookup.loc['z'] = ['99', 'All Other Codes']"
   ]
  },
  {
   "cell_type": "code",
   "execution_count": 124,
   "metadata": {
    "editable": true
   },
   "outputs": [],
   "source": [
    "## Removing any white leading or trailing white space and reseting index\n",
    "\n",
    "states_lookup.reset_index(drop=True, inplace=True)\n",
    "states_lookup = states_lookup.apply(lambda x: x.str.strip());"
   ]
  },
  {
   "cell_type": "markdown",
   "metadata": {
    "editable": true
   },
   "source": [
    "**Decoupling columns dependent on and clearly defined by only city, state_code**"
   ]
  },
  {
   "cell_type": "code",
   "execution_count": 125,
   "metadata": {
    "editable": true
   },
   "outputs": [
    {
     "data": {
      "text/plain": [
       "city                 596\n",
       "state_code           596\n",
       "median_age           596\n",
       "total_population     596\n",
       "male_population      595\n",
       "female_population    595\n",
       "total_population     596\n",
       "num_of_veterans      589\n",
       "foreign_born         589\n",
       "dtype: int64"
      ]
     },
     "execution_count": 125,
     "metadata": {},
     "output_type": "execute_result"
    }
   ],
   "source": [
    "city_demo_df[\n",
    "    [\n",
    "        \"city\",\n",
    "        \"state_code\",\n",
    "        \"median_age\",\n",
    "        \"total_population\",\n",
    "        \"male_population\",\n",
    "        \"female_population\",\n",
    "        \"total_population\",\n",
    "        \"num_of_veterans\",\n",
    "        \"foreign_born\",\n",
    "    ]\n",
    "].drop_duplicates().count()"
   ]
  },
  {
   "cell_type": "code",
   "execution_count": 126,
   "metadata": {
    "editable": true
   },
   "outputs": [
    {
     "data": {
      "text/plain": [
       "city          596\n",
       "state_code    596\n",
       "dtype: int64"
      ]
     },
     "execution_count": 126,
     "metadata": {},
     "output_type": "execute_result"
    }
   ],
   "source": [
    "city_demo_df[['city', 'state_code']].drop_duplicates().count()"
   ]
  },
  {
   "cell_type": "markdown",
   "metadata": {
    "editable": true
   },
   "source": [
    "Notes:\n",
    "* It's clearly that median_age, male_population, female_population, total_population, num_of_veterans, foreign_born, avg_household_size columns are fully defined by city, state or city, state_code columns with the existence of some null values in female_population: avg_household_size columns. \n",
    "* Hence, all these columns would be removed to a separate table.\n",
    "* both state and state_code columns represents the same thing, hence state column would be removed and state_code would be kept as it's a smaller per data entry and more concize.\n",
    "* city, state_code and race uniquely defines the whole data frame and the count column. So they would have a separate table, too."
   ]
  },
  {
   "cell_type": "code",
   "execution_count": 127,
   "metadata": {
    "editable": true
   },
   "outputs": [
    {
     "data": {
      "text/html": [
       "<div>\n",
       "<style scoped>\n",
       "    .dataframe tbody tr th:only-of-type {\n",
       "        vertical-align: middle;\n",
       "    }\n",
       "\n",
       "    .dataframe tbody tr th {\n",
       "        vertical-align: top;\n",
       "    }\n",
       "\n",
       "    .dataframe thead th {\n",
       "        text-align: right;\n",
       "    }\n",
       "</style>\n",
       "<table border=\"1\" class=\"dataframe\">\n",
       "  <thead>\n",
       "    <tr style=\"text-align: right;\">\n",
       "      <th></th>\n",
       "      <th>city</th>\n",
       "      <th>state_code</th>\n",
       "      <th>median_age</th>\n",
       "      <th>male_population</th>\n",
       "      <th>female_population</th>\n",
       "      <th>total_population</th>\n",
       "      <th>num_of_veterans</th>\n",
       "      <th>foreign_born</th>\n",
       "      <th>avg_household_size</th>\n",
       "    </tr>\n",
       "  </thead>\n",
       "  <tbody>\n",
       "    <tr>\n",
       "      <th>0</th>\n",
       "      <td>Silver Spring</td>\n",
       "      <td>MD</td>\n",
       "      <td>33.8</td>\n",
       "      <td>40601.0</td>\n",
       "      <td>41862.0</td>\n",
       "      <td>82463</td>\n",
       "      <td>1562.0</td>\n",
       "      <td>30908.0</td>\n",
       "      <td>2.60</td>\n",
       "    </tr>\n",
       "    <tr>\n",
       "      <th>1</th>\n",
       "      <td>Quincy</td>\n",
       "      <td>MA</td>\n",
       "      <td>41.0</td>\n",
       "      <td>44129.0</td>\n",
       "      <td>49500.0</td>\n",
       "      <td>93629</td>\n",
       "      <td>4147.0</td>\n",
       "      <td>32935.0</td>\n",
       "      <td>2.39</td>\n",
       "    </tr>\n",
       "    <tr>\n",
       "      <th>2</th>\n",
       "      <td>Hoover</td>\n",
       "      <td>AL</td>\n",
       "      <td>38.5</td>\n",
       "      <td>38040.0</td>\n",
       "      <td>46799.0</td>\n",
       "      <td>84839</td>\n",
       "      <td>4819.0</td>\n",
       "      <td>8229.0</td>\n",
       "      <td>2.58</td>\n",
       "    </tr>\n",
       "  </tbody>\n",
       "</table>\n",
       "</div>"
      ],
      "text/plain": [
       "            city state_code  median_age  male_population  female_population  \\\n",
       "0  Silver Spring  MD         33.8        40601.0          41862.0             \n",
       "1  Quincy         MA         41.0        44129.0          49500.0             \n",
       "2  Hoover         AL         38.5        38040.0          46799.0             \n",
       "\n",
       "   total_population  num_of_veterans  foreign_born  avg_household_size  \n",
       "0  82463             1562.0           30908.0       2.60                \n",
       "1  93629             4147.0           32935.0       2.39                \n",
       "2  84839             4819.0           8229.0        2.58                "
      ]
     },
     "execution_count": 127,
     "metadata": {},
     "output_type": "execute_result"
    }
   ],
   "source": [
    "ct_st_columns = list(city_demo_df.columns)\n",
    "\n",
    "city_state_summary_statistics = city_demo_df[\n",
    "    [ct_st_columns[0], ct_st_columns[-3], *ct_st_columns[2:-3]]\n",
    "].drop_duplicates()\n",
    "city_state_summary_statistics.head(3)"
   ]
  },
  {
   "cell_type": "markdown",
   "metadata": {
    "editable": true
   },
   "source": [
    "**Decoupling race data**"
   ]
  },
  {
   "cell_type": "code",
   "execution_count": 128,
   "metadata": {
    "editable": true
   },
   "outputs": [
    {
     "data": {
      "text/html": [
       "<div>\n",
       "<style scoped>\n",
       "    .dataframe tbody tr th:only-of-type {\n",
       "        vertical-align: middle;\n",
       "    }\n",
       "\n",
       "    .dataframe tbody tr th {\n",
       "        vertical-align: top;\n",
       "    }\n",
       "\n",
       "    .dataframe thead th {\n",
       "        text-align: right;\n",
       "    }\n",
       "</style>\n",
       "<table border=\"1\" class=\"dataframe\">\n",
       "  <thead>\n",
       "    <tr style=\"text-align: right;\">\n",
       "      <th></th>\n",
       "      <th>city</th>\n",
       "      <th>state_code</th>\n",
       "      <th>race</th>\n",
       "      <th>count</th>\n",
       "    </tr>\n",
       "  </thead>\n",
       "  <tbody>\n",
       "    <tr>\n",
       "      <th>0</th>\n",
       "      <td>Silver Spring</td>\n",
       "      <td>MD</td>\n",
       "      <td>Hispanic or Latino</td>\n",
       "      <td>25924</td>\n",
       "    </tr>\n",
       "    <tr>\n",
       "      <th>1</th>\n",
       "      <td>Quincy</td>\n",
       "      <td>MA</td>\n",
       "      <td>White</td>\n",
       "      <td>58723</td>\n",
       "    </tr>\n",
       "    <tr>\n",
       "      <th>2</th>\n",
       "      <td>Hoover</td>\n",
       "      <td>AL</td>\n",
       "      <td>Asian</td>\n",
       "      <td>4759</td>\n",
       "    </tr>\n",
       "  </tbody>\n",
       "</table>\n",
       "</div>"
      ],
      "text/plain": [
       "            city state_code                race  count\n",
       "0  Silver Spring  MD         Hispanic or Latino  25924\n",
       "1  Quincy         MA         White               58723\n",
       "2  Hoover         AL         Asian               4759 "
      ]
     },
     "execution_count": 128,
     "metadata": {},
     "output_type": "execute_result"
    }
   ],
   "source": [
    "race_by_city_state_demo = city_demo_df[\n",
    "    [\"city\", \"state_code\", \"race\", \"count\"]\n",
    "].drop_duplicates()\n",
    "\n",
    "race_by_city_state_demo.head(3)"
   ]
  },
  {
   "cell_type": "code",
   "execution_count": 129,
   "metadata": {
    "editable": true
   },
   "outputs": [],
   "source": [
    "## Quality Check \n",
    "\n",
    "assert all(race_by_city_state_demo.count() == city_demo_df.shape[0])"
   ]
  },
  {
   "cell_type": "markdown",
   "metadata": {
    "editable": true
   },
   "source": [
    "- The city_demographics table size is about 2891 records, a relatively small data, hence re-modeling it to 3-NF won't be a problem in case another data engineer wanted to re-join the tables.\n",
    "- In addition, dividing the data reduces its size as many columns previously had many duplicate records. "
   ]
  },
  {
   "cell_type": "markdown",
   "metadata": {
    "editable": true
   },
   "source": [
    "**Saving files locally**"
   ]
  },
  {
   "cell_type": "code",
   "execution_count": 130,
   "metadata": {
    "editable": true
   },
   "outputs": [],
   "source": [
    "states_lookup.to_csv('lookup_tables/states_codes.csv', index=False)\n",
    "city_state_summary_statistics.to_csv('clean_data/city_state_pop_stats.csv', index=False)\n",
    "race_by_city_state_demo.to_csv('clean_data/city_state_race_pop_stats.csv', index=False)"
   ]
  },
  {
   "cell_type": "markdown",
   "metadata": {
    "editable": true
   },
   "source": [
    "***"
   ]
  },
  {
   "cell_type": "markdown",
   "metadata": {
    "editable": true
   },
   "source": [
    "**Airport Codes**"
   ]
  },
  {
   "cell_type": "code",
   "execution_count": 131,
   "metadata": {
    "editable": true
   },
   "outputs": [
    {
     "data": {
      "text/plain": [
       "'FMY BGM HEL FOK SNA PTK CLG SPM OPF NAS MYR PVD OAK FAR OTT DET MTH AGA OTM LEX NSV SFR ADW VCV JFA BHX SAV HAR HAM HAL ANA SHA WIL BED PEM MWH YIP NOG CHM SCH RYY LVG LIH TUC BUF BAL HPN AUS SGR HEF ATW CRQ SRQ X44 RNO FRB NOL INP LNB MCA RST JAC CHS BOS MLB MAF CPX TOR NOR DPA INT ABG DEN PEN NEW PSP SGJ LAR CLM BRO SAJ EDA SEA CIN PSM PIR SPE CLT YGF ADS STR PIE ABQ DAL BDL WIN NYL CLE XXX APF MIA MON SFB KAN FCA PHO STL MHT GSP HHW FTL SAA AXB CRP TAM SDP SWF POO MEM CHL ELP SUM MAS KEY SAC ATL SYS PHI DLR PHF OMA WAS PEV MMU SPO TKI DUB ORO CAE ICT RDU WPB BQN SYR BRG HSV PIT HID LOS NCA HIG CHR LOU KOA DER MAA PHU VNY HOU CHA ONT JKM FWA MDT SNJ BLA ROC CHI W55 FPR DAB ANC OGG 5T6 ORL SLC NYC STT MND SAI MIL'"
      ]
     },
     "execution_count": 131,
     "metadata": {},
     "output_type": "execute_result"
    }
   ],
   "source": [
    "air_ports_distinct_codes = [\n",
    "    x.port\n",
    "    for x in clean_df.where(clean_df.mode == \"Air\").select(\"port\").distinct().collect()\n",
    "]\n",
    "\" \".join(air_ports_distinct_codes)"
   ]
  },
  {
   "cell_type": "code",
   "execution_count": 132,
   "metadata": {
    "editable": true
   },
   "outputs": [
    {
     "data": {
      "text/html": [
       "<div>\n",
       "<style scoped>\n",
       "    .dataframe tbody tr th:only-of-type {\n",
       "        vertical-align: middle;\n",
       "    }\n",
       "\n",
       "    .dataframe tbody tr th {\n",
       "        vertical-align: top;\n",
       "    }\n",
       "\n",
       "    .dataframe thead th {\n",
       "        text-align: right;\n",
       "    }\n",
       "</style>\n",
       "<table border=\"1\" class=\"dataframe\">\n",
       "  <thead>\n",
       "    <tr style=\"text-align: right;\">\n",
       "      <th></th>\n",
       "      <th>code</th>\n",
       "      <th>port</th>\n",
       "      <th>port_name</th>\n",
       "      <th>exten_1</th>\n",
       "      <th>exten_2</th>\n",
       "    </tr>\n",
       "  </thead>\n",
       "  <tbody>\n",
       "    <tr>\n",
       "      <th>1</th>\n",
       "      <td>ANC</td>\n",
       "      <td>ANCHORAGE, AK</td>\n",
       "      <td>anchorage</td>\n",
       "      <td>AK</td>\n",
       "      <td>None</td>\n",
       "    </tr>\n",
       "    <tr>\n",
       "      <th>7</th>\n",
       "      <td>FRB</td>\n",
       "      <td>FAIRBANKS, AK</td>\n",
       "      <td>fairbanks</td>\n",
       "      <td>AK</td>\n",
       "      <td>None</td>\n",
       "    </tr>\n",
       "    <tr>\n",
       "      <th>20</th>\n",
       "      <td>TKI</td>\n",
       "      <td>TOKEEN, AK</td>\n",
       "      <td>tokeen</td>\n",
       "      <td>AK</td>\n",
       "      <td>None</td>\n",
       "    </tr>\n",
       "  </tbody>\n",
       "</table>\n",
       "</div>"
      ],
      "text/plain": [
       "   code           port  port_name exten_1 exten_2\n",
       "1   ANC  ANCHORAGE, AK  anchorage   AK     None  \n",
       "7   FRB  FAIRBANKS, AK  fairbanks   AK     None  \n",
       "20  TKI  TOKEEN, AK     tokeen      AK     None  "
      ]
     },
     "execution_count": 132,
     "metadata": {},
     "output_type": "execute_result"
    }
   ],
   "source": [
    "airport_codes_df = port_codes[\n",
    "    port_codes.apply(lambda x: x.code in air_ports_distinct_codes, axis=1)\n",
    "]\n",
    "airport_codes_df.head(3)"
   ]
  },
  {
   "cell_type": "code",
   "execution_count": 133,
   "metadata": {
    "editable": true
   },
   "outputs": [],
   "source": [
    "airports_names = list(airport_codes_df.port_name)"
   ]
  },
  {
   "cell_type": "code",
   "execution_count": 134,
   "metadata": {
    "editable": true
   },
   "outputs": [],
   "source": [
    "def matches_list(name):\n",
    "    \"\"\"\n",
    "    returns a comma separated string listed names of \n",
    "    the airport names in non_immigrant data that \n",
    "    matches name of airports in the airports data\n",
    "    Currently, uses only startswith string match\n",
    "    could be incorparated with NLP search functionality\n",
    "    later\n",
    "    \"\"\"\n",
    "    match_values = []\n",
    "    for item in airports_names:\n",
    "        if name.startswith(item):\n",
    "            match_values.append(item)\n",
    "        \n",
    "    if match_values:\n",
    "        return ','.join(match_values)\n",
    "    else:\n",
    "        return 'delete'"
   ]
  },
  {
   "cell_type": "code",
   "execution_count": 135,
   "metadata": {
    "editable": true
   },
   "outputs": [],
   "source": [
    "airports_lookup = airport_df[\n",
    "    [\n",
    "        \"ident\",\n",
    "        \"name\",\n",
    "        \"iso_country\",\n",
    "        \"iso_region\",\n",
    "        \"municipality\",\n",
    "        \"gps_code\",\n",
    "        \"iata_code\",\n",
    "        \"local_code\",\n",
    "    ]\n",
    "]"
   ]
  },
  {
   "cell_type": "code",
   "execution_count": 136,
   "metadata": {
    "editable": true
   },
   "outputs": [
    {
     "name": "stderr",
     "output_type": "stream",
     "text": [
      "/opt/conda/lib/python3.6/site-packages/ipykernel_launcher.py:2: SettingWithCopyWarning: \n",
      "A value is trying to be set on a copy of a slice from a DataFrame.\n",
      "Try using .loc[row_indexer,col_indexer] = value instead\n",
      "\n",
      "See the caveats in the documentation: http://pandas.pydata.org/pandas-docs/stable/indexing.html#indexing-view-versus-copy\n",
      "  \n"
     ]
    },
    {
     "data": {
      "text/html": [
       "<div>\n",
       "<style scoped>\n",
       "    .dataframe tbody tr th:only-of-type {\n",
       "        vertical-align: middle;\n",
       "    }\n",
       "\n",
       "    .dataframe tbody tr th {\n",
       "        vertical-align: top;\n",
       "    }\n",
       "\n",
       "    .dataframe thead th {\n",
       "        text-align: right;\n",
       "    }\n",
       "</style>\n",
       "<table border=\"1\" class=\"dataframe\">\n",
       "  <thead>\n",
       "    <tr style=\"text-align: right;\">\n",
       "      <th></th>\n",
       "      <th>ident</th>\n",
       "      <th>name</th>\n",
       "      <th>iso_country</th>\n",
       "      <th>iso_region</th>\n",
       "      <th>municipality</th>\n",
       "      <th>gps_code</th>\n",
       "      <th>iata_code</th>\n",
       "      <th>local_code</th>\n",
       "      <th>matches</th>\n",
       "    </tr>\n",
       "  </thead>\n",
       "  <tbody>\n",
       "    <tr>\n",
       "      <th>0</th>\n",
       "      <td>00A</td>\n",
       "      <td>Total Rf Heliport</td>\n",
       "      <td>US</td>\n",
       "      <td>US-PA</td>\n",
       "      <td>Bensalem</td>\n",
       "      <td>00A</td>\n",
       "      <td>NaN</td>\n",
       "      <td>00A</td>\n",
       "      <td>delete</td>\n",
       "    </tr>\n",
       "    <tr>\n",
       "      <th>1</th>\n",
       "      <td>00AA</td>\n",
       "      <td>Aero B Ranch Airport</td>\n",
       "      <td>US</td>\n",
       "      <td>US-KS</td>\n",
       "      <td>Leoti</td>\n",
       "      <td>00AA</td>\n",
       "      <td>NaN</td>\n",
       "      <td>00AA</td>\n",
       "      <td>delete</td>\n",
       "    </tr>\n",
       "    <tr>\n",
       "      <th>2</th>\n",
       "      <td>00AK</td>\n",
       "      <td>Lowell Field</td>\n",
       "      <td>US</td>\n",
       "      <td>US-AK</td>\n",
       "      <td>Anchor Point</td>\n",
       "      <td>00AK</td>\n",
       "      <td>NaN</td>\n",
       "      <td>00AK</td>\n",
       "      <td>delete</td>\n",
       "    </tr>\n",
       "  </tbody>\n",
       "</table>\n",
       "</div>"
      ],
      "text/plain": [
       "  ident                  name iso_country iso_region  municipality gps_code  \\\n",
       "0  00A   Total Rf Heliport     US          US-PA      Bensalem      00A       \n",
       "1  00AA  Aero B Ranch Airport  US          US-KS      Leoti         00AA      \n",
       "2  00AK  Lowell Field          US          US-AK      Anchor Point  00AK      \n",
       "\n",
       "  iata_code local_code matches  \n",
       "0  NaN       00A        delete  \n",
       "1  NaN       00AA       delete  \n",
       "2  NaN       00AK       delete  "
      ]
     },
     "execution_count": 136,
     "metadata": {},
     "output_type": "execute_result"
    }
   ],
   "source": [
    "airports_lookup[\"matches\"] = airports_lookup.apply(\n",
    "    lambda x: matches_list(x[\"name\"].lower()), axis=1\n",
    ")\n",
    "airports_lookup.head(3)"
   ]
  },
  {
   "cell_type": "code",
   "execution_count": 137,
   "metadata": {
    "editable": true
   },
   "outputs": [],
   "source": [
    "airports_lookup = airports_lookup[airports_lookup.matches != 'delete']"
   ]
  },
  {
   "cell_type": "code",
   "execution_count": 138,
   "metadata": {
    "editable": true
   },
   "outputs": [],
   "source": [
    "airports_lookup[['m1', 'm2']] = airports_lookup.matches.str.split(',', expand=True)"
   ]
  },
  {
   "cell_type": "code",
   "execution_count": 139,
   "metadata": {
    "editable": true
   },
   "outputs": [],
   "source": [
    "airports_lookup = airports_lookup[['ident', 'name', 'matches','m1', 'm2']] "
   ]
  },
  {
   "cell_type": "code",
   "execution_count": 140,
   "metadata": {
    "editable": true
   },
   "outputs": [],
   "source": [
    "air_ports_dict = pd.Series(airport_codes_df.code.values,index=airport_codes_df.port_name).to_dict()\n",
    "\n",
    "def map_match(match):\n",
    "    \"\"\"\n",
    "    returns airport code based on its name\n",
    "    otherwise it returns null\n",
    "    \"\"\"\n",
    "    \n",
    "    if match:\n",
    "        return air_ports_dict[match]\n",
    "    else:\n",
    "        return None"
   ]
  },
  {
   "cell_type": "code",
   "execution_count": 141,
   "metadata": {
    "editable": true
   },
   "outputs": [
    {
     "data": {
      "text/html": [
       "<div>\n",
       "<style scoped>\n",
       "    .dataframe tbody tr th:only-of-type {\n",
       "        vertical-align: middle;\n",
       "    }\n",
       "\n",
       "    .dataframe tbody tr th {\n",
       "        vertical-align: top;\n",
       "    }\n",
       "\n",
       "    .dataframe thead th {\n",
       "        text-align: right;\n",
       "    }\n",
       "</style>\n",
       "<table border=\"1\" class=\"dataframe\">\n",
       "  <thead>\n",
       "    <tr style=\"text-align: right;\">\n",
       "      <th></th>\n",
       "      <th>ident</th>\n",
       "      <th>name</th>\n",
       "      <th>matches</th>\n",
       "      <th>m1</th>\n",
       "      <th>m2</th>\n",
       "      <th>m1_code</th>\n",
       "      <th>m2_code</th>\n",
       "    </tr>\n",
       "  </thead>\n",
       "  <tbody>\n",
       "    <tr>\n",
       "      <th>39</th>\n",
       "      <td>00OI</td>\n",
       "      <td>Miami Valley Hospital Heliport</td>\n",
       "      <td>miami</td>\n",
       "      <td>miami</td>\n",
       "      <td>None</td>\n",
       "      <td>MIA</td>\n",
       "      <td>None</td>\n",
       "    </tr>\n",
       "    <tr>\n",
       "      <th>71</th>\n",
       "      <td>01CN</td>\n",
       "      <td>Los Angeles County Sheriff's Department Heliport</td>\n",
       "      <td>los angeles</td>\n",
       "      <td>los angeles</td>\n",
       "      <td>None</td>\n",
       "      <td>LOS</td>\n",
       "      <td>None</td>\n",
       "    </tr>\n",
       "  </tbody>\n",
       "</table>\n",
       "</div>"
      ],
      "text/plain": [
       "   ident                                              name      matches  \\\n",
       "39  00OI  Miami Valley Hospital Heliport                    miami         \n",
       "71  01CN  Los Angeles County Sheriff's Department Heliport  los angeles   \n",
       "\n",
       "             m1    m2 m1_code m2_code  \n",
       "39  miami        None  MIA     None    \n",
       "71  los angeles  None  LOS     None    "
      ]
     },
     "execution_count": 141,
     "metadata": {},
     "output_type": "execute_result"
    }
   ],
   "source": [
    "airports_lookup['m1_code'] = airports_lookup.apply(lambda x: map_match(x['m1']), axis=1)\n",
    "airports_lookup['m2_code'] = airports_lookup.apply(lambda x: map_match(x['m2']), axis=1)\n",
    "\n",
    "airports_lookup.head(2)"
   ]
  },
  {
   "cell_type": "code",
   "execution_count": 142,
   "metadata": {
    "editable": true
   },
   "outputs": [],
   "source": [
    "exist_ports = set(airports_lookup.m1).union(set(airports_lookup.m2))\n",
    "exist_ports.remove(None)\n",
    "\n",
    "no_exist_ports = set(airport_codes_df.port_name).difference(exist_ports)\n",
    "no_exist_ports = {key: air_ports_dict[key] for key in list(no_exist_ports)}"
   ]
  },
  {
   "cell_type": "code",
   "execution_count": 143,
   "metadata": {
    "editable": true
   },
   "outputs": [
    {
     "data": {
      "text/html": [
       "<div>\n",
       "<style scoped>\n",
       "    .dataframe tbody tr th:only-of-type {\n",
       "        vertical-align: middle;\n",
       "    }\n",
       "\n",
       "    .dataframe tbody tr th {\n",
       "        vertical-align: top;\n",
       "    }\n",
       "\n",
       "    .dataframe thead th {\n",
       "        text-align: right;\n",
       "    }\n",
       "</style>\n",
       "<table border=\"1\" class=\"dataframe\">\n",
       "  <thead>\n",
       "    <tr style=\"text-align: right;\">\n",
       "      <th></th>\n",
       "      <th>port_name</th>\n",
       "      <th>code</th>\n",
       "    </tr>\n",
       "  </thead>\n",
       "  <tbody>\n",
       "    <tr>\n",
       "      <th>0</th>\n",
       "      <td>mid-continent - witchita</td>\n",
       "      <td>ICT</td>\n",
       "    </tr>\n",
       "    <tr>\n",
       "      <th>1</th>\n",
       "      <td>addison airport- addison</td>\n",
       "      <td>ADS</td>\n",
       "    </tr>\n",
       "    <tr>\n",
       "      <th>2</th>\n",
       "      <td>honolulu</td>\n",
       "      <td>HHW</td>\n",
       "    </tr>\n",
       "  </tbody>\n",
       "</table>\n",
       "</div>"
      ],
      "text/plain": [
       "                  port_name code\n",
       "0  mid-continent - witchita  ICT\n",
       "1  addison airport- addison  ADS\n",
       "2  honolulu                  HHW"
      ]
     },
     "execution_count": 143,
     "metadata": {},
     "output_type": "execute_result"
    }
   ],
   "source": [
    "no_exist_port_df = pd.DataFrame(list(no_exist_ports.items()), columns=['port_name', 'code'])\n",
    "no_exist_port_df.head(3)"
   ]
  },
  {
   "cell_type": "code",
   "execution_count": 144,
   "metadata": {
    "editable": true
   },
   "outputs": [
    {
     "data": {
      "text/html": [
       "<div>\n",
       "<style scoped>\n",
       "    .dataframe tbody tr th:only-of-type {\n",
       "        vertical-align: middle;\n",
       "    }\n",
       "\n",
       "    .dataframe tbody tr th {\n",
       "        vertical-align: top;\n",
       "    }\n",
       "\n",
       "    .dataframe thead th {\n",
       "        text-align: right;\n",
       "    }\n",
       "</style>\n",
       "<table border=\"1\" class=\"dataframe\">\n",
       "  <thead>\n",
       "    <tr style=\"text-align: right;\">\n",
       "      <th></th>\n",
       "      <th>port_name</th>\n",
       "      <th>code</th>\n",
       "    </tr>\n",
       "  </thead>\n",
       "  <tbody>\n",
       "    <tr>\n",
       "      <th>3</th>\n",
       "      <td>no port code (cpx)</td>\n",
       "      <td>CPX</td>\n",
       "    </tr>\n",
       "  </tbody>\n",
       "</table>\n",
       "</div>"
      ],
      "text/plain": [
       "            port_name code\n",
       "3  no port code (cpx)  CPX"
      ]
     },
     "execution_count": 144,
     "metadata": {},
     "output_type": "execute_result"
    }
   ],
   "source": [
    "no_port_airports = no_exist_port_df[no_exist_port_df.port_name.str.startswith('no port code')]\n",
    "no_port_airports.head(1)"
   ]
  },
  {
   "cell_type": "code",
   "execution_count": 145,
   "metadata": {
    "editable": true
   },
   "outputs": [
    {
     "data": {
      "text/html": [
       "<div>\n",
       "<style scoped>\n",
       "    .dataframe tbody tr th:only-of-type {\n",
       "        vertical-align: middle;\n",
       "    }\n",
       "\n",
       "    .dataframe tbody tr th {\n",
       "        vertical-align: top;\n",
       "    }\n",
       "\n",
       "    .dataframe thead th {\n",
       "        text-align: right;\n",
       "    }\n",
       "</style>\n",
       "<table border=\"1\" class=\"dataframe\">\n",
       "  <thead>\n",
       "    <tr style=\"text-align: right;\">\n",
       "      <th></th>\n",
       "      <th>port_name</th>\n",
       "      <th>code</th>\n",
       "    </tr>\n",
       "  </thead>\n",
       "  <tbody>\n",
       "    <tr>\n",
       "      <th>0</th>\n",
       "      <td>mid-continent - witchita</td>\n",
       "      <td>ICT</td>\n",
       "    </tr>\n",
       "  </tbody>\n",
       "</table>\n",
       "</div>"
      ],
      "text/plain": [
       "                  port_name code\n",
       "0  mid-continent - witchita  ICT"
      ]
     },
     "execution_count": 145,
     "metadata": {},
     "output_type": "execute_result"
    }
   ],
   "source": [
    "named_yet_no_exist_airports = no_exist_port_df[-no_exist_port_df.port_name.str.startswith('no port code')]\n",
    "named_yet_no_exist_airports.head(1)"
   ]
  },
  {
   "cell_type": "code",
   "execution_count": 146,
   "metadata": {
    "editable": true
   },
   "outputs": [],
   "source": [
    "all_airports = list(airport_df.name.str.lower().unique())"
   ]
  },
  {
   "cell_type": "code",
   "execution_count": 147,
   "metadata": {
    "editable": true
   },
   "outputs": [
    {
     "data": {
      "text/plain": [
       "0    mid continent airport                           \n",
       "1    addison airport,madison airport,radisson airport\n",
       "2                                                    \n",
       "4                                                    \n",
       "5    mccalla field,cle                               \n",
       "dtype: object"
      ]
     },
     "execution_count": 147,
     "metadata": {},
     "output_type": "execute_result"
    }
   ],
   "source": [
    "close_airports = named_yet_no_exist_airports.apply(lambda x: ','.join(difflib.get_close_matches(x.port_name, all_airports)), axis=1)\n",
    "close_airports.head()"
   ]
  },
  {
   "cell_type": "code",
   "execution_count": 148,
   "metadata": {
    "editable": true
   },
   "outputs": [
    {
     "name": "stderr",
     "output_type": "stream",
     "text": [
      "/opt/conda/lib/python3.6/site-packages/pandas/core/frame.py:3140: SettingWithCopyWarning: \n",
      "A value is trying to be set on a copy of a slice from a DataFrame.\n",
      "Try using .loc[row_indexer,col_indexer] = value instead\n",
      "\n",
      "See the caveats in the documentation: http://pandas.pydata.org/pandas-docs/stable/indexing.html#indexing-view-versus-copy\n",
      "  self[k1] = value[k2]\n"
     ]
    }
   ],
   "source": [
    "named_yet_no_exist_airports[['close_m1', 'close_m2', 'close_m3']] = close_airports.str.split(',', expand=True)"
   ]
  },
  {
   "cell_type": "code",
   "execution_count": 149,
   "metadata": {
    "editable": true
   },
   "outputs": [
    {
     "data": {
      "text/html": [
       "<div>\n",
       "<style scoped>\n",
       "    .dataframe tbody tr th:only-of-type {\n",
       "        vertical-align: middle;\n",
       "    }\n",
       "\n",
       "    .dataframe tbody tr th {\n",
       "        vertical-align: top;\n",
       "    }\n",
       "\n",
       "    .dataframe thead th {\n",
       "        text-align: right;\n",
       "    }\n",
       "</style>\n",
       "<table border=\"1\" class=\"dataframe\">\n",
       "  <thead>\n",
       "    <tr style=\"text-align: right;\">\n",
       "      <th></th>\n",
       "      <th>port_name</th>\n",
       "      <th>code</th>\n",
       "      <th>close_m1</th>\n",
       "      <th>close_m2</th>\n",
       "      <th>close_m3</th>\n",
       "    </tr>\n",
       "  </thead>\n",
       "  <tbody>\n",
       "    <tr>\n",
       "      <th>0</th>\n",
       "      <td>mid-continent - witchita</td>\n",
       "      <td>ICT</td>\n",
       "      <td>mid continent airport</td>\n",
       "      <td>None</td>\n",
       "      <td>None</td>\n",
       "    </tr>\n",
       "    <tr>\n",
       "      <th>1</th>\n",
       "      <td>addison airport- addison</td>\n",
       "      <td>ADS</td>\n",
       "      <td>addison airport</td>\n",
       "      <td>madison airport</td>\n",
       "      <td>radisson airport</td>\n",
       "    </tr>\n",
       "    <tr>\n",
       "      <th>2</th>\n",
       "      <td>honolulu</td>\n",
       "      <td>HHW</td>\n",
       "      <td></td>\n",
       "      <td>None</td>\n",
       "      <td>None</td>\n",
       "    </tr>\n",
       "  </tbody>\n",
       "</table>\n",
       "</div>"
      ],
      "text/plain": [
       "                  port_name code               close_m1         close_m2  \\\n",
       "0  mid-continent - witchita  ICT  mid continent airport  None              \n",
       "1  addison airport- addison  ADS  addison airport        madison airport   \n",
       "2  honolulu                  HHW                         None              \n",
       "\n",
       "           close_m3  \n",
       "0  None              \n",
       "1  radisson airport  \n",
       "2  None              "
      ]
     },
     "execution_count": 149,
     "metadata": {},
     "output_type": "execute_result"
    }
   ],
   "source": [
    "named_yet_no_exist_airports.head(3)"
   ]
  },
  {
   "cell_type": "markdown",
   "metadata": {
    "editable": true
   },
   "source": [
    "* The columns are very unclean yet they are not very big.\n",
    "* The missing airports that have no close match should be edited manullay with excel sheets.\n",
    "* Since there is no enough time to edit, files will be saved under editing sheets to processed later.\n",
    "* Once all missing entries are processed manually, we will get compatible non-immigrant and airports tables.\n",
    "* no port codes may be entirely removed, but some of their codes refer to some airports when looked up using google."
   ]
  },
  {
   "cell_type": "code",
   "execution_count": 150,
   "metadata": {
    "editable": true
   },
   "outputs": [],
   "source": [
    "named_yet_no_exist_airports.to_csv(\n",
    "    \"editing_sheets/airport_codes_unclean_codes_with_possible_matches.csv\", index=False\n",
    ")"
   ]
  },
  {
   "cell_type": "code",
   "execution_count": 151,
   "metadata": {
    "editable": true
   },
   "outputs": [],
   "source": [
    "no_port_airports.to_csv(\"editing_sheets/no_port_unclean_codes.csv\", index=False)"
   ]
  },
  {
   "cell_type": "markdown",
   "metadata": {
    "editable": true
   },
   "source": [
    "\n",
    "***"
   ]
  },
  {
   "cell_type": "markdown",
   "metadata": {
    "editable": true
   },
   "source": [
    "**Loading to S3 Phase**"
   ]
  },
  {
   "cell_type": "markdown",
   "metadata": {
    "editable": true
   },
   "source": [
    "**non-immigrant**"
   ]
  },
  {
   "cell_type": "code",
   "execution_count": 152,
   "metadata": {
    "editable": true
   },
   "outputs": [],
   "source": [
    "## Storing non immigrant data\n",
    "\n",
    "clean_df.write.mode(\"overwrite\").partitionBy(\"arrival_dt\").parquet(\n",
    "    os.path.join(\n",
    "        \"s3a://non-immigrant-data-lake/clean_data/data/2016/4\", \"non_immigrant.parquet\"\n",
    "    )\n",
    ")"
   ]
  },
  {
   "cell_type": "markdown",
   "metadata": {
    "editable": true
   },
   "source": [
    "**airport**"
   ]
  },
  {
   "cell_type": "code",
   "execution_count": 153,
   "metadata": {
    "editable": true
   },
   "outputs": [],
   "source": [
    "airports_schema = StructType([ \n",
    "    StructField(\"ident\",StringType(),False), \n",
    "    StructField(\"type\",StringType(),False), \n",
    "    StructField(\"name\",StringType(),False), \n",
    "    StructField(\"elevation_ft\", DoubleType(), True), \n",
    "    StructField(\"iso_country\", StringType(), True), \n",
    "    StructField(\"iso_region\", StringType(), False), \n",
    "    StructField(\"municipality\", StringType(), True),\n",
    "    StructField(\"gps_code\", StringType(), True),\n",
    "    StructField(\"iata_code\", StringType(), True),\n",
    "    StructField(\"local_code\", StringType(), True),\n",
    "    StructField(\"longitude\", DoubleType(), False),\n",
    "    StructField(\"latitude\", DoubleType(), False) \n",
    "  ])"
   ]
  },
  {
   "cell_type": "code",
   "execution_count": 154,
   "metadata": {
    "editable": true
   },
   "outputs": [
    {
     "data": {
      "text/plain": [
       "Row(ident='00A', type='heliport', name='Total Rf Heliport', elevation_ft=11.0, iso_country='US', iso_region='US-PA', municipality='Bensalem', gps_code='00A', iata_code=None, local_code='00A', longitude=-74.933601, latitude=40.070801)"
      ]
     },
     "execution_count": 154,
     "metadata": {},
     "output_type": "execute_result"
    }
   ],
   "source": [
    "spark_airports = spark.read.option('header', True).csv('clean_data/airports.csv', schema=airports_schema)\n",
    "spark_airports.head()"
   ]
  },
  {
   "cell_type": "code",
   "execution_count": 155,
   "metadata": {
    "editable": true
   },
   "outputs": [
    {
     "data": {
      "image/png": "[encoded data removed]",
      "text/plain": [
       "<matplotlib.figure.Figure at 0x7ff0bb5a2550>"
      ]
     },
     "metadata": {
      "needs_background": "light"
     },
     "output_type": "display_data"
    }
   ],
   "source": [
    "airport_df[['type']]\\\n",
    ".apply(pd.value_counts).plot(kind='bar', subplots=True, figsize=(9, 9));"
   ]
  },
  {
   "cell_type": "markdown",
   "metadata": {
    "editable": true
   },
   "source": [
    "all columns distribution is skewed, hence there is no need to partition the airport data. In addition the data are likely fixed, no append would happen except for few"
   ]
  },
  {
   "cell_type": "code",
   "execution_count": 156,
   "metadata": {
    "editable": true
   },
   "outputs": [],
   "source": [
    "spark_airports.write.mode(\"overwrite\").parquet(\n",
    "    os.path.join('s3a://non-immigrant-data-lake/clean_data/data/','airports.parquet')\n",
    ")"
   ]
  },
  {
   "cell_type": "markdown",
   "metadata": {
    "editable": true
   },
   "source": [
    "**Load temperatures data**"
   ]
  },
  {
   "cell_type": "code",
   "execution_count": 157,
   "metadata": {
    "editable": true
   },
   "outputs": [
    {
     "data": {
      "image/png": "[encoded data removed]",
      "text/plain": [
       "<matplotlib.figure.Figure at 0x7ff0c1043390>"
      ]
     },
     "metadata": {
      "needs_background": "light"
     },
     "output_type": "display_data"
    }
   ],
   "source": [
    "temp_df[[\"City\"]].apply(pd.value_counts).plot(\n",
    "    kind=\"bar\", subplots=True, figsize=(9, 5), use_index=False\n",
    ");"
   ]
  },
  {
   "cell_type": "code",
   "execution_count": 158,
   "metadata": {
    "editable": true
   },
   "outputs": [
    {
     "data": {
      "image/png": "[encoded data removed]",
      "text/plain": [
       "<matplotlib.figure.Figure at 0x7ff0bacb6fd0>"
      ]
     },
     "metadata": {
      "needs_background": "light"
     },
     "output_type": "display_data"
    }
   ],
   "source": [
    "temp_df.dt.dt.month.hist( figsize=(9, 5), grid=False);"
   ]
  },
  {
   "cell_type": "markdown",
   "metadata": {
    "editable": true
   },
   "source": [
    "Would use month to partition the data because, if paritioning the data takes too long time, it could be stored as it is without partitioning"
   ]
  },
  {
   "cell_type": "code",
   "execution_count": 159,
   "metadata": {
    "editable": true
   },
   "outputs": [],
   "source": [
    "temperatures_schema = StructType([ \n",
    "    StructField(\"dt\", DateType(),False), \n",
    "    StructField(\"AverageTemperature\", DoubleType(), True), \n",
    "    StructField(\"AverageTemperatureUncertainty\", DoubleType(), True), \n",
    "    StructField(\"City\", StringType(), True), \n",
    "    StructField(\"Country\", StringType(), True), \n",
    "    StructField(\"Latitude\", DoubleType(), True), \n",
    "    StructField(\"Longitude\", DoubleType(), True)\n",
    "  ])"
   ]
  },
  {
   "cell_type": "code",
   "execution_count": 160,
   "metadata": {
    "editable": true
   },
   "outputs": [
    {
     "data": {
      "text/plain": [
       "[Row(dt=datetime.date(1743, 11, 1), AverageTemperature=6.068, AverageTemperatureUncertainty=1.737, City='Århus', Country='Denmark', Latitude=57.05, Longitude=10.33)]"
      ]
     },
     "execution_count": 160,
     "metadata": {},
     "output_type": "execute_result"
    }
   ],
   "source": [
    "spark_world_temperatures = spark.read.option(\"header\", True).csv(\n",
    "    \"clean_data/world_temperatures.csv\", schema=temperatures_schema\n",
    ")\n",
    "spark_world_temperatures.take(1)"
   ]
  },
  {
   "cell_type": "code",
   "execution_count": 95,
   "metadata": {
    "editable": true
   },
   "outputs": [],
   "source": [
    "spark_world_temperatures.withColumn(\"month\", month(col(\"dt\"))).write.mode(\n",
    "    \"overwrite\"\n",
    ").partitionBy(\"month\").parquet(\n",
    "    os.path.join(\n",
    "        \"s3a://non-immigrant-data-lake/clean_data/data/\", \"world_temperatures.parquet\"\n",
    "    )\n",
    ")"
   ]
  },
  {
   "cell_type": "markdown",
   "metadata": {
    "editable": true
   },
   "source": [
    "**Loading US city demogrpahics tables**"
   ]
  },
  {
   "cell_type": "code",
   "execution_count": 161,
   "metadata": {
    "editable": true
   },
   "outputs": [
    {
     "data": {
      "image/png": "[encoded data removed]",
      "text/plain": [
       "<matplotlib.figure.Figure at 0x7ff0b6326080>"
      ]
     },
     "metadata": {
      "needs_background": "light"
     },
     "output_type": "display_data"
    }
   ],
   "source": [
    "race_by_city_state_demo[[\"race\"]].apply(pd.value_counts).plot(\n",
    "    kind=\"bar\", subplots=True, figsize=(9, 5)\n",
    ");"
   ]
  },
  {
   "cell_type": "code",
   "execution_count": 162,
   "metadata": {
    "editable": true
   },
   "outputs": [
    {
     "data": {
      "image/png": "[encoded data removed]",
      "text/plain": [
       "<matplotlib.figure.Figure at 0x7ff0a80ea5c0>"
      ]
     },
     "metadata": {
      "needs_background": "light"
     },
     "output_type": "display_data"
    }
   ],
   "source": [
    "\n",
    "city_state_summary_statistics[[\"city\"]].apply(pd.value_counts).plot(\n",
    "    kind=\"bar\", subplots=True, figsize=(9, 5)\n",
    ");"
   ]
  },
  {
   "cell_type": "markdown",
   "metadata": {
    "editable": true
   },
   "source": [
    "* race column has a uniform distribution with almost no skewness in terms of the number of records. Hence, data can be partitioned by race in race_by_city_state_demo dataframe.\n",
    "* In case of the city_state_summary_statistics, there is no need to partition the data as it's almost just one record per city, I also tested state_code column (which represents a bigger category) and found its distribution very skewed. The data set also is very small thereby the decision of no partitioning required. "
   ]
  },
  {
   "cell_type": "code",
   "execution_count": 163,
   "metadata": {
    "editable": true
   },
   "outputs": [],
   "source": [
    "race_stats_schema = StructType([ \n",
    "    StructField(\"city\",StringType(), False), \n",
    "    StructField(\"state_code\",StringType(), False), \n",
    "    StructField(\"race\", StringType(), False),\n",
    "    StructField(\"count\", IntegerType(), False) \n",
    "  ])\n",
    "\n",
    "city_state_schema = StructType([ \n",
    "    StructField(\"city\",StringType(), False), \n",
    "    StructField(\"state_code\",StringType(), False), \n",
    "    StructField(\"median_age\",DoubleType(), False), \n",
    "    StructField(\"male_population\", DoubleType(), True), \n",
    "    StructField(\"female_population\", DoubleType(), True), \n",
    "    StructField(\"total_population\", DoubleType(), True), \n",
    "    StructField(\"num_of_veterans\", DoubleType(), True),\n",
    "    StructField(\"foreign_born\", DoubleType(), True),\n",
    "    StructField(\"avg_household_size\", DoubleType(), True),\n",
    "  ])"
   ]
  },
  {
   "cell_type": "markdown",
   "metadata": {
    "editable": true
   },
   "source": [
    ">Even though columns as male_population are better typed as IntegerType,\n",
    "yet those columns have null values and can't be converted to integers in pandas\n",
    "before saved. In addition by spark creates folders when saving to csv instead of \n",
    "single files and I did the processing in pandas. DoubleType is not very bad \n",
    "for the column since necessary arithmetic operations can be done. \n",
    "Data user can convert them to integer if wanted."
   ]
  },
  {
   "cell_type": "code",
   "execution_count": 164,
   "metadata": {
    "editable": true
   },
   "outputs": [
    {
     "data": {
      "text/plain": [
       "[Row(city='Silver Spring', state_code='MD', median_age=33.8, male_population=40601.0, female_population=41862.0, total_population=82463.0, num_of_veterans=1562.0, foreign_born=30908.0, avg_household_size=2.6)]"
      ]
     },
     "execution_count": 164,
     "metadata": {},
     "output_type": "execute_result"
    }
   ],
   "source": [
    "spark_city_state_demo = spark.read.option(\"header\", True).csv(\n",
    "    \"clean_data/city_state_pop_stats.csv\", schema=city_state_schema\n",
    ")\n",
    "spark_city_state_demo.take(1)"
   ]
  },
  {
   "cell_type": "code",
   "execution_count": 165,
   "metadata": {
    "editable": true
   },
   "outputs": [],
   "source": [
    "spark_city_state_demo.write.mode(\"overwrite\").parquet(\n",
    "    os.path.join(\n",
    "        \"s3a://non-immigrant-data-lake/clean_data/data/\",\n",
    "        \"city_state_pop_stats.parquet\",\n",
    "    )\n",
    ")"
   ]
  },
  {
   "cell_type": "code",
   "execution_count": 166,
   "metadata": {
    "editable": true
   },
   "outputs": [
    {
     "data": {
      "text/plain": [
       "[Row(city='Silver Spring', state_code='MD', race='Hispanic or Latino', count=25924)]"
      ]
     },
     "execution_count": 166,
     "metadata": {},
     "output_type": "execute_result"
    }
   ],
   "source": [
    "spark_race_stats = spark.read.option(\"header\", True).csv(\n",
    "    \"clean_data/city_state_race_pop_stats.csv\", schema=race_stats_schema\n",
    ")\n",
    "spark_race_stats.take(1)"
   ]
  },
  {
   "cell_type": "code",
   "execution_count": 167,
   "metadata": {
    "editable": true
   },
   "outputs": [],
   "source": [
    "spark_race_stats.write.mode(\"overwrite\").partitionBy(\n",
    "    \"race\"\n",
    ").parquet(\n",
    "    os.path.join(\n",
    "        \"s3a://non-immigrant-data-lake/clean_data/data/\",\n",
    "        \"race_city_state_stats.parquet\",\n",
    "    )\n",
    ")"
   ]
  },
  {
   "cell_type": "markdown",
   "metadata": {
    "editable": true
   },
   "source": [
    "**Load Lookup tables**"
   ]
  },
  {
   "cell_type": "code",
   "execution_count": 181,
   "metadata": {
    "editable": true
   },
   "outputs": [
    {
     "data": {
      "text/plain": [
       "[Row(code='582', country='MEXICO')]"
      ]
     },
     "execution_count": 181,
     "metadata": {},
     "output_type": "execute_result"
    }
   ],
   "source": [
    "spark_countries_i94_codes = spark.read.option('header', True).csv('lookup_tables/countries_i94_codes.csv')\n",
    "spark_countries_i94_codes.take(1)"
   ]
  },
  {
   "cell_type": "code",
   "execution_count": 182,
   "metadata": {
    "editable": true
   },
   "outputs": [
    {
     "data": {
      "text/plain": [
       "[Row(code='582', country='MEXICO')]"
      ]
     },
     "execution_count": 182,
     "metadata": {},
     "output_type": "execute_result"
    }
   ],
   "source": [
    "spark_port_codes = spark.read.option('header', True).csv('lookup_tables/ports.csv')\n",
    "spark_port_codes.take(1)"
   ]
  },
  {
   "cell_type": "code",
   "execution_count": 183,
   "metadata": {
    "editable": true
   },
   "outputs": [],
   "source": [
    "spark.createDataFrame(states_lookup).write.mode(\"overwrite\").parquet(\n",
    "    os.path.join(\n",
    "        's3a://non-immigrant-data-lake/clean_data/lookup_tables/',\n",
    "        \"address.parquet\",\n",
    "    )\n",
    ")"
   ]
  },
  {
   "cell_type": "code",
   "execution_count": 184,
   "metadata": {
    "editable": true
   },
   "outputs": [],
   "source": [
    "spark_countries_i94_codes.write.mode(\"overwrite\").parquet(\n",
    "    os.path.join(\n",
    "        's3a://non-immigrant-data-lake/clean_data/lookup_tables/',\n",
    "        \"countries_i94_codes.parquet\",\n",
    "    )\n",
    ")"
   ]
  },
  {
   "cell_type": "code",
   "execution_count": 185,
   "metadata": {
    "editable": true
   },
   "outputs": [],
   "source": [
    "spark_port_codes.write.mode(\"overwrite\").parquet(\n",
    "    os.path.join(\n",
    "        's3a://non-immigrant-data-lake/clean_data/lookup_tables/',\n",
    "        \"ports.parquet\",\n",
    "    )\n",
    ")"
   ]
  },
  {
   "cell_type": "code",
   "execution_count": 186,
   "metadata": {
    "editable": true
   },
   "outputs": [],
   "source": [
    "spark.createDataFrame(airports_lookup).write.mode(\"overwrite\").parquet(\n",
    "    os.path.join(\n",
    "        's3a://non-immigrant-data-lake/clean_data/lookup_tables/',\n",
    "        \"airport_mapping.parquet\",\n",
    "    )\n",
    ")"
   ]
  },
  {
   "cell_type": "markdown",
   "metadata": {
    "editable": true
   },
   "source": [
    "#### 4.2 Data Quality Checks\n",
    "Explain the data quality checks you'll perform to ensure the pipeline ran as expected. These could include:\n",
    " * Integrity constraints on the relational database (e.g., unique key, data type, etc.)\n",
    " * Unit tests for the scripts to ensure they are doing the right thing\n",
    " * Source/Count checks to ensure completeness\n",
    " \n",
    "Run Quality Checks"
   ]
  },
  {
   "cell_type": "markdown",
   "metadata": {
    "editable": true
   },
   "source": [
    "> Data Quality checks is performed throughout the etl process, assert statements with comment #QualityCheck"
   ]
  },
  {
   "cell_type": "code",
   "execution_count": 187,
   "metadata": {
    "editable": true
   },
   "outputs": [],
   "source": [
    "# Perform quality checks here\n",
    "\n",
    "non_immigrant = spark.read.parquet('s3a://non-immigrant-data-lake/clean_data/data/2016/4/non_immigrant.parquet/')\n"
   ]
  },
  {
   "cell_type": "code",
   "execution_count": null,
   "metadata": {
    "editable": true
   },
   "outputs": [],
   "source": [
    "#QualityCheck # data aren't empty\n",
    "\n",
    "assert non_immigrant.count() > 1"
   ]
  },
  {
   "cell_type": "code",
   "execution_count": 189,
   "metadata": {
    "editable": true
   },
   "outputs": [],
   "source": [
    "## primary key check \n",
    "\n",
    "assert non_immigrant.select('id').distinct().count() == non_immigrant.count()"
   ]
  },
  {
   "cell_type": "code",
   "execution_count": 191,
   "metadata": {
    "editable": true
   },
   "outputs": [
    {
     "data": {
      "text/plain": [
       "[Row(city='Silver Spring', state_code='MD', count=25924, race='Hispanic or Latino')]"
      ]
     },
     "execution_count": 191,
     "metadata": {},
     "output_type": "execute_result"
    }
   ],
   "source": [
    "us_race_demo = spark.read.parquet('s3a://non-immigrant-data-lake/clean_data/data/race_city_state_stats.parquet/')\n",
    "us_race_demo.take(1)"
   ]
  },
  {
   "cell_type": "code",
   "execution_count": 207,
   "metadata": {
    "editable": true
   },
   "outputs": [],
   "source": [
    "assert set(us_race_demo.select('race').toPandas().race.unique()) == set(race_by_city_state_demo.race)"
   ]
  },
  {
   "cell_type": "markdown",
   "metadata": {
    "editable": true
   },
   "source": [
    "#### 4.3 Data dictionary \n",
    "Create a data dictionary for your data model. For each field, provide a brief description of what the data is and where it came from. You can include the data dictionary in the notebook or in a separate file."
   ]
  },
  {
   "cell_type": "markdown",
   "metadata": {
    "editable": true
   },
   "source": [
    "#### Project Write Up"
   ]
  },
  {
   "cell_type": "markdown",
   "metadata": {
    "editable": true
   },
   "source": [
    "**Technologies Used** \n",
    "- Pandas and Pyspark were used for exploring, assessing and cleaning the data as both libraries are highly effectient when dealing with data, Pyspark is preferable if the data is too big as it has parallel processing that can be utilized (by using cluster services such as Amazon EMR), Pandas was used to manipulate sample data as the case in 'df', 'sampled_df' which are both sampled from original big non-immigrant data.\n",
    "- Amazon S3 is used to store the data as its cost is cheap, in addition, it accepts storing files of various formates, making it suitable for our data lake purpose.\n",
    "- LucidChart, a diagram drawing websites is used to create the Data Model Diagram. \n",
    "- SAS files was used to get non-immigrant data.\n",
    "- parquet, csv files are used for storage. \n",
    "- xlsx excel sheets in addition to google sheets are used for the manual processing of some malformed data"
   ]
  },
  {
   "cell_type": "markdown",
   "metadata": {
    "editable": true
   },
   "source": [
    "**Data Update**\n",
    "- US-non-immigrant-data should be regularly updated as:\n",
    "    * The current data only represents non-immigrants arriving on April, 2016 (4/2016), the rest 2016 data and up till now (2022) data are missing.\n",
    "    * The current data has many missing values for some columns.\n",
    "    * Non immigrant data is \n",
    "- World Temperatures Data should be occasionally updated:\n",
    "     * The Temperatures Data latest measures goes back to 2013, yet the dataframe has many useful data, some of them are very old too.\n",
    "- US-demographics Data may be updated rarely depending on the need:\n",
    "    * The current US-demographics represents only 2015 data, yet the essence of the US-demo data depends on the date of the data that will be incorporated with, .e.g. the non-immigrant data dates back to 2016 a very close date to 2015 making it relevant.\n",
    "    * If non-immigrant data is updated with data of different dates far from 2015, the US-demographics should be updated, too.\n",
    "- airports may be updated rarely as:\n",
    "     * It's not every day that an airport is built. \n",
    "     * Some data is missing, but it's still fine as both 'ident' airport code column, longitude, latitude and name columns aren't nulls and such data can clearly get you any information about any airpot you need by using maps API such as Google Maps API.\n",
    "\n",
    "\n",
    " "
   ]
  },
  {
   "cell_type": "markdown",
   "metadata": {
    "editable": true
   },
   "source": [
    "**In Case**\n",
    "\n",
    "* The data was increased by 100x:\n",
    "    * EMR cluster should be scalled horizontally. \n",
    "    * An automated processing pipeline should be created, a pipeline that processes the data on regular times, technologies such as Airflow could be empoloyed.\n",
    "* The data populates a dashboard that must be updated on a daily basis by 7am every day:\n",
    "     * An data engineering pipeline technology sould be used where one can set schedules that trigger data processes on timely basis.\n",
    "* The database needed to be accessed by 100+ people.\n",
    "     * Define user access roles and assign the necessary permission for every group of users"
   ]
  }
 ],
 "metadata": {
  "kernelspec": {
   "display_name": "Python 3",
   "language": "python",
   "name": "python3"
  },
  "language_info": {
   "codemirror_mode": {
    "name": "ipython",
    "version": 3
   },
   "file_extension": ".py",
   "mimetype": "text/x-python",
   "name": "python",
   "nbconvert_exporter": "python",
   "pygments_lexer": "ipython3",
   "version": "3.6.3"
  }
 },
 "nbformat": 4,
 "nbformat_minor": 4
}
